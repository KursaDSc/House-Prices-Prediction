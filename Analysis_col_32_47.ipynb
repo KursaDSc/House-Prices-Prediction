{
 "cells": [
  {
   "attachments": {},
   "cell_type": "markdown",
   "metadata": {},
   "source": [
    "# House Prices Prediction"
   ]
  },
  {
   "attachments": {},
   "cell_type": "markdown",
   "metadata": {},
   "source": [
    "## Importing:"
   ]
  },
  {
   "cell_type": "code",
   "execution_count": 4,
   "metadata": {},
   "outputs": [],
   "source": [
    "import pandas as pd\n",
    "import numpy as np\n",
    "import seaborn as sns\n",
    "import matplotlib.pyplot as plt\n",
    "# import plotly.express as px\n",
    "\n",
    "# get_description() is a function to get the description of any column name or a value.\n",
    "# It takes the column/value name, or any list of them:\n",
    "from data_description import get_description\n",
    "\n",
    "%matplotlib inline\n",
    "sns.set_style('darkgrid')"
   ]
  },
  {
   "attachments": {},
   "cell_type": "markdown",
   "metadata": {},
   "source": [
    "### Importing the 'train.csv' and 'test.csv' files:"
   ]
  },
  {
   "cell_type": "code",
   "execution_count": null,
   "metadata": {},
   "outputs": [],
   "source": [
    "train = pd.read_csv('data/train.csv', index_col='Id')\n",
    "test = pd.read_csv('data/test.csv', index_col='Id')"
   ]
  },
  {
   "cell_type": "code",
   "execution_count": 3,
   "metadata": {},
   "outputs": [],
   "source": [
    "# X_train is the training features data\n",
    "X_train = train.drop(['SalePrice'], axis=1)\n",
    "# y is the target variable [SalePrice]\n",
    "y = pd.DataFrame(train['SalePrice'])\n",
    "\n",
    "# X is the combination of the features data from 'train' and 'test'. This is where we'll deal with the NaV values.\n",
    "X = pd.concat([X_train, test], axis=0)"
   ]
  },
  {
   "attachments": {},
   "cell_type": "markdown",
   "metadata": {},
   "source": [
    "## Exploratory Data Analysis"
   ]
  },
  {
   "attachments": {},
   "cell_type": "markdown",
   "metadata": {},
   "source": [
    "### Deviding the features into categorical and numerical:"
   ]
  },
  {
   "cell_type": "code",
   "execution_count": 4,
   "metadata": {},
   "outputs": [
    {
     "name": "stdout",
     "output_type": "stream",
     "text": [
      "Numerical variables [36]:\n",
      "['MSSubClass', 'LotFrontage', 'LotArea', 'OverallQual', 'OverallCond', 'YearBuilt', 'YearRemodAdd', 'MasVnrArea', 'BsmtFinSF1', 'BsmtFinSF2', 'BsmtUnfSF', 'TotalBsmtSF', '1stFlrSF', '2ndFlrSF', 'LowQualFinSF', 'GrLivArea', 'BsmtFullBath', 'BsmtHalfBath', 'FullBath', 'HalfBath', 'BedroomAbvGr', 'KitchenAbvGr', 'TotRmsAbvGrd', 'Fireplaces', 'GarageYrBlt', 'GarageCars', 'GarageArea', 'WoodDeckSF', 'OpenPorchSF', 'EnclosedPorch', '3SsnPorch', 'ScreenPorch', 'PoolArea', 'MiscVal', 'MoSold', 'YrSold']\n",
      "\n",
      "Categorical variables [43]:\n",
      "['MSZoning', 'Street', 'Alley', 'LotShape', 'LandContour', 'Utilities', 'LotConfig', 'LandSlope', 'Neighborhood', 'Condition1', 'Condition2', 'BldgType', 'HouseStyle', 'RoofStyle', 'RoofMatl', 'Exterior1st', 'Exterior2nd', 'MasVnrType', 'ExterQual', 'ExterCond', 'Foundation', 'BsmtQual', 'BsmtCond', 'BsmtExposure', 'BsmtFinType1', 'BsmtFinType2', 'Heating', 'HeatingQC', 'CentralAir', 'Electrical', 'KitchenQual', 'Functional', 'FireplaceQu', 'GarageType', 'GarageFinish', 'GarageQual', 'GarageCond', 'PavedDrive', 'PoolQC', 'Fence', 'MiscFeature', 'SaleType', 'SaleCondition']\n"
     ]
    }
   ],
   "source": [
    "categorical = [x for x in X.columns if X[x].dtype == 'object']\n",
    "numerical = [x for x in X.columns if X[x].dtype != 'object']\n",
    "\n",
    "print(f'Numerical variables [{len(numerical)}]:\\n{numerical}')\n",
    "print()\n",
    "print(f'Categorical variables [{len(categorical)}]:\\n{categorical}')"
   ]
  },
  {
   "attachments": {},
   "cell_type": "markdown",
   "metadata": {},
   "source": [
    "### The features sliced into 5 sets:"
   ]
  },
  {
   "cell_type": "code",
   "execution_count": 5,
   "metadata": {},
   "outputs": [
    {
     "data": {
      "text/plain": [
       "['MSSubClass',\n",
       " 'MSZoning',\n",
       " 'LotFrontage',\n",
       " 'LotArea',\n",
       " 'Street',\n",
       " 'Alley',\n",
       " 'LotShape',\n",
       " 'LandContour',\n",
       " 'Utilities',\n",
       " 'LotConfig',\n",
       " 'LandSlope',\n",
       " 'Neighborhood',\n",
       " 'Condition1',\n",
       " 'Condition2',\n",
       " 'BldgType',\n",
       " 'HouseStyle']"
      ]
     },
     "execution_count": 5,
     "metadata": {},
     "output_type": "execute_result"
    }
   ],
   "source": [
    "feat_set1 = X.columns[0:16].tolist()\n",
    "feat_set1"
   ]
  },
  {
   "cell_type": "code",
   "execution_count": 6,
   "metadata": {},
   "outputs": [
    {
     "data": {
      "text/plain": [
       "['OverallQual',\n",
       " 'OverallCond',\n",
       " 'YearBuilt',\n",
       " 'YearRemodAdd',\n",
       " 'RoofStyle',\n",
       " 'RoofMatl',\n",
       " 'Exterior1st',\n",
       " 'Exterior2nd',\n",
       " 'MasVnrType',\n",
       " 'MasVnrArea',\n",
       " 'ExterQual',\n",
       " 'ExterCond',\n",
       " 'Foundation',\n",
       " 'BsmtQual',\n",
       " 'BsmtCond',\n",
       " 'BsmtExposure']"
      ]
     },
     "execution_count": 6,
     "metadata": {},
     "output_type": "execute_result"
    }
   ],
   "source": [
    "feat_set2 = X.columns[16:32].tolist()\n",
    "feat_set2"
   ]
  },
  {
   "cell_type": "code",
   "execution_count": 7,
   "metadata": {},
   "outputs": [
    {
     "name": "stdout",
     "output_type": "stream",
     "text": [
      "<class 'pandas.core.frame.DataFrame'>\n",
      "Int64Index: 2919 entries, 1 to 2919\n",
      "Data columns (total 16 columns):\n",
      " #   Column        Non-Null Count  Dtype  \n",
      "---  ------        --------------  -----  \n",
      " 0   BsmtFinType1  2840 non-null   object \n",
      " 1   BsmtFinSF1    2918 non-null   float64\n",
      " 2   BsmtFinType2  2839 non-null   object \n",
      " 3   BsmtFinSF2    2918 non-null   float64\n",
      " 4   BsmtUnfSF     2918 non-null   float64\n",
      " 5   TotalBsmtSF   2918 non-null   float64\n",
      " 6   Heating       2919 non-null   object \n",
      " 7   HeatingQC     2919 non-null   object \n",
      " 8   CentralAir    2919 non-null   object \n",
      " 9   Electrical    2918 non-null   object \n",
      " 10  1stFlrSF      2919 non-null   int64  \n",
      " 11  2ndFlrSF      2919 non-null   int64  \n",
      " 12  LowQualFinSF  2919 non-null   int64  \n",
      " 13  GrLivArea     2919 non-null   int64  \n",
      " 14  BsmtFullBath  2917 non-null   float64\n",
      " 15  BsmtHalfBath  2917 non-null   float64\n",
      "dtypes: float64(6), int64(4), object(6)\n",
      "memory usage: 387.7+ KB\n"
     ]
    }
   ],
   "source": [
    "feat_set3 = X.columns[32:48].tolist()\n",
    "fs3 = X[feat_set3] \n",
    "fs3.info()"
   ]
  },
  {
   "cell_type": "code",
   "execution_count": 8,
   "metadata": {},
   "outputs": [],
   "source": [
    "\n",
    "feat_set3_nom = ['BsmtFinType1', 'BsmtFinType2', 'Heating', 'Electrical']\n",
    "feat_set3_ord = ['HeatingQC', 'CentralAir']\n",
    "feat_set3_num = ['BsmtFinSF1', 'BsmtFinSF2', 'BsmtUnfSF', 'TotalBsmtSF', '1stFlrSF', '2ndFlrSF', \n",
    "                 'LowQualFinSF', 'GrLivArea', 'BsmtFullBath', 'BsmtHalfBath', 'SalePrice']\n"
   ]
  },
  {
   "cell_type": "code",
   "execution_count": 9,
   "metadata": {},
   "outputs": [
    {
     "data": {
      "image/png": "[encoded data removed]",
      "text/plain": [
       "<Figure size 800x600 with 1 Axes>"
      ]
     },
     "metadata": {},
     "output_type": "display_data"
    }
   ],
   "source": [
    "sns.set_style('darkgrid')\n",
    "plt.figure(figsize=(8, 6))\n",
    "sns.boxplot(x='CentralAir', y='SalePrice', data=train)\n",
    "title = plt.title('House Price vs. BsmtFinType1')"
   ]
  },
  {
   "cell_type": "code",
   "execution_count": 10,
   "metadata": {},
   "outputs": [
    {
     "data": {
      "image/png": "[encoded data removed]",
      "text/plain": [
       "<Figure size 700x500 with 2 Axes>"
      ]
     },
     "metadata": {},
     "output_type": "display_data"
    }
   ],
   "source": [
    "# Heatmap\n",
    "corr_mat = train[feat_set3_num].corr()\n",
    "corr_mat = corr_mat[abs(corr_mat) >= 0.5]\n",
    "plt.figure(figsize=(7, 5))  # Set the size of the heatmap\n",
    "ax = sns.heatmap(corr_mat, annot=True, cmap='Wistia', fmt=\".2f\", annot_kws={\"fontsize\": 9})\n",
    "ax.set(title='Correlation Heatmap')\n",
    "plt.xticks(rotation=45)\n",
    "plt.yticks(rotation=0);\n"
   ]
  },
  {
   "cell_type": "code",
   "execution_count": 12,
   "metadata": {},
   "outputs": [
    {
     "name": "stdout",
     "output_type": "stream",
     "text": [
      "  BsmtFinType1 BsmtFinType2\n",
      "0          ALQ          ALQ\n",
      "1          BLQ          BLQ\n",
      "2          GLQ          GLQ\n",
      "3          LwQ          LwQ\n",
      "4          Rec          Rec\n",
      "5          Unf          Unf\n",
      "6          NaN          NaN\n"
     ]
    }
   ],
   "source": [
    "# Unique values of all categorical columns\n",
    "dfx = train[[\"BsmtFinType1\", \"BsmtFinType2\"]]\n",
    "unique_sorted_df = pd.concat( [dfx[col].drop_duplicates().sort_values().reset_index(drop=True) \n",
    "                                for col in dfx] , axis = 1\n",
    "                            )\n",
    "print(unique_sorted_df)"
   ]
  },
  {
   "attachments": {},
   "cell_type": "markdown",
   "metadata": {},
   "source": [
    "#### NaN values"
   ]
  },
  {
   "cell_type": "code",
   "execution_count": 82,
   "metadata": {},
   "outputs": [
    {
     "name": "stdout",
     "output_type": "stream",
     "text": [
      "There are 9 features having missing data.\n",
      "\n",
      "Top 10 missing value features:\n",
      "              Count   Percent\n",
      "BsmtFinType2     80  2.740665\n",
      "BsmtFinType1     79  2.706406\n",
      "BsmtFullBath      2  0.068517\n",
      "BsmtHalfBath      2  0.068517\n",
      "BsmtFinSF1        1  0.034258\n",
      "BsmtFinSF2        1  0.034258\n",
      "BsmtUnfSF         1  0.034258\n",
      "TotalBsmtSF       1  0.034258\n",
      "Electrical        1  0.034258 \n",
      "\n",
      "     BsmtFinType1  BsmtFinSF1 BsmtFinType2  BsmtFinSF2  BsmtUnfSF  \\\n",
      "Id                                                                  \n",
      "1380          Unf         0.0          Unf         0.0      384.0   \n",
      "2121          NaN         NaN          NaN         NaN        NaN   \n",
      "2189          NaN         0.0          NaN         0.0        0.0   \n",
      "\n",
      "      TotalBsmtSF Heating HeatingQC CentralAir Electrical  1stFlrSF  2ndFlrSF  \\\n",
      "Id                                                                              \n",
      "1380        384.0    GasA        Gd          Y        NaN       754       640   \n",
      "2121          NaN    GasA        TA          Y      FuseA       896         0   \n",
      "2189          0.0    GasA        TA          Y      SBrkr      3820         0   \n",
      "\n",
      "      LowQualFinSF  GrLivArea  BsmtFullBath  BsmtHalfBath  \n",
      "Id                                                         \n",
      "1380             0       1394           0.0           0.0  \n",
      "2121             0        896           NaN           NaN  \n",
      "2189             0       3820           NaN           NaN  \n",
      "0    SBrkr\n",
      "Name: Electrical, dtype: object\n",
      "SBrkr    2671\n",
      "FuseA     188\n",
      "FuseF      50\n",
      "FuseP       8\n",
      "Mix         1\n",
      "Name: Electrical, dtype: int64\n"
     ]
    },
    {
     "data": {
      "text/plain": [
       "'Electrical field NaN values can be replaced with its mod '"
      ]
     },
     "execution_count": 82,
     "metadata": {},
     "output_type": "execute_result"
    }
   ],
   "source": [
    "# Null values\n",
    "missing_data_count = X[feat_set3].isnull().sum()\n",
    "missing_data_percent = X[feat_set3].isnull().sum() / len(X) * 100\n",
    "\n",
    "missing_data = pd.DataFrame({\n",
    "    'Count': missing_data_count,\n",
    "    'Percent': missing_data_percent\n",
    "})\n",
    "missing_data = missing_data[missing_data.Count > 0]\n",
    "missing_data.sort_values(by='Count', ascending=False, inplace=True)\n",
    "\n",
    "print(f\"There are {missing_data.shape[0]} features having missing data.\\n\")\n",
    "print(\"Top 10 missing value features:\")\n",
    "print(missing_data.head(10),'\\n')\n",
    "\n",
    "\n",
    "\n",
    "rows_with_nan = fs3[fs3['BsmtFullBath'].isna() | fs3['Electrical'].isna()]\n",
    "print(rows_with_nan)\n",
    "\n",
    "print(fs3['Electrical'].mode())\n",
    "print(fs3['Electrical'].value_counts())\n",
    "\n",
    "\"BsmtFinType1 : Rating of basement finished area\"\n",
    "\"BsmtFinType2 : Rating of basement finished area (if multiple types)\"\n",
    "\"BsmtFinSF1 : Type 1 finished square feet\"\n",
    "\"BsmtFinSF2 : Type 2 finished square feet\"\n",
    "\"BsmtUnfSF: Unfinished square feet of basement area\"\n",
    "\"TotalBsmtSF: Total square feet of basement area\"\n",
    "\"BsmtFullBath: Basement full bathrooms\"\n",
    "\"BsmtHalfBath: Basement half bathrooms\"\n",
    "\n",
    "\"All BF type NaN values can be replaced with NA \"\n",
    "\"Because in row 2121 is all basement values Nan, SF valueas can be filled as 0\"\n",
    "\"Basement Full and Half Bath Nan values can be filled with 0 because there is no basement\"\n",
    "\n",
    "\"Electrical: Electrical system\"\n",
    "\"SBrkr\tStandard Circuit Breakers & Romex\"\n",
    "\"FuseA\tFuse Box over 60 AMP and all Romex wiring (Average)\t\"\n",
    "\"FuseF\t60 AMP Fuse Box and mostly Romex wiring (Fair)\"\n",
    "\"FuseP\t60 AMP Fuse Box and mostly knob & tube wiring (poor)\"\n",
    "\"Mix\tMixed\"\n",
    "\n",
    "\"Electrical field NaN values can be replaced with its mod (SBrkr) \""
   ]
  },
  {
   "cell_type": "code",
   "execution_count": null,
   "metadata": {},
   "outputs": [],
   "source": [
    "# Create correlation matrix from train data excluding `SalePrice`\n",
    "corr_mat = train_data.iloc[:, :-1].corr()\n",
    "\n",
    "# Select correlations greater than 0.5\n",
    "high_corr_mat = corr_mat[abs(corr_mat) >= 0.5]\n",
    "\n",
    "# Plot correlation heatmap\n",
    "plt.figure(figsize=(15, 10))\n",
    "sns.heatmap(high_corr_mat,\n",
    "            annot=True,\n",
    "            fmt='.1f',\n",
    "            cmap='GnBu',\n",
    "            vmin=0.5,\n",
    "            vmax=1)\n",
    "title = plt.title('Correlation Heatmap')"
   ]
  },
  {
   "cell_type": "code",
   "execution_count": 36,
   "metadata": {},
   "outputs": [
    {
     "name": "stdout",
     "output_type": "stream",
     "text": [
      "There are 10 numerical features:\n",
      " ['BsmtFinSF1', 'BsmtFinSF2', 'BsmtUnfSF', 'TotalBsmtSF', '1stFlrSF', '2ndFlrSF', 'LowQualFinSF', 'GrLivArea', 'BsmtFullBath', 'BsmtHalfBath']\n",
      "There are 6 categorical features:\n",
      " ['BsmtFinType1', 'BsmtFinType2', 'Heating', 'HeatingQC', 'CentralAir', 'Electrical']\n"
     ]
    }
   ],
   "source": [
    "numCols = list(fs3.select_dtypes(exclude='object').columns)\n",
    "catCols = list(fs3.select_dtypes(include='object').columns)\n",
    "print(f\"There are {len(numCols)} numerical features:\\n\", numCols)\n",
    "print(f\"There are {len(catCols)} categorical features:\\n\", catCols)"
   ]
  },
  {
   "attachments": {},
   "cell_type": "markdown",
   "metadata": {},
   "source": []
  },
  {
   "cell_type": "code",
   "execution_count": 8,
   "metadata": {},
   "outputs": [
    {
     "data": {
      "text/plain": [
       "['FullBath',\n",
       " 'HalfBath',\n",
       " 'BedroomAbvGr',\n",
       " 'KitchenAbvGr',\n",
       " 'KitchenQual',\n",
       " 'TotRmsAbvGrd',\n",
       " 'Functional',\n",
       " 'Fireplaces',\n",
       " 'FireplaceQu',\n",
       " 'GarageType',\n",
       " 'GarageYrBlt',\n",
       " 'GarageFinish',\n",
       " 'GarageCars',\n",
       " 'GarageArea',\n",
       " 'GarageQual',\n",
       " 'GarageCond']"
      ]
     },
     "execution_count": 8,
     "metadata": {},
     "output_type": "execute_result"
    }
   ],
   "source": [
    "feat_set4 = X.columns[48:64].tolist()\n",
    "feat_set4"
   ]
  },
  {
   "cell_type": "code",
   "execution_count": 9,
   "metadata": {},
   "outputs": [
    {
     "data": {
      "text/plain": [
       "['PavedDrive',\n",
       " 'WoodDeckSF',\n",
       " 'OpenPorchSF',\n",
       " 'EnclosedPorch',\n",
       " '3SsnPorch',\n",
       " 'ScreenPorch',\n",
       " 'PoolArea',\n",
       " 'PoolQC',\n",
       " 'Fence',\n",
       " 'MiscFeature',\n",
       " 'MiscVal',\n",
       " 'MoSold',\n",
       " 'YrSold',\n",
       " 'SaleType',\n",
       " 'SaleCondition']"
      ]
     },
     "execution_count": 9,
     "metadata": {},
     "output_type": "execute_result"
    }
   ],
   "source": [
    "feat_set5 = X.columns[64:80].tolist()\n",
    "feat_set5"
   ]
  },
  {
   "attachments": {},
   "cell_type": "markdown",
   "metadata": {},
   "source": [
    "### Analysis:"
   ]
  },
  {
   "cell_type": "code",
   "execution_count": null,
   "metadata": {},
   "outputs": [],
   "source": []
  },
  {
   "cell_type": "code",
   "execution_count": null,
   "metadata": {},
   "outputs": [],
   "source": []
  },
  {
   "cell_type": "code",
   "execution_count": null,
   "metadata": {},
   "outputs": [],
   "source": []
  },
  {
   "attachments": {},
   "cell_type": "markdown",
   "metadata": {},
   "source": [
    "## Preparing the Data:"
   ]
  },
  {
   "attachments": {},
   "cell_type": "markdown",
   "metadata": {},
   "source": [
    "### Missing Values:"
   ]
  },
  {
   "cell_type": "code",
   "execution_count": 14,
   "metadata": {},
   "outputs": [
    {
     "data": {
      "text/html": [
       "<div>\n",
       "<style scoped>\n",
       "    .dataframe tbody tr th:only-of-type {\n",
       "        vertical-align: middle;\n",
       "    }\n",
       "\n",
       "    .dataframe tbody tr th {\n",
       "        vertical-align: top;\n",
       "    }\n",
       "\n",
       "    .dataframe thead th {\n",
       "        text-align: right;\n",
       "    }\n",
       "</style>\n",
       "<table border=\"1\" class=\"dataframe\">\n",
       "  <thead>\n",
       "    <tr style=\"text-align: right;\">\n",
       "      <th></th>\n",
       "      <th>NaN Count</th>\n",
       "      <th>Percentage [%]</th>\n",
       "    </tr>\n",
       "    <tr>\n",
       "      <th>Column Name</th>\n",
       "      <th></th>\n",
       "      <th></th>\n",
       "    </tr>\n",
       "  </thead>\n",
       "  <tbody>\n",
       "    <tr>\n",
       "      <th>PoolQC</th>\n",
       "      <td>2909</td>\n",
       "      <td>99.657417</td>\n",
       "    </tr>\n",
       "    <tr>\n",
       "      <th>MiscFeature</th>\n",
       "      <td>2814</td>\n",
       "      <td>96.402878</td>\n",
       "    </tr>\n",
       "    <tr>\n",
       "      <th>Alley</th>\n",
       "      <td>2721</td>\n",
       "      <td>93.216855</td>\n",
       "    </tr>\n",
       "    <tr>\n",
       "      <th>Fence</th>\n",
       "      <td>2348</td>\n",
       "      <td>80.438506</td>\n",
       "    </tr>\n",
       "    <tr>\n",
       "      <th>FireplaceQu</th>\n",
       "      <td>1420</td>\n",
       "      <td>48.646797</td>\n",
       "    </tr>\n",
       "    <tr>\n",
       "      <th>LotFrontage</th>\n",
       "      <td>486</td>\n",
       "      <td>16.649538</td>\n",
       "    </tr>\n",
       "    <tr>\n",
       "      <th>GarageYrBlt</th>\n",
       "      <td>159</td>\n",
       "      <td>5.447071</td>\n",
       "    </tr>\n",
       "    <tr>\n",
       "      <th>GarageFinish</th>\n",
       "      <td>159</td>\n",
       "      <td>5.447071</td>\n",
       "    </tr>\n",
       "    <tr>\n",
       "      <th>GarageQual</th>\n",
       "      <td>159</td>\n",
       "      <td>5.447071</td>\n",
       "    </tr>\n",
       "    <tr>\n",
       "      <th>GarageCond</th>\n",
       "      <td>159</td>\n",
       "      <td>5.447071</td>\n",
       "    </tr>\n",
       "    <tr>\n",
       "      <th>GarageType</th>\n",
       "      <td>157</td>\n",
       "      <td>5.378554</td>\n",
       "    </tr>\n",
       "    <tr>\n",
       "      <th>BsmtExposure</th>\n",
       "      <td>82</td>\n",
       "      <td>2.809181</td>\n",
       "    </tr>\n",
       "    <tr>\n",
       "      <th>BsmtCond</th>\n",
       "      <td>82</td>\n",
       "      <td>2.809181</td>\n",
       "    </tr>\n",
       "    <tr>\n",
       "      <th>BsmtQual</th>\n",
       "      <td>81</td>\n",
       "      <td>2.774923</td>\n",
       "    </tr>\n",
       "    <tr>\n",
       "      <th>BsmtFinType2</th>\n",
       "      <td>80</td>\n",
       "      <td>2.740665</td>\n",
       "    </tr>\n",
       "    <tr>\n",
       "      <th>BsmtFinType1</th>\n",
       "      <td>79</td>\n",
       "      <td>2.706406</td>\n",
       "    </tr>\n",
       "    <tr>\n",
       "      <th>MasVnrType</th>\n",
       "      <td>24</td>\n",
       "      <td>0.822199</td>\n",
       "    </tr>\n",
       "    <tr>\n",
       "      <th>MasVnrArea</th>\n",
       "      <td>23</td>\n",
       "      <td>0.787941</td>\n",
       "    </tr>\n",
       "    <tr>\n",
       "      <th>MSZoning</th>\n",
       "      <td>4</td>\n",
       "      <td>0.137033</td>\n",
       "    </tr>\n",
       "    <tr>\n",
       "      <th>Functional</th>\n",
       "      <td>2</td>\n",
       "      <td>0.068517</td>\n",
       "    </tr>\n",
       "    <tr>\n",
       "      <th>BsmtHalfBath</th>\n",
       "      <td>2</td>\n",
       "      <td>0.068517</td>\n",
       "    </tr>\n",
       "    <tr>\n",
       "      <th>BsmtFullBath</th>\n",
       "      <td>2</td>\n",
       "      <td>0.068517</td>\n",
       "    </tr>\n",
       "    <tr>\n",
       "      <th>Utilities</th>\n",
       "      <td>2</td>\n",
       "      <td>0.068517</td>\n",
       "    </tr>\n",
       "    <tr>\n",
       "      <th>SaleType</th>\n",
       "      <td>1</td>\n",
       "      <td>0.034258</td>\n",
       "    </tr>\n",
       "    <tr>\n",
       "      <th>BsmtFinSF1</th>\n",
       "      <td>1</td>\n",
       "      <td>0.034258</td>\n",
       "    </tr>\n",
       "    <tr>\n",
       "      <th>KitchenQual</th>\n",
       "      <td>1</td>\n",
       "      <td>0.034258</td>\n",
       "    </tr>\n",
       "    <tr>\n",
       "      <th>GarageCars</th>\n",
       "      <td>1</td>\n",
       "      <td>0.034258</td>\n",
       "    </tr>\n",
       "    <tr>\n",
       "      <th>BsmtUnfSF</th>\n",
       "      <td>1</td>\n",
       "      <td>0.034258</td>\n",
       "    </tr>\n",
       "    <tr>\n",
       "      <th>TotalBsmtSF</th>\n",
       "      <td>1</td>\n",
       "      <td>0.034258</td>\n",
       "    </tr>\n",
       "    <tr>\n",
       "      <th>Exterior2nd</th>\n",
       "      <td>1</td>\n",
       "      <td>0.034258</td>\n",
       "    </tr>\n",
       "    <tr>\n",
       "      <th>Exterior1st</th>\n",
       "      <td>1</td>\n",
       "      <td>0.034258</td>\n",
       "    </tr>\n",
       "    <tr>\n",
       "      <th>GarageArea</th>\n",
       "      <td>1</td>\n",
       "      <td>0.034258</td>\n",
       "    </tr>\n",
       "    <tr>\n",
       "      <th>Electrical</th>\n",
       "      <td>1</td>\n",
       "      <td>0.034258</td>\n",
       "    </tr>\n",
       "    <tr>\n",
       "      <th>BsmtFinSF2</th>\n",
       "      <td>1</td>\n",
       "      <td>0.034258</td>\n",
       "    </tr>\n",
       "  </tbody>\n",
       "</table>\n",
       "</div>"
      ],
      "text/plain": [
       "              NaN Count  Percentage [%]\n",
       "Column Name                            \n",
       "PoolQC             2909       99.657417\n",
       "MiscFeature        2814       96.402878\n",
       "Alley              2721       93.216855\n",
       "Fence              2348       80.438506\n",
       "FireplaceQu        1420       48.646797\n",
       "LotFrontage         486       16.649538\n",
       "GarageYrBlt         159        5.447071\n",
       "GarageFinish        159        5.447071\n",
       "GarageQual          159        5.447071\n",
       "GarageCond          159        5.447071\n",
       "GarageType          157        5.378554\n",
       "BsmtExposure         82        2.809181\n",
       "BsmtCond             82        2.809181\n",
       "BsmtQual             81        2.774923\n",
       "BsmtFinType2         80        2.740665\n",
       "BsmtFinType1         79        2.706406\n",
       "MasVnrType           24        0.822199\n",
       "MasVnrArea           23        0.787941\n",
       "MSZoning              4        0.137033\n",
       "Functional            2        0.068517\n",
       "BsmtHalfBath          2        0.068517\n",
       "BsmtFullBath          2        0.068517\n",
       "Utilities             2        0.068517\n",
       "SaleType              1        0.034258\n",
       "BsmtFinSF1            1        0.034258\n",
       "KitchenQual           1        0.034258\n",
       "GarageCars            1        0.034258\n",
       "BsmtUnfSF             1        0.034258\n",
       "TotalBsmtSF           1        0.034258\n",
       "Exterior2nd           1        0.034258\n",
       "Exterior1st           1        0.034258\n",
       "GarageArea            1        0.034258\n",
       "Electrical            1        0.034258\n",
       "BsmtFinSF2            1        0.034258"
      ]
     },
     "execution_count": 14,
     "metadata": {},
     "output_type": "execute_result"
    }
   ],
   "source": [
    "missing_count = X.isna().sum(axis=0)\n",
    "missing_percent = missing_count / len(X) * 100\n",
    "\n",
    "missing_data = pd.DataFrame({\n",
    "    'NaN Count': missing_count,\n",
    "    'Percentage [%]': missing_percent\n",
    "}).sort_values(by='NaN Count', ascending=False)\n",
    "missing_data.index.name = 'Column Name'\n",
    "\n",
    "missing_data = missing_data[missing_data['NaN Count'] > 0]\n",
    "missing_data"
   ]
  },
  {
   "cell_type": "code",
   "execution_count": null,
   "metadata": {},
   "outputs": [],
   "source": []
  }
 ],
 "metadata": {
  "kernelspec": {
   "display_name": "base",
   "language": "python",
   "name": "python3"
  },
  "language_info": {
   "codemirror_mode": {
    "name": "ipython",
    "version": 3
   },
   "file_extension": ".py",
   "mimetype": "text/x-python",
   "name": "python",
   "nbconvert_exporter": "python",
   "pygments_lexer": "ipython3",
   "version": "3.11.2"
  },
  "orig_nbformat": 4
 },
 "nbformat": 4,
 "nbformat_minor": 2
}
