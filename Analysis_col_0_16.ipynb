{
 "cells": [
  {
   "attachments": {},
   "cell_type": "markdown",
   "metadata": {},
   "source": [
    "# House Prices Prediction"
   ]
  },
  {
   "attachments": {},
   "cell_type": "markdown",
   "metadata": {},
   "source": [
    "## Importing:"
   ]
  },
  {
   "cell_type": "code",
   "execution_count": 1,
   "metadata": {},
   "outputs": [],
   "source": [
    "import pandas as pd\n",
    "import numpy as np\n",
    "import seaborn as sns\n",
    "import matplotlib.pyplot as plt\n",
    "import plotly.express as px\n",
    "\n",
    "# get_description() is a function to get the description of any column name or a value.\n",
    "# It takes the column/value name, or any list of them:\n",
    "from data_description import get_description\n",
    "\n",
    "%matplotlib inline\n",
    "sns.set_style('darkgrid')"
   ]
  },
  {
   "attachments": {},
   "cell_type": "markdown",
   "metadata": {},
   "source": [
    "### Importing the 'train.csv' and 'test.csv' files:"
   ]
  },
  {
   "cell_type": "code",
   "execution_count": 2,
   "metadata": {},
   "outputs": [],
   "source": [
    "train = pd.read_csv('data/train.csv', index_col='Id')\n",
    "test = pd.read_csv('data/test.csv', index_col='Id')"
   ]
  },
  {
   "cell_type": "code",
   "execution_count": 3,
   "metadata": {},
   "outputs": [],
   "source": [
    "# X_train is the training features data\n",
    "X_train = train.drop(['SalePrice'], axis=1)\n",
    "# y is the target variable [SalePrice]\n",
    "y = pd.DataFrame(train['SalePrice'])\n",
    "\n",
    "# X is the combination of the features data from 'train' and 'test'. This is where we'll deal with the NaV values.\n",
    "X = pd.concat([X_train, test], axis=0)"
   ]
  },
  {
   "attachments": {},
   "cell_type": "markdown",
   "metadata": {},
   "source": [
    "## Exploratory Data Analysis"
   ]
  },
  {
   "attachments": {},
   "cell_type": "markdown",
   "metadata": {},
   "source": [
    "### Deviding the features into categorical and numerical:"
   ]
  },
  {
   "cell_type": "code",
   "execution_count": 4,
   "metadata": {},
   "outputs": [
    {
     "name": "stdout",
     "output_type": "stream",
     "text": [
      "Numerical variables [36]:\n",
      "['MSSubClass', 'LotFrontage', 'LotArea', 'OverallQual', 'OverallCond', 'YearBuilt', 'YearRemodAdd', 'MasVnrArea', 'BsmtFinSF1', 'BsmtFinSF2', 'BsmtUnfSF', 'TotalBsmtSF', '1stFlrSF', '2ndFlrSF', 'LowQualFinSF', 'GrLivArea', 'BsmtFullBath', 'BsmtHalfBath', 'FullBath', 'HalfBath', 'BedroomAbvGr', 'KitchenAbvGr', 'TotRmsAbvGrd', 'Fireplaces', 'GarageYrBlt', 'GarageCars', 'GarageArea', 'WoodDeckSF', 'OpenPorchSF', 'EnclosedPorch', '3SsnPorch', 'ScreenPorch', 'PoolArea', 'MiscVal', 'MoSold', 'YrSold']\n",
      "\n",
      "Categorical variables [43]:\n",
      "['MSZoning', 'Street', 'Alley', 'LotShape', 'LandContour', 'Utilities', 'LotConfig', 'LandSlope', 'Neighborhood', 'Condition1', 'Condition2', 'BldgType', 'HouseStyle', 'RoofStyle', 'RoofMatl', 'Exterior1st', 'Exterior2nd', 'MasVnrType', 'ExterQual', 'ExterCond', 'Foundation', 'BsmtQual', 'BsmtCond', 'BsmtExposure', 'BsmtFinType1', 'BsmtFinType2', 'Heating', 'HeatingQC', 'CentralAir', 'Electrical', 'KitchenQual', 'Functional', 'FireplaceQu', 'GarageType', 'GarageFinish', 'GarageQual', 'GarageCond', 'PavedDrive', 'PoolQC', 'Fence', 'MiscFeature', 'SaleType', 'SaleCondition']\n"
     ]
    }
   ],
   "source": [
    "categorical = [x for x in X.columns if X[x].dtype == 'object']\n",
    "numerical = [x for x in X.columns if X[x].dtype != 'object']\n",
    "\n",
    "print(f'Numerical variables [{len(numerical)}]:\\n{numerical}')\n",
    "print()\n",
    "print(f'Categorical variables [{len(categorical)}]:\\n{categorical}')"
   ]
  },
  {
   "attachments": {},
   "cell_type": "markdown",
   "metadata": {},
   "source": [
    "### The features sliced into 5 sets:"
   ]
  },
  {
   "cell_type": "code",
   "execution_count": 5,
   "metadata": {},
   "outputs": [
    {
     "data": {
      "text/plain": [
       "['MSSubClass',\n",
       " 'MSZoning',\n",
       " 'LotFrontage',\n",
       " 'LotArea',\n",
       " 'Street',\n",
       " 'Alley',\n",
       " 'LotShape',\n",
       " 'LandContour',\n",
       " 'Utilities',\n",
       " 'LotConfig',\n",
       " 'LandSlope',\n",
       " 'Neighborhood',\n",
       " 'Condition1',\n",
       " 'Condition2',\n",
       " 'BldgType',\n",
       " 'HouseStyle']"
      ]
     },
     "execution_count": 5,
     "metadata": {},
     "output_type": "execute_result"
    }
   ],
   "source": [
    "feat_set1 = X.columns[0:16].tolist()\n",
    "feat_set1"
   ]
  },
  {
   "cell_type": "code",
   "execution_count": null,
   "metadata": {},
   "outputs": [
    {
     "data": {
      "text/plain": [
       "['OverallQual',\n",
       " 'OverallCond',\n",
       " 'YearBuilt',\n",
       " 'YearRemodAdd',\n",
       " 'RoofStyle',\n",
       " 'RoofMatl',\n",
       " 'Exterior1st',\n",
       " 'Exterior2nd',\n",
       " 'MasVnrType',\n",
       " 'MasVnrArea',\n",
       " 'ExterQual',\n",
       " 'ExterCond',\n",
       " 'Foundation',\n",
       " 'BsmtQual',\n",
       " 'BsmtCond',\n",
       " 'BsmtExposure']"
      ]
     },
     "execution_count": 94,
     "metadata": {},
     "output_type": "execute_result"
    }
   ],
   "source": [
    "feat_set2 = X.columns[16:32].tolist()\n",
    "feat_set2"
   ]
  },
  {
   "cell_type": "code",
   "execution_count": null,
   "metadata": {},
   "outputs": [
    {
     "data": {
      "text/plain": [
       "['BsmtFinType1',\n",
       " 'BsmtFinSF1',\n",
       " 'BsmtFinType2',\n",
       " 'BsmtFinSF2',\n",
       " 'BsmtUnfSF',\n",
       " 'TotalBsmtSF',\n",
       " 'Heating',\n",
       " 'HeatingQC',\n",
       " 'CentralAir',\n",
       " 'Electrical',\n",
       " '1stFlrSF',\n",
       " '2ndFlrSF',\n",
       " 'LowQualFinSF',\n",
       " 'GrLivArea',\n",
       " 'BsmtFullBath',\n",
       " 'BsmtHalfBath']"
      ]
     },
     "execution_count": 95,
     "metadata": {},
     "output_type": "execute_result"
    }
   ],
   "source": [
    "feat_set3 = X.columns[32:48].tolist()\n",
    "feat_set3"
   ]
  },
  {
   "cell_type": "code",
   "execution_count": null,
   "metadata": {},
   "outputs": [
    {
     "data": {
      "text/plain": [
       "['FullBath',\n",
       " 'HalfBath',\n",
       " 'BedroomAbvGr',\n",
       " 'KitchenAbvGr',\n",
       " 'KitchenQual',\n",
       " 'TotRmsAbvGrd',\n",
       " 'Functional',\n",
       " 'Fireplaces',\n",
       " 'FireplaceQu',\n",
       " 'GarageType',\n",
       " 'GarageYrBlt',\n",
       " 'GarageFinish',\n",
       " 'GarageCars',\n",
       " 'GarageArea',\n",
       " 'GarageQual',\n",
       " 'GarageCond']"
      ]
     },
     "execution_count": 96,
     "metadata": {},
     "output_type": "execute_result"
    }
   ],
   "source": [
    "feat_set4 = X.columns[48:64].tolist()\n",
    "feat_set4"
   ]
  },
  {
   "cell_type": "code",
   "execution_count": null,
   "metadata": {},
   "outputs": [
    {
     "data": {
      "text/plain": [
       "['PavedDrive',\n",
       " 'WoodDeckSF',\n",
       " 'OpenPorchSF',\n",
       " 'EnclosedPorch',\n",
       " '3SsnPorch',\n",
       " 'ScreenPorch',\n",
       " 'PoolArea',\n",
       " 'PoolQC',\n",
       " 'Fence',\n",
       " 'MiscFeature',\n",
       " 'MiscVal',\n",
       " 'MoSold',\n",
       " 'YrSold',\n",
       " 'SaleType',\n",
       " 'SaleCondition']"
      ]
     },
     "execution_count": 97,
     "metadata": {},
     "output_type": "execute_result"
    }
   ],
   "source": [
    "feat_set4 = X.columns[64:80].tolist()\n",
    "feat_set4"
   ]
  },
  {
   "attachments": {},
   "cell_type": "markdown",
   "metadata": {},
   "source": [
    "### Analysis:"
   ]
  },
  {
   "cell_type": "code",
   "execution_count": null,
   "metadata": {},
   "outputs": [
    {
     "data": {
      "text/plain": [
       "['MSSubClass',\n",
       " 'MSZoning',\n",
       " 'LotFrontage',\n",
       " 'LotArea',\n",
       " 'Street',\n",
       " 'Alley',\n",
       " 'LotShape',\n",
       " 'LandContour',\n",
       " 'Utilities',\n",
       " 'LotConfig',\n",
       " 'LandSlope',\n",
       " 'Neighborhood',\n",
       " 'Condition1',\n",
       " 'Condition2',\n",
       " 'BldgType',\n",
       " 'HouseStyle']"
      ]
     },
     "execution_count": 98,
     "metadata": {},
     "output_type": "execute_result"
    }
   ],
   "source": [
    "feat_set1"
   ]
  },
  {
   "cell_type": "code",
   "execution_count": null,
   "metadata": {},
   "outputs": [
    {
     "data": {
      "text/plain": [
       "RL         2265\n",
       "RM          460\n",
       "FV          139\n",
       "RH           26\n",
       "C (all)      25\n",
       "Name: MSZoning, dtype: int64"
      ]
     },
     "execution_count": 99,
     "metadata": {},
     "output_type": "execute_result"
    }
   ],
   "source": [
    "X['MSZoning'].value_counts()"
   ]
  },
  {
   "cell_type": "code",
   "execution_count": null,
   "metadata": {},
   "outputs": [
    {
     "data": {
      "application/vnd.plotly.v1+json": {
       "config": {
        "plotlyServerURL": "https://plot.ly"
       },
       "data": [
        {
         "alignmentgroup": "True",
         "hovertemplate": "SalePrice=%{marker.color}<br>MSZoning=%{y}<extra></extra>",
         "legendgroup": "",
         "marker": {
          "color": [
           74528,
           126317,
           131558,
           191005,
           214014
          ],
          "coloraxis": "coloraxis",
          "pattern": {
           "shape": ""
          }
         },
         "name": "",
         "offsetgroup": "",
         "orientation": "h",
         "showlegend": false,
         "textposition": "auto",
         "texttemplate": "%{x}",
         "type": "bar",
         "x": [
          74528,
          126317,
          131558,
          191005,
          214014
         ],
         "xaxis": "x",
         "y": [
          "Commercial",
          "Residential Medium Density",
          "Residential High Density",
          "Residential Low Density",
          "Floating Village Residential"
         ],
         "yaxis": "y"
        }
       ],
       "layout": {
        "barmode": "relative",
        "coloraxis": {
         "colorbar": {
          "title": {
           "text": "SalePrice"
          }
         },
         "colorscale": [
          [
           0,
           "#0d0887"
          ],
          [
           0.1111111111111111,
           "#46039f"
          ],
          [
           0.2222222222222222,
           "#7201a8"
          ],
          [
           0.3333333333333333,
           "#9c179e"
          ],
          [
           0.4444444444444444,
           "#bd3786"
          ],
          [
           0.5555555555555556,
           "#d8576b"
          ],
          [
           0.6666666666666666,
           "#ed7953"
          ],
          [
           0.7777777777777778,
           "#fb9f3a"
          ],
          [
           0.8888888888888888,
           "#fdca26"
          ],
          [
           1,
           "#f0f921"
          ]
         ]
        },
        "legend": {
         "tracegroupgap": 0
        },
        "margin": {
         "t": 60
        },
        "template": {
         "data": {
          "bar": [
           {
            "error_x": {
             "color": "#2a3f5f"
            },
            "error_y": {
             "color": "#2a3f5f"
            },
            "marker": {
             "line": {
              "color": "#E5ECF6",
              "width": 0.5
             },
             "pattern": {
              "fillmode": "overlay",
              "size": 10,
              "solidity": 0.2
             }
            },
            "type": "bar"
           }
          ],
          "barpolar": [
           {
            "marker": {
             "line": {
              "color": "#E5ECF6",
              "width": 0.5
             },
             "pattern": {
              "fillmode": "overlay",
              "size": 10,
              "solidity": 0.2
             }
            },
            "type": "barpolar"
           }
          ],
          "carpet": [
           {
            "aaxis": {
             "endlinecolor": "#2a3f5f",
             "gridcolor": "white",
             "linecolor": "white",
             "minorgridcolor": "white",
             "startlinecolor": "#2a3f5f"
            },
            "baxis": {
             "endlinecolor": "#2a3f5f",
             "gridcolor": "white",
             "linecolor": "white",
             "minorgridcolor": "white",
             "startlinecolor": "#2a3f5f"
            },
            "type": "carpet"
           }
          ],
          "choropleth": [
           {
            "colorbar": {
             "outlinewidth": 0,
             "ticks": ""
            },
            "type": "choropleth"
           }
          ],
          "contour": [
           {
            "colorbar": {
             "outlinewidth": 0,
             "ticks": ""
            },
            "colorscale": [
             [
              0,
              "#0d0887"
             ],
             [
              0.1111111111111111,
              "#46039f"
             ],
             [
              0.2222222222222222,
              "#7201a8"
             ],
             [
              0.3333333333333333,
              "#9c179e"
             ],
             [
              0.4444444444444444,
              "#bd3786"
             ],
             [
              0.5555555555555556,
              "#d8576b"
             ],
             [
              0.6666666666666666,
              "#ed7953"
             ],
             [
              0.7777777777777778,
              "#fb9f3a"
             ],
             [
              0.8888888888888888,
              "#fdca26"
             ],
             [
              1,
              "#f0f921"
             ]
            ],
            "type": "contour"
           }
          ],
          "contourcarpet": [
           {
            "colorbar": {
             "outlinewidth": 0,
             "ticks": ""
            },
            "type": "contourcarpet"
           }
          ],
          "heatmap": [
           {
            "colorbar": {
             "outlinewidth": 0,
             "ticks": ""
            },
            "colorscale": [
             [
              0,
              "#0d0887"
             ],
             [
              0.1111111111111111,
              "#46039f"
             ],
             [
              0.2222222222222222,
              "#7201a8"
             ],
             [
              0.3333333333333333,
              "#9c179e"
             ],
             [
              0.4444444444444444,
              "#bd3786"
             ],
             [
              0.5555555555555556,
              "#d8576b"
             ],
             [
              0.6666666666666666,
              "#ed7953"
             ],
             [
              0.7777777777777778,
              "#fb9f3a"
             ],
             [
              0.8888888888888888,
              "#fdca26"
             ],
             [
              1,
              "#f0f921"
             ]
            ],
            "type": "heatmap"
           }
          ],
          "heatmapgl": [
           {
            "colorbar": {
             "outlinewidth": 0,
             "ticks": ""
            },
            "colorscale": [
             [
              0,
              "#0d0887"
             ],
             [
              0.1111111111111111,
              "#46039f"
             ],
             [
              0.2222222222222222,
              "#7201a8"
             ],
             [
              0.3333333333333333,
              "#9c179e"
             ],
             [
              0.4444444444444444,
              "#bd3786"
             ],
             [
              0.5555555555555556,
              "#d8576b"
             ],
             [
              0.6666666666666666,
              "#ed7953"
             ],
             [
              0.7777777777777778,
              "#fb9f3a"
             ],
             [
              0.8888888888888888,
              "#fdca26"
             ],
             [
              1,
              "#f0f921"
             ]
            ],
            "type": "heatmapgl"
           }
          ],
          "histogram": [
           {
            "marker": {
             "pattern": {
              "fillmode": "overlay",
              "size": 10,
              "solidity": 0.2
             }
            },
            "type": "histogram"
           }
          ],
          "histogram2d": [
           {
            "colorbar": {
             "outlinewidth": 0,
             "ticks": ""
            },
            "colorscale": [
             [
              0,
              "#0d0887"
             ],
             [
              0.1111111111111111,
              "#46039f"
             ],
             [
              0.2222222222222222,
              "#7201a8"
             ],
             [
              0.3333333333333333,
              "#9c179e"
             ],
             [
              0.4444444444444444,
              "#bd3786"
             ],
             [
              0.5555555555555556,
              "#d8576b"
             ],
             [
              0.6666666666666666,
              "#ed7953"
             ],
             [
              0.7777777777777778,
              "#fb9f3a"
             ],
             [
              0.8888888888888888,
              "#fdca26"
             ],
             [
              1,
              "#f0f921"
             ]
            ],
            "type": "histogram2d"
           }
          ],
          "histogram2dcontour": [
           {
            "colorbar": {
             "outlinewidth": 0,
             "ticks": ""
            },
            "colorscale": [
             [
              0,
              "#0d0887"
             ],
             [
              0.1111111111111111,
              "#46039f"
             ],
             [
              0.2222222222222222,
              "#7201a8"
             ],
             [
              0.3333333333333333,
              "#9c179e"
             ],
             [
              0.4444444444444444,
              "#bd3786"
             ],
             [
              0.5555555555555556,
              "#d8576b"
             ],
             [
              0.6666666666666666,
              "#ed7953"
             ],
             [
              0.7777777777777778,
              "#fb9f3a"
             ],
             [
              0.8888888888888888,
              "#fdca26"
             ],
             [
              1,
              "#f0f921"
             ]
            ],
            "type": "histogram2dcontour"
           }
          ],
          "mesh3d": [
           {
            "colorbar": {
             "outlinewidth": 0,
             "ticks": ""
            },
            "type": "mesh3d"
           }
          ],
          "parcoords": [
           {
            "line": {
             "colorbar": {
              "outlinewidth": 0,
              "ticks": ""
             }
            },
            "type": "parcoords"
           }
          ],
          "pie": [
           {
            "automargin": true,
            "type": "pie"
           }
          ],
          "scatter": [
           {
            "fillpattern": {
             "fillmode": "overlay",
             "size": 10,
             "solidity": 0.2
            },
            "type": "scatter"
           }
          ],
          "scatter3d": [
           {
            "line": {
             "colorbar": {
              "outlinewidth": 0,
              "ticks": ""
             }
            },
            "marker": {
             "colorbar": {
              "outlinewidth": 0,
              "ticks": ""
             }
            },
            "type": "scatter3d"
           }
          ],
          "scattercarpet": [
           {
            "marker": {
             "colorbar": {
              "outlinewidth": 0,
              "ticks": ""
             }
            },
            "type": "scattercarpet"
           }
          ],
          "scattergeo": [
           {
            "marker": {
             "colorbar": {
              "outlinewidth": 0,
              "ticks": ""
             }
            },
            "type": "scattergeo"
           }
          ],
          "scattergl": [
           {
            "marker": {
             "colorbar": {
              "outlinewidth": 0,
              "ticks": ""
             }
            },
            "type": "scattergl"
           }
          ],
          "scattermapbox": [
           {
            "marker": {
             "colorbar": {
              "outlinewidth": 0,
              "ticks": ""
             }
            },
            "type": "scattermapbox"
           }
          ],
          "scatterpolar": [
           {
            "marker": {
             "colorbar": {
              "outlinewidth": 0,
              "ticks": ""
             }
            },
            "type": "scatterpolar"
           }
          ],
          "scatterpolargl": [
           {
            "marker": {
             "colorbar": {
              "outlinewidth": 0,
              "ticks": ""
             }
            },
            "type": "scatterpolargl"
           }
          ],
          "scatterternary": [
           {
            "marker": {
             "colorbar": {
              "outlinewidth": 0,
              "ticks": ""
             }
            },
            "type": "scatterternary"
           }
          ],
          "surface": [
           {
            "colorbar": {
             "outlinewidth": 0,
             "ticks": ""
            },
            "colorscale": [
             [
              0,
              "#0d0887"
             ],
             [
              0.1111111111111111,
              "#46039f"
             ],
             [
              0.2222222222222222,
              "#7201a8"
             ],
             [
              0.3333333333333333,
              "#9c179e"
             ],
             [
              0.4444444444444444,
              "#bd3786"
             ],
             [
              0.5555555555555556,
              "#d8576b"
             ],
             [
              0.6666666666666666,
              "#ed7953"
             ],
             [
              0.7777777777777778,
              "#fb9f3a"
             ],
             [
              0.8888888888888888,
              "#fdca26"
             ],
             [
              1,
              "#f0f921"
             ]
            ],
            "type": "surface"
           }
          ],
          "table": [
           {
            "cells": {
             "fill": {
              "color": "#EBF0F8"
             },
             "line": {
              "color": "white"
             }
            },
            "header": {
             "fill": {
              "color": "#C8D4E3"
             },
             "line": {
              "color": "white"
             }
            },
            "type": "table"
           }
          ]
         },
         "layout": {
          "annotationdefaults": {
           "arrowcolor": "#2a3f5f",
           "arrowhead": 0,
           "arrowwidth": 1
          },
          "autotypenumbers": "strict",
          "coloraxis": {
           "colorbar": {
            "outlinewidth": 0,
            "ticks": ""
           }
          },
          "colorscale": {
           "diverging": [
            [
             0,
             "#8e0152"
            ],
            [
             0.1,
             "#c51b7d"
            ],
            [
             0.2,
             "#de77ae"
            ],
            [
             0.3,
             "#f1b6da"
            ],
            [
             0.4,
             "#fde0ef"
            ],
            [
             0.5,
             "#f7f7f7"
            ],
            [
             0.6,
             "#e6f5d0"
            ],
            [
             0.7,
             "#b8e186"
            ],
            [
             0.8,
             "#7fbc41"
            ],
            [
             0.9,
             "#4d9221"
            ],
            [
             1,
             "#276419"
            ]
           ],
           "sequential": [
            [
             0,
             "#0d0887"
            ],
            [
             0.1111111111111111,
             "#46039f"
            ],
            [
             0.2222222222222222,
             "#7201a8"
            ],
            [
             0.3333333333333333,
             "#9c179e"
            ],
            [
             0.4444444444444444,
             "#bd3786"
            ],
            [
             0.5555555555555556,
             "#d8576b"
            ],
            [
             0.6666666666666666,
             "#ed7953"
            ],
            [
             0.7777777777777778,
             "#fb9f3a"
            ],
            [
             0.8888888888888888,
             "#fdca26"
            ],
            [
             1,
             "#f0f921"
            ]
           ],
           "sequentialminus": [
            [
             0,
             "#0d0887"
            ],
            [
             0.1111111111111111,
             "#46039f"
            ],
            [
             0.2222222222222222,
             "#7201a8"
            ],
            [
             0.3333333333333333,
             "#9c179e"
            ],
            [
             0.4444444444444444,
             "#bd3786"
            ],
            [
             0.5555555555555556,
             "#d8576b"
            ],
            [
             0.6666666666666666,
             "#ed7953"
            ],
            [
             0.7777777777777778,
             "#fb9f3a"
            ],
            [
             0.8888888888888888,
             "#fdca26"
            ],
            [
             1,
             "#f0f921"
            ]
           ]
          },
          "colorway": [
           "#636efa",
           "#EF553B",
           "#00cc96",
           "#ab63fa",
           "#FFA15A",
           "#19d3f3",
           "#FF6692",
           "#B6E880",
           "#FF97FF",
           "#FECB52"
          ],
          "font": {
           "color": "#2a3f5f"
          },
          "geo": {
           "bgcolor": "white",
           "lakecolor": "white",
           "landcolor": "#E5ECF6",
           "showlakes": true,
           "showland": true,
           "subunitcolor": "white"
          },
          "hoverlabel": {
           "align": "left"
          },
          "hovermode": "closest",
          "mapbox": {
           "style": "light"
          },
          "paper_bgcolor": "white",
          "plot_bgcolor": "#E5ECF6",
          "polar": {
           "angularaxis": {
            "gridcolor": "white",
            "linecolor": "white",
            "ticks": ""
           },
           "bgcolor": "#E5ECF6",
           "radialaxis": {
            "gridcolor": "white",
            "linecolor": "white",
            "ticks": ""
           }
          },
          "scene": {
           "xaxis": {
            "backgroundcolor": "#E5ECF6",
            "gridcolor": "white",
            "gridwidth": 2,
            "linecolor": "white",
            "showbackground": true,
            "ticks": "",
            "zerolinecolor": "white"
           },
           "yaxis": {
            "backgroundcolor": "#E5ECF6",
            "gridcolor": "white",
            "gridwidth": 2,
            "linecolor": "white",
            "showbackground": true,
            "ticks": "",
            "zerolinecolor": "white"
           },
           "zaxis": {
            "backgroundcolor": "#E5ECF6",
            "gridcolor": "white",
            "gridwidth": 2,
            "linecolor": "white",
            "showbackground": true,
            "ticks": "",
            "zerolinecolor": "white"
           }
          },
          "shapedefaults": {
           "line": {
            "color": "#2a3f5f"
           }
          },
          "ternary": {
           "aaxis": {
            "gridcolor": "white",
            "linecolor": "white",
            "ticks": ""
           },
           "baxis": {
            "gridcolor": "white",
            "linecolor": "white",
            "ticks": ""
           },
           "bgcolor": "#E5ECF6",
           "caxis": {
            "gridcolor": "white",
            "linecolor": "white",
            "ticks": ""
           }
          },
          "title": {
           "x": 0.05
          },
          "xaxis": {
           "automargin": true,
           "gridcolor": "white",
           "linecolor": "white",
           "ticks": "",
           "title": {
            "standoff": 15
           },
           "zerolinecolor": "white",
           "zerolinewidth": 2
          },
          "yaxis": {
           "automargin": true,
           "gridcolor": "white",
           "linecolor": "white",
           "ticks": "",
           "title": {
            "standoff": 15
           },
           "zerolinecolor": "white",
           "zerolinewidth": 2
          }
         }
        },
        "title": {
         "text": "Average Sale Price for general zoning classifications [MSZoning]"
        },
        "xaxis": {
         "anchor": "y",
         "domain": [
          0,
          1
         ],
         "title": {
          "text": "SalePrice"
         }
        },
        "yaxis": {
         "anchor": "x",
         "domain": [
          0,
          1
         ],
         "title": {
          "text": "MSZoning"
         }
        }
       }
      }
     },
     "metadata": {},
     "output_type": "display_data"
    }
   ],
   "source": [
    "zoning = train.groupby('MSZoning')['SalePrice'].mean().round().sort_values().reset_index()\n",
    "zoning.loc[0, 'MSZoning'] = 'C'\n",
    "zoning['MSZoning'] = get_description(*zoning['MSZoning'])\n",
    "fig = px.bar(zoning, y='MSZoning', x='SalePrice', color='SalePrice', orientation='h', text_auto=True)\n",
    "fig.update_layout(title='Average Sale Price for general zoning classifications [MSZoning]')"
   ]
  },
  {
   "cell_type": "code",
   "execution_count": null,
   "metadata": {},
   "outputs": [
    {
     "data": {
      "application/vnd.plotly.v1+json": {
       "config": {
        "plotlyServerURL": "https://plot.ly"
       },
       "data": [
        {
         "hovertemplate": "LotArea=%{x}<br>SalePrice=%{y}<extra></extra>",
         "legendgroup": "",
         "marker": {
          "color": "#636efa",
          "symbol": "circle"
         },
         "mode": "markers",
         "name": "",
         "showlegend": false,
         "type": "scattergl",
         "x": [
          8450,
          9600,
          11250,
          9550,
          14260,
          14115,
          10084,
          10382,
          6120,
          7420,
          11200,
          11924,
          12968,
          10652,
          10920,
          6120,
          11241,
          10791,
          13695,
          7560,
          14215,
          7449,
          9742,
          4224,
          8246,
          14230,
          7200,
          11478,
          16321,
          6324,
          8500,
          8544,
          11049,
          10552,
          7313,
          13418,
          10859,
          8532,
          7922,
          6040,
          8658,
          16905,
          9180,
          9200,
          7945,
          7658,
          12822,
          11096,
          4456,
          7742,
          13869,
          6240,
          8472,
          50271,
          7134,
          10175,
          2645,
          11645,
          13682,
          7200,
          13072,
          7200,
          6442,
          10300,
          9375,
          9591,
          19900,
          10665,
          4608,
          15593,
          13651,
          7599,
          10141,
          10200,
          5790,
          1596,
          8475,
          8635,
          10778,
          10440,
          13000,
          4500,
          10206,
          8892,
          8530,
          16059,
          11911,
          3951,
          8470,
          8070,
          7200,
          8500,
          13360,
          7200,
          9337,
          9765,
          10264,
          10921,
          10625,
          9320,
          10603,
          9206,
          7018,
          10402,
          7758,
          9375,
          10800,
          6000,
          8500,
          11751,
          9525,
          7750,
          9965,
          21000,
          7259,
          3230,
          11616,
          8536,
          12376,
          8461,
          21453,
          6060,
          9464,
          7892,
          17043,
          6780,
          4928,
          4388,
          7590,
          8973,
          14200,
          12224,
          7388,
          6853,
          10335,
          10400,
          10355,
          11070,
          9066,
          15426,
          10500,
          11645,
          8520,
          10335,
          9100,
          2522,
          6120,
          9505,
          7500,
          6240,
          10356,
          13891,
          14803,
          13500,
          11340,
          9600,
          7200,
          12003,
          12552,
          19378,
          11120,
          13688,
          12182,
          5500,
          5400,
          10106,
          10708,
          10562,
          8244,
          16669,
          12358,
          31770,
          5306,
          10197,
          12416,
          12615,
          10029,
          13650,
          17423,
          8520,
          2117,
          7588,
          9060,
          11426,
          7438,
          22950,
          9947,
          10410,
          7018,
          4923,
          10570,
          7472,
          9017,
          2522,
          7180,
          2280,
          9416,
          25419,
          5520,
          9591,
          8546,
          10125,
          7000,
          4438,
          3500,
          11851,
          13673,
          12493,
          14364,
          8250,
          5604,
          10420,
          8640,
          13568,
          10900,
          10011,
          8450,
          9906,
          15660,
          3010,
          8990,
          8068,
          11475,
          10500,
          13472,
          1680,
          9950,
          1869,
          8521,
          3182,
          8760,
          15138,
          1680,
          10650,
          7851,
          1680,
          8773,
          9453,
          12030,
          8741,
          9000,
          3880,
          5000,
          10762,
          8880,
          10400,
          9142,
          11310,
          11317,
          159000,
          5350,
          4750,
          8366,
          9350,
          8400,
          8738,
          8791,
          8814,
          12435,
          12702,
          19296,
          9588,
          8471,
          5500,
          5232,
          12090,
          11207,
          8400,
          6900,
          7917,
          10728,
          39104,
          11764,
          9600,
          8314,
          7264,
          9196,
          19138,
          14450,
          10005,
          11287,
          7200,
          5063,
          9612,
          8012,
          4251,
          9786,
          8125,
          9819,
          8730,
          15611,
          5687,
          11409,
          16659,
          9600,
          7937,
          13710,
          7399,
          11700,
          14000,
          15750,
          16226,
          13704,
          9800,
          18386,
          10386,
          13474,
          7920,
          12342,
          12378,
          7685,
          8000,
          7800,
          215245,
          9600,
          7795,
          13005,
          9000,
          9900,
          14115,
          16259,
          12099,
          10380,
          5820,
          11275,
          5000,
          10846,
          11600,
          11888,
          6402,
          10624,
          8176,
          10655,
          8198,
          9042,
          164660,
          14157,
          9135,
          14145,
          12400,
          14191,
          8400,
          8544,
          8849,
          2592,
          6435,
          12772,
          17600,
          2448,
          20431,
          7820,
          5271,
          9084,
          8520,
          8400,
          11249,
          9248,
          4224,
          6930,
          12011,
          7540,
          9144,
          7301,
          1680,
          18800,
          10690,
          9500,
          9150,
          7800,
          9830,
          8121,
          17120,
          7175,
          10634,
          8200,
          10020,
          8846,
          11143,
          11394,
          8123,
          5000,
          7200,
          9245,
          9000,
          53107,
          3182,
          8410,
          7200,
          9382,
          12474,
          8405,
          12209,
          8339,
          7446,
          10134,
          9571,
          7200,
          7590,
          8967,
          8125,
          14963,
          8767,
          10200,
          12090,
          10364,
          9991,
          10480,
          15576,
          14154,
          10800,
          9571,
          34650,
          4403,
          8960,
          11228,
          8899,
          7844,
          22420,
          8160,
          8450,
          7060,
          16635,
          21750,
          9200,
          9000,
          3378,
          12800,
          8593,
          6762,
          11457,
          1680,
          5586,
          1920,
          10839,
          1890,
          10667,
          4400,
          6000,
          4280,
          12354,
          15431,
          12108,
          6240,
          3922,
          8750,
          9855,
          16492,
          11214,
          8600,
          6000,
          5684,
          70761,
          9303,
          9000,
          9297,
          9600,
          4571,
          53227,
          5100,
          7015,
          8004,
          7200,
          8281,
          11988,
          8430,
          3072,
          10628,
          9480,
          11428,
          9291,
          6820,
          11952,
          3675,
          14977,
          5330,
          8480,
          13125,
          13693,
          10637,
          5925,
          16033,
          11846,
          2500,
          4500,
          7758,
          9600,
          10289,
          12243,
          10800,
          1526,
          2665,
          9490,
          15578,
          7931,
          5784,
          7879,
          12692,
          9120,
          7800,
          7535,
          1890,
          9803,
          9170,
          15602,
          2308,
          7596,
          9554,
          7862,
          9600,
          9600,
          14559,
          6792,
          9100,
          9187,
          10594,
          12220,
          10448,
          10208,
          9531,
          10918,
          10800,
          11988,
          5000,
          40094,
          11787,
          7500,
          13300,
          14948,
          9098,
          32668,
          10200,
          6155,
          7200,
          5000,
          9056,
          7000,
          8924,
          12735,
          11553,
          11423,
          14601,
          11000,
          10140,
          4058,
          17104,
          13837,
          8737,
          7244,
          8235,
          9375,
          4043,
          6000,
          11146,
          8777,
          10625,
          6380,
          14850,
          11040,
          21872,
          3196,
          11341,
          10010,
          13907,
          21780,
          13346,
          6858,
          11198,
          10171,
          12327,
          7032,
          13101,
          7332,
          13159,
          9967,
          10500,
          8480,
          6292,
          11777,
          3604,
          12150,
          14585,
          12704,
          11841,
          13500,
          6120,
          11443,
          10267,
          8740,
          25095,
          9100,
          8320,
          13478,
          6600,
          4435,
          7990,
          11302,
          3600,
          3922,
          12984,
          1950,
          10927,
          9000,
          10041,
          3182,
          12803,
          13600,
          12464,
          7800,
          12168,
          7943,
          11050,
          10395,
          11885,
          8402,
          1491,
          8800,
          7861,
          7227,
          11694,
          12244,
          8248,
          10800,
          7064,
          2117,
          10400,
          10000,
          12342,
          9600,
          11606,
          9020,
          9000,
          4590,
          11900,
          9250,
          6979,
          10896,
          6120,
          6000,
          8777,
          3982,
          12677,
          7050,
          13860,
          10793,
          9187,
          10530,
          7200,
          10452,
          7700,
          1936,
          8125,
          9084,
          8750,
          10320,
          10437,
          1680,
          10007,
          7200,
          17503,
          9937,
          12384,
          46589,
          13560,
          10012,
          20896,
          11194,
          18450,
          8125,
          14175,
          11600,
          8633,
          6629,
          11250,
          14442,
          9200,
          2289,
          9600,
          9022,
          11844,
          9945,
          8012,
          4500,
          2887,
          11248,
          16770,
          5062,
          10207,
          5105,
          8089,
          7577,
          4426,
          21535,
          26178,
          5400,
          6120,
          13811,
          6000,
          6420,
          8450,
          4282,
          14331,
          9600,
          12438,
          7630,
          8400,
          5600,
          115149,
          6240,
          9018,
          7162,
          4130,
          8712,
          4671,
          9873,
          13517,
          10140,
          10800,
          10000,
          10542,
          9920,
          6563,
          4426,
          8120,
          8172,
          13286,
          6960,
          21695,
          7314,
          11475,
          6240,
          5389,
          9590,
          11404,
          10000,
          8978,
          10800,
          8544,
          10463,
          10800,
          9313,
          9600,
          6768,
          8450,
          12886,
          5395,
          8963,
          8795,
          11700,
          10593,
          8405,
          8800,
          7750,
          9236,
          10240,
          7930,
          3230,
          10769,
          11616,
          2280,
          12257,
          9100,
          6911,
          8640,
          9430,
          9549,
          14587,
          10421,
          12508,
          9100,
          53504,
          7252,
          8877,
          7819,
          10150,
          14226,
          4500,
          11210,
          13350,
          8400,
          10530,
          7875,
          7153,
          16285,
          9101,
          6300,
          9790,
          10800,
          10142,
          6000,
          12205,
          3182,
          11333,
          9920,
          9158,
          10832,
          8400,
          8197,
          7677,
          13518,
          7200,
          12798,
          4800,
          8199,
          13891,
          9000,
          12274,
          9750,
          21384,
          13400,
          8100,
          10140,
          4438,
          8712,
          9750,
          8248,
          12137,
          11425,
          13265,
          8816,
          6371,
          7226,
          6000,
          12394,
          9900,
          11216,
          14803,
          6130,
          8529,
          28698,
          2544,
          11900,
          3180,
          9548,
          10004,
          7875,
          9600,
          8100,
          1680,
          9525,
          11767,
          12155,
          10440,
          9020,
          8000,
          12665,
          16647,
          9317,
          15523,
          45600,
          9600,
          4435,
          3196,
          7128,
          12095,
          17920,
          6897,
          10970,
          8125,
          10400,
          11029,
          7642,
          11625,
          9672,
          7931,
          8640,
          8750,
          10656,
          6970,
          14762,
          9938,
          6600,
          8750,
          8892,
          12144,
          5720,
          9000,
          25286,
          8834,
          11782,
          7000,
          7024,
          13758,
          9636,
          6204,
          7150,
          5119,
          8393,
          16466,
          15865,
          12160,
          8064,
          11184,
          8414,
          13284,
          7018,
          7056,
          8765,
          7018,
          12919,
          6993,
          7340,
          8712,
          7875,
          14859,
          6173,
          9920,
          13501,
          11500,
          8885,
          12589,
          11600,
          9286,
          6120,
          6270,
          3000,
          2001,
          9000,
          17140,
          13125,
          11029,
          8462,
          8777,
          10237,
          8012,
          10240,
          15611,
          11999,
          9900,
          11838,
          13006,
          8925,
          9100,
          11670,
          8487,
          27650,
          5825,
          10083,
          9675,
          8760,
          24090,
          12640,
          8755,
          7711,
          25000,
          14375,
          8820,
          8163,
          14536,
          14006,
          9360,
          7200,
          7800,
          7200,
          11075,
          9400,
          7136,
          1300,
          7420,
          8450,
          2572,
          7207,
          12227,
          2308,
          11923,
          11316,
          10237,
          9600,
          7390,
          5925,
          10382,
          10800,
          2268,
          7892,
          11639,
          11414,
          2651,
          5900,
          4274,
          9450,
          8816,
          12122,
          12203,
          3182,
          11250,
          10125,
          10880,
          5310,
          10159,
          12046,
          8125,
          9452,
          17671,
          9760,
          8846,
          12456,
          4712,
          10659,
          11717,
          9786,
          6762,
          10206,
          5400,
          11957,
          11500,
          3182,
          8385,
          12155,
          2217,
          12118,
          6000,
          21286,
          9825,
          10592,
          7200,
          11664,
          8400,
          11883,
          5814,
          10784,
          3013,
          7024,
          7406,
          9439,
          3182,
          15498,
          7700,
          9300,
          9520,
          9492,
          1680,
          7082,
          15863,
          14541,
          8125,
          6305,
          11500,
          12898,
          9240,
          1533,
          1477,
          13125,
          9130,
          5381,
          11839,
          9600,
          13680,
          16056,
          9245,
          21750,
          11100,
          8993,
          11175,
          9500,
          8562,
          11367,
          11361,
          7052,
          29959,
          11308,
          11275,
          4920,
          18000,
          13600,
          6000,
          11000,
          14000,
          7837,
          9760,
          3964,
          9600,
          10152,
          11700,
          7585,
          7950,
          8556,
          13125,
          10800,
          15870,
          4435,
          8775,
          11040,
          7500,
          8749,
          8800,
          13031,
          9069,
          1974,
          10574,
          2522,
          3316,
          8544,
          2160,
          8400,
          9230,
          5868,
          9317,
          6882,
          3696,
          6000,
          11880,
          8400,
          9758,
          7000,
          8910,
          2016,
          12256,
          10357,
          23257,
          8063,
          11362,
          8000,
          10480,
          7100,
          8923,
          5400,
          12085,
          7750,
          9764,
          13825,
          7560,
          8263,
          10084,
          8926,
          9405,
          9125,
          10434,
          3684,
          14572,
          11796,
          7200,
          7804,
          10712,
          9900,
          9828,
          8773,
          6180,
          9600,
          6342,
          9819,
          8731,
          7350,
          10304,
          9965,
          9000,
          12180,
          6240,
          11200,
          12000,
          5700,
          9000,
          8280,
          17755,
          14115,
          5890,
          13700,
          10768,
          9350,
          5001,
          11932,
          9120,
          2280,
          14778,
          8724,
          12900,
          16157,
          9541,
          10475,
          10852,
          13728,
          35760,
          9880,
          9120,
          4017,
          18030,
          16560,
          10678,
          6951,
          3950,
          7681,
          8335,
          11170,
          5587,
          15623,
          10800,
          35133,
          9738,
          10615,
          12461,
          8935,
          7500,
          32463,
          2645,
          9600,
          4500,
          9364,
          8029,
          14054,
          8850,
          9100,
          11235,
          9353,
          10400,
          6000,
          9750,
          10140,
          14684,
          8900,
          9135,
          7763,
          10182,
          11218,
          12134,
          9340,
          10246,
          10205,
          7094,
          8930,
          8640,
          6240,
          1680,
          7800,
          8250,
          10496,
          10680,
          15384,
          10482,
          14598,
          8872,
          8769,
          7910,
          18890,
          7728,
          9842,
          12160,
          8525,
          13132,
          2628,
          12393,
          13072,
          9037,
          8158,
          9849,
          10625,
          13891,
          11435,
          12090,
          8125,
          12328,
          9600,
          7200,
          11160,
          3136,
          9858,
          17542,
          6931,
          6240,
          14303,
          4060,
          9587,
          9750,
          24682,
          9600,
          11250,
          13515,
          4060,
          3735,
          10120,
          13214,
          14100,
          11344,
          23595,
          9156,
          13526,
          11512,
          5362,
          11345,
          12936,
          17871,
          9473,
          7500,
          9808,
          8049,
          8800,
          9400,
          9638,
          6000,
          9790,
          36500,
          5664,
          11065,
          14112,
          1680,
          6600,
          10140,
          8172,
          8400,
          8700,
          3675,
          63887,
          7500,
          10762,
          7500,
          10120,
          8688,
          3363,
          13173,
          6955,
          8072,
          12000,
          7153,
          17500,
          8814,
          9572,
          14774,
          8190,
          11075,
          10226,
          4230,
          14781,
          10215,
          8400,
          6627,
          10186,
          5330,
          9986,
          3636,
          4270,
          6600,
          10440,
          9084,
          10000,
          10780,
          8877,
          7200,
          2368,
          9650,
          9246,
          4118,
          13450,
          9560,
          8294,
          13695,
          9375,
          7558,
          11103,
          6000,
          20781,
          15306,
          16196,
          5250,
          11643,
          9247,
          6000,
          14720,
          10316,
          10192,
          9477,
          12537,
          2117,
          16737,
          9842,
          16158,
          12513,
          8499,
          3180,
          7500,
          9179,
          2665,
          4435,
          10635,
          5400,
          9600,
          9750,
          11400,
          10625,
          10991,
          6292,
          10998,
          1953,
          9735,
          8212,
          12925,
          7200,
          25339,
          9060,
          5436,
          16692,
          8520,
          14892,
          6000,
          9100,
          8944,
          7838,
          10800,
          4045,
          12665,
          57200,
          6120,
          7200,
          6171,
          6000,
          7415,
          6762,
          15256,
          10410,
          3842,
          8445,
          8780,
          7740,
          20544,
          12420,
          9600,
          7200,
          10994,
          13053,
          3635,
          11340,
          16545,
          9204,
          16381,
          11700,
          4043,
          4435,
          19690,
          9503,
          10721,
          10944,
          10930,
          7200,
          12546,
          21930,
          4928,
          10800,
          10261,
          17400,
          8400,
          9000,
          12444,
          7407,
          11584,
          11526,
          4426,
          11003,
          8854,
          8500,
          8400,
          26142,
          10000,
          11767,
          1533,
          9000,
          9262,
          3675,
          17217,
          7500,
          7917,
          13175,
          9042,
          9717,
          9937
         ],
         "xaxis": "x",
         "y": [
          208500,
          181500,
          223500,
          140000,
          250000,
          143000,
          307000,
          200000,
          129900,
          118000,
          129500,
          345000,
          144000,
          279500,
          157000,
          132000,
          149000,
          90000,
          159000,
          139000,
          325300,
          139400,
          230000,
          129900,
          154000,
          256300,
          134800,
          306000,
          207500,
          68500,
          40000,
          149350,
          179900,
          165500,
          277500,
          309000,
          145000,
          153000,
          109000,
          82000,
          160000,
          170000,
          144000,
          130250,
          141000,
          319900,
          239686,
          249700,
          113000,
          127000,
          177000,
          114500,
          110000,
          385000,
          130000,
          180500,
          172500,
          196500,
          438780,
          124900,
          158000,
          101000,
          202500,
          140000,
          219500,
          317000,
          180000,
          226000,
          80000,
          225000,
          244000,
          129500,
          185000,
          144900,
          107400,
          91000,
          135750,
          127000,
          136500,
          110000,
          193500,
          153500,
          245000,
          126500,
          168500,
          260000,
          174000,
          164500,
          85000,
          123600,
          109900,
          98600,
          163500,
          133900,
          204750,
          185000,
          214000,
          94750,
          83000,
          128950,
          205000,
          178000,
          118964,
          198900,
          169500,
          250000,
          100000,
          115000,
          115000,
          190000,
          136900,
          180000,
          383970,
          217000,
          259500,
          176000,
          139000,
          155000,
          320000,
          163990,
          180000,
          100000,
          136000,
          153900,
          181000,
          84500,
          128000,
          87000,
          155000,
          150000,
          226000,
          244000,
          150750,
          220000,
          180000,
          174000,
          143000,
          171000,
          230000,
          231500,
          115000,
          260000,
          166000,
          204000,
          125000,
          130000,
          105000,
          222500,
          141000,
          115000,
          122000,
          372402,
          190000,
          235000,
          125000,
          79000,
          109500,
          269500,
          254900,
          320000,
          162500,
          412500,
          220000,
          103200,
          152000,
          127500,
          190000,
          325624,
          183500,
          228000,
          128500,
          215000,
          239000,
          163000,
          184000,
          243000,
          211000,
          172500,
          501837,
          100000,
          177000,
          200100,
          120000,
          200000,
          127000,
          475000,
          173000,
          135000,
          153337,
          286000,
          315000,
          184000,
          192000,
          130000,
          127000,
          148500,
          311872,
          235000,
          104000,
          274900,
          140000,
          171500,
          112000,
          149000,
          110000,
          180500,
          143900,
          141000,
          277000,
          145000,
          98000,
          186000,
          252678,
          156000,
          161750,
          134450,
          210000,
          107000,
          311500,
          167240,
          204900,
          200000,
          179900,
          97000,
          386250,
          112000,
          290000,
          106000,
          125000,
          192500,
          148000,
          403000,
          94500,
          128200,
          216500,
          89500,
          185500,
          194500,
          318000,
          113000,
          262500,
          110500,
          79000,
          120000,
          205000,
          241500,
          137000,
          140000,
          180000,
          277000,
          76500,
          235000,
          173000,
          158000,
          145000,
          230000,
          207500,
          220000,
          231500,
          97000,
          176000,
          276000,
          151000,
          130000,
          73000,
          175500,
          185000,
          179500,
          120500,
          148000,
          266000,
          241500,
          290000,
          139000,
          124500,
          205000,
          201000,
          141000,
          415298,
          192000,
          228500,
          185000,
          207500,
          244600,
          179200,
          164700,
          159000,
          88000,
          122000,
          153575,
          233230,
          135900,
          131000,
          235000,
          167000,
          142500,
          152000,
          239000,
          175000,
          158500,
          157000,
          267000,
          205000,
          149900,
          295000,
          305900,
          225000,
          89500,
          82500,
          360000,
          165600,
          132000,
          119900,
          375000,
          178000,
          188500,
          260000,
          270000,
          260000,
          187500,
          342643,
          354000,
          301000,
          126175,
          242000,
          87000,
          324000,
          145250,
          214500,
          78000,
          119000,
          139000,
          284000,
          207000,
          192000,
          228950,
          377426,
          214000,
          202500,
          155000,
          202900,
          82000,
          87500,
          266000,
          85000,
          140200,
          151500,
          157500,
          154000,
          437154,
          318061,
          190000,
          95000,
          105900,
          140000,
          177500,
          173000,
          134000,
          130000,
          280000,
          156000,
          145000,
          198500,
          118000,
          190000,
          147000,
          159000,
          165000,
          132000,
          162000,
          172400,
          134432,
          125000,
          123000,
          219500,
          61000,
          148000,
          340000,
          394432,
          179000,
          127000,
          187750,
          213500,
          76000,
          240000,
          192000,
          81000,
          125000,
          191000,
          426000,
          119000,
          215000,
          106500,
          100000,
          109000,
          129000,
          123000,
          169500,
          67000,
          241000,
          245500,
          164990,
          108000,
          258000,
          168000,
          150000,
          115000,
          177000,
          280000,
          339750,
          60000,
          145000,
          222000,
          115000,
          228000,
          181134,
          149500,
          239000,
          126000,
          142000,
          206300,
          215000,
          113000,
          315000,
          139000,
          135000,
          275000,
          109008,
          195400,
          175000,
          85400,
          79900,
          122500,
          181000,
          81000,
          212000,
          116000,
          119000,
          90350,
          110000,
          555000,
          118000,
          162900,
          172500,
          210000,
          127500,
          190000,
          199900,
          119500,
          120000,
          110000,
          280000,
          204000,
          210000,
          188000,
          175500,
          98000,
          256000,
          161000,
          110000,
          263435,
          155000,
          62383,
          188700,
          124000,
          178740,
          167000,
          146500,
          250000,
          187000,
          212000,
          190000,
          148000,
          440000,
          251000,
          132500,
          208900,
          380000,
          297000,
          89471,
          326000,
          374000,
          155000,
          164000,
          132500,
          147000,
          156000,
          175000,
          160000,
          86000,
          115000,
          133000,
          172785,
          155000,
          91300,
          34900,
          430000,
          184000,
          130000,
          120000,
          113000,
          226700,
          140000,
          289000,
          147000,
          124500,
          215000,
          208300,
          161000,
          124500,
          164900,
          202665,
          129900,
          134000,
          96500,
          402861,
          158000,
          265000,
          211000,
          234000,
          106250,
          150000,
          159000,
          184750,
          315750,
          176000,
          132000,
          446261,
          86000,
          200624,
          175000,
          128000,
          107500,
          39300,
          178000,
          107500,
          188000,
          111250,
          158000,
          272000,
          315000,
          248000,
          213250,
          133000,
          179665,
          229000,
          210000,
          129500,
          125000,
          263000,
          140000,
          112500,
          255500,
          108000,
          284000,
          113000,
          141000,
          108000,
          175000,
          234000,
          121500,
          170000,
          108000,
          185000,
          268000,
          128000,
          325000,
          214000,
          316600,
          135960,
          142600,
          120000,
          224500,
          170000,
          139000,
          118500,
          145000,
          164500,
          146000,
          131500,
          181900,
          253293,
          118500,
          325000,
          133000,
          369900,
          130000,
          137000,
          143000,
          79500,
          185900,
          451950,
          138000,
          140000,
          110000,
          319000,
          114504,
          194201,
          217500,
          151000,
          275000,
          141000,
          220000,
          151000,
          221000,
          205000,
          152000,
          225000,
          359100,
          118500,
          313000,
          148000,
          261500,
          147000,
          75500,
          137500,
          183200,
          105500,
          314813,
          305000,
          67000,
          240000,
          135000,
          168500,
          165150,
          160000,
          139900,
          153000,
          135000,
          168500,
          124000,
          209500,
          82500,
          139400,
          144000,
          200000,
          60000,
          93000,
          85000,
          264561,
          274000,
          226000,
          345000,
          152000,
          370878,
          143250,
          98300,
          155000,
          155000,
          84500,
          205950,
          108000,
          191000,
          135000,
          350000,
          88000,
          145500,
          149000,
          97500,
          167000,
          197900,
          402000,
          110000,
          137500,
          423000,
          230500,
          129000,
          193500,
          168000,
          137500,
          173500,
          103600,
          165000,
          257500,
          140000,
          148500,
          87000,
          109500,
          372500,
          128500,
          143000,
          159434,
          173000,
          285000,
          221000,
          207500,
          227875,
          148800,
          392000,
          194700,
          141000,
          755000,
          335000,
          108480,
          141500,
          176000,
          89000,
          123500,
          138500,
          196000,
          312500,
          140000,
          361919,
          140000,
          213000,
          55000,
          302000,
          254000,
          179540,
          109900,
          52000,
          102776,
          189000,
          129000,
          130500,
          165000,
          159500,
          157000,
          341000,
          128500,
          275000,
          143000,
          124500,
          135000,
          320000,
          120500,
          222000,
          194500,
          110000,
          103000,
          236500,
          187500,
          222500,
          131400,
          108000,
          163000,
          93500,
          239900,
          179000,
          190000,
          132000,
          142000,
          179000,
          175000,
          180000,
          299800,
          236000,
          265979,
          260400,
          98000,
          96500,
          162000,
          217000,
          275500,
          156000,
          172500,
          212000,
          158900,
          179400,
          290000,
          127500,
          100000,
          215200,
          337000,
          270000,
          264132,
          196500,
          160000,
          216837,
          538000,
          134900,
          102000,
          107000,
          114500,
          395000,
          162000,
          221500,
          142500,
          144000,
          135000,
          176000,
          175900,
          187100,
          165500,
          128000,
          161500,
          139000,
          233000,
          107900,
          187500,
          160200,
          146800,
          269790,
          225000,
          194500,
          171000,
          143500,
          110000,
          485000,
          175000,
          200000,
          109900,
          189000,
          582933,
          118000,
          227680,
          135500,
          223500,
          159950,
          106000,
          181000,
          144500,
          55993,
          157900,
          116000,
          224900,
          137000,
          271000,
          155000,
          224000,
          183000,
          93000,
          225000,
          139500,
          232600,
          385000,
          109500,
          189000,
          185000,
          147400,
          166000,
          151000,
          237000,
          167000,
          139950,
          128000,
          153500,
          100000,
          144000,
          130500,
          140000,
          157500,
          174900,
          141000,
          153900,
          171000,
          213000,
          133500,
          240000,
          187000,
          131500,
          215000,
          164000,
          158000,
          170000,
          127000,
          147000,
          174000,
          152000,
          250000,
          189950,
          131500,
          152000,
          132500,
          250580,
          148500,
          248900,
          129000,
          169000,
          236000,
          109500,
          200500,
          116000,
          133000,
          66500,
          303477,
          132250,
          350000,
          148000,
          136500,
          157000,
          187500,
          178000,
          118500,
          100000,
          328900,
          145000,
          135500,
          268000,
          149500,
          122900,
          172500,
          154500,
          165000,
          118858,
          140000,
          106500,
          142953,
          611657,
          135000,
          110000,
          153000,
          180000,
          240000,
          125500,
          128000,
          255000,
          250000,
          131000,
          174000,
          154300,
          143500,
          88000,
          145000,
          173733,
          75000,
          35311,
          135000,
          238000,
          176500,
          201000,
          145900,
          169990,
          193000,
          207500,
          175000,
          285000,
          176000,
          236500,
          222000,
          201000,
          117500,
          320000,
          190000,
          242000,
          79900,
          184900,
          253000,
          239799,
          244400,
          150900,
          214000,
          150000,
          143000,
          137500,
          124900,
          143000,
          270000,
          192500,
          197500,
          129000,
          119900,
          133900,
          172000,
          127500,
          145000,
          124000,
          132000,
          185000,
          155000,
          116500,
          272000,
          155000,
          239000,
          214900,
          178900,
          160000,
          135000,
          37900,
          140000,
          135000,
          173000,
          99500,
          182000,
          167500,
          165000,
          85500,
          199900,
          110000,
          139000,
          178400,
          336000,
          159895,
          255900,
          126000,
          125000,
          117000,
          395192,
          195000,
          197000,
          348000,
          168000,
          187000,
          173900,
          337500,
          121600,
          136500,
          185000,
          91000,
          206000,
          82000,
          86000,
          232000,
          136905,
          181000,
          149900,
          163500,
          88000,
          240000,
          102000,
          135000,
          100000,
          165000,
          85000,
          119200,
          227000,
          203000,
          187500,
          160000,
          213490,
          176000,
          194000,
          87000,
          191000,
          287000,
          112500,
          167500,
          293077,
          105000,
          118000,
          160000,
          197000,
          310000,
          230000,
          119750,
          84000,
          315500,
          287000,
          97000,
          80000,
          155000,
          173000,
          196000,
          262280,
          278000,
          139600,
          556581,
          145000,
          115000,
          84900,
          176485,
          200141,
          165000,
          144500,
          255000,
          180000,
          185850,
          248000,
          335000,
          220000,
          213500,
          81000,
          90000,
          110500,
          154000,
          328000,
          178000,
          167900,
          151400,
          135000,
          135000,
          154000,
          91500,
          159500,
          194000,
          219500,
          170000,
          138800,
          155900,
          126000,
          145000,
          133000,
          192000,
          160000,
          187500,
          147000,
          83500,
          252000,
          137500,
          197000,
          92900,
          160000,
          136500,
          146000,
          129000,
          176432,
          127000,
          170000,
          128000,
          157000,
          60000,
          119500,
          135000,
          159500,
          106000,
          325000,
          179900,
          274725,
          181000,
          280000,
          188000,
          205000,
          129900,
          134500,
          117000,
          318000,
          184100,
          130000,
          140000,
          133700,
          118400,
          212900,
          112000,
          118000,
          163900,
          115000,
          174000,
          259000,
          215000,
          140000,
          135000,
          93500,
          117500,
          239500,
          169000,
          102000,
          119000,
          94000,
          196000,
          144000,
          139000,
          197500,
          424870,
          80000,
          80000,
          149000,
          180000,
          174500,
          116900,
          143000,
          124000,
          149900,
          230000,
          120500,
          201800,
          218000,
          179900,
          230000,
          235128,
          185000,
          146000,
          224000,
          129000,
          108959,
          194000,
          233170,
          245350,
          173000,
          235000,
          625000,
          171000,
          163000,
          171900,
          200500,
          239000,
          285000,
          119500,
          115000,
          154900,
          93000,
          250000,
          392500,
          745000,
          120000,
          186700,
          104900,
          95000,
          262000,
          195000,
          189000,
          168000,
          174000,
          125000,
          165000,
          158000,
          176000,
          219210,
          144000,
          178000,
          148000,
          116050,
          197900,
          117000,
          213000,
          153500,
          271900,
          107000,
          200000,
          140000,
          290000,
          189000,
          164000,
          113000,
          145000,
          134500,
          125000,
          112000,
          229456,
          80500,
          91500,
          115000,
          134000,
          143000,
          137900,
          184000,
          145000,
          214000,
          147000,
          367294,
          127000,
          190000,
          132500,
          101800,
          142000,
          130000,
          138887,
          175500,
          195000,
          142500,
          265900,
          224900,
          248328,
          170000,
          465000,
          230000,
          178000,
          186500,
          169900,
          129500,
          119000,
          244000,
          171750,
          130000,
          294000,
          165400,
          127500,
          301500,
          99900,
          190000,
          151000,
          181000,
          128900,
          161500,
          180500,
          181000,
          183900,
          122000,
          378500,
          381000,
          144000,
          260000,
          185750,
          137000,
          177000,
          139000,
          137000,
          162000,
          197900,
          237000,
          68400,
          227000,
          180000,
          150500,
          139000,
          169000,
          132500,
          143000,
          190000,
          278000,
          281000,
          180500,
          119500,
          107500,
          162900,
          115000,
          138500,
          155000,
          140000,
          160000,
          154000,
          225000,
          177500,
          290000,
          232000,
          130000,
          325000,
          202500,
          138000,
          147000,
          179200,
          335000,
          203000,
          302000,
          333168,
          119000,
          206900,
          295493,
          208900,
          275000,
          111000,
          156500,
          72500,
          190000,
          82500,
          147000,
          55000,
          79000,
          130500,
          256000,
          176500,
          227000,
          132500,
          100000,
          125500,
          125000,
          167900,
          135000,
          52500,
          200000,
          128500,
          123000,
          155000,
          228500,
          177000,
          155835,
          108500,
          262500,
          283463,
          215000,
          122000,
          200000,
          171000,
          134900,
          410000,
          235000,
          170000,
          110000,
          149900,
          177500,
          315000,
          189000,
          260000,
          104900,
          156932,
          144152,
          216000,
          193000,
          127000,
          144000,
          232000,
          105000,
          165500,
          274300,
          466500,
          250000,
          239000,
          91000,
          117000,
          83000,
          167500,
          58500,
          237500,
          157000,
          112000,
          105000,
          125500,
          250000,
          136000,
          377500,
          131000,
          235000,
          124000,
          123000,
          163000,
          246578,
          281213,
          160000,
          137500,
          138000,
          137450,
          120000,
          193000,
          193879,
          282922,
          105000,
          275000,
          133000,
          112000,
          125500,
          215000,
          230000,
          140000,
          90000,
          257000,
          207000,
          175900,
          122500,
          340000,
          124000,
          223000,
          179900,
          127500,
          136500,
          274970,
          144000,
          142000,
          271000,
          140000,
          119000,
          182900,
          192140,
          143750,
          64500,
          186500,
          160000,
          174000,
          120500,
          394617,
          149700,
          197000,
          191000,
          149300,
          310000,
          121000,
          179600,
          129000,
          157900,
          240000,
          112000,
          92000,
          136000,
          287090,
          145000,
          84500,
          185000,
          175000,
          210000,
          266500,
          142125,
          147500
         ],
         "yaxis": "y"
        },
        {
         "hovertemplate": "<b>OLS trendline</b><br>SalePrice = 2.09997 * LotArea + 158836<br>R<sup>2</sup>=0.069613<br><br>LotArea=%{x}<br>SalePrice=%{y} <b>(trend)</b><extra></extra>",
         "legendgroup": "",
         "line": {
          "color": "red"
         },
         "marker": {
          "color": "#636efa",
          "symbol": "circle"
         },
         "mode": "lines",
         "name": "",
         "showlegend": false,
         "type": "scattergl",
         "x": [
          1300,
          1477,
          1491,
          1526,
          1533,
          1533,
          1596,
          1680,
          1680,
          1680,
          1680,
          1680,
          1680,
          1680,
          1680,
          1680,
          1680,
          1869,
          1890,
          1890,
          1920,
          1936,
          1950,
          1953,
          1974,
          2001,
          2016,
          2117,
          2117,
          2117,
          2160,
          2217,
          2268,
          2280,
          2280,
          2280,
          2289,
          2308,
          2308,
          2368,
          2448,
          2500,
          2522,
          2522,
          2522,
          2544,
          2572,
          2592,
          2628,
          2645,
          2645,
          2651,
          2665,
          2665,
          2887,
          3000,
          3010,
          3013,
          3072,
          3136,
          3180,
          3180,
          3182,
          3182,
          3182,
          3182,
          3182,
          3182,
          3182,
          3196,
          3196,
          3230,
          3230,
          3316,
          3363,
          3378,
          3500,
          3600,
          3604,
          3635,
          3636,
          3675,
          3675,
          3675,
          3684,
          3696,
          3735,
          3842,
          3880,
          3922,
          3922,
          3950,
          3951,
          3964,
          3982,
          4017,
          4043,
          4043,
          4045,
          4058,
          4060,
          4060,
          4118,
          4130,
          4224,
          4224,
          4230,
          4251,
          4270,
          4274,
          4280,
          4282,
          4388,
          4400,
          4403,
          4426,
          4426,
          4426,
          4435,
          4435,
          4435,
          4435,
          4435,
          4438,
          4438,
          4456,
          4500,
          4500,
          4500,
          4500,
          4500,
          4571,
          4590,
          4608,
          4671,
          4712,
          4750,
          4800,
          4920,
          4923,
          4928,
          4928,
          5000,
          5000,
          5000,
          5000,
          5000,
          5001,
          5062,
          5063,
          5100,
          5105,
          5119,
          5232,
          5250,
          5271,
          5306,
          5310,
          5330,
          5330,
          5350,
          5362,
          5381,
          5389,
          5395,
          5400,
          5400,
          5400,
          5400,
          5400,
          5436,
          5500,
          5500,
          5520,
          5586,
          5587,
          5600,
          5604,
          5664,
          5684,
          5687,
          5700,
          5720,
          5784,
          5790,
          5814,
          5820,
          5825,
          5868,
          5890,
          5900,
          5925,
          5925,
          6000,
          6000,
          6000,
          6000,
          6000,
          6000,
          6000,
          6000,
          6000,
          6000,
          6000,
          6000,
          6000,
          6000,
          6000,
          6000,
          6000,
          6040,
          6060,
          6120,
          6120,
          6120,
          6120,
          6120,
          6120,
          6120,
          6120,
          6130,
          6155,
          6171,
          6173,
          6180,
          6204,
          6240,
          6240,
          6240,
          6240,
          6240,
          6240,
          6240,
          6240,
          6270,
          6292,
          6292,
          6300,
          6305,
          6324,
          6342,
          6371,
          6380,
          6402,
          6420,
          6435,
          6442,
          6563,
          6600,
          6600,
          6600,
          6600,
          6627,
          6629,
          6762,
          6762,
          6762,
          6768,
          6780,
          6792,
          6820,
          6853,
          6858,
          6882,
          6897,
          6900,
          6911,
          6930,
          6931,
          6951,
          6955,
          6960,
          6970,
          6979,
          6993,
          7000,
          7000,
          7000,
          7000,
          7015,
          7018,
          7018,
          7018,
          7018,
          7024,
          7024,
          7032,
          7050,
          7052,
          7056,
          7060,
          7064,
          7082,
          7094,
          7100,
          7128,
          7134,
          7136,
          7150,
          7153,
          7153,
          7162,
          7175,
          7180,
          7200,
          7200,
          7200,
          7200,
          7200,
          7200,
          7200,
          7200,
          7200,
          7200,
          7200,
          7200,
          7200,
          7200,
          7200,
          7200,
          7200,
          7200,
          7200,
          7200,
          7200,
          7200,
          7200,
          7200,
          7200,
          7207,
          7226,
          7227,
          7244,
          7252,
          7259,
          7264,
          7301,
          7313,
          7314,
          7332,
          7340,
          7350,
          7388,
          7390,
          7399,
          7406,
          7407,
          7415,
          7420,
          7420,
          7438,
          7446,
          7449,
          7472,
          7500,
          7500,
          7500,
          7500,
          7500,
          7500,
          7500,
          7500,
          7500,
          7535,
          7540,
          7558,
          7560,
          7560,
          7577,
          7585,
          7588,
          7590,
          7590,
          7596,
          7599,
          7630,
          7642,
          7658,
          7677,
          7681,
          7685,
          7700,
          7700,
          7711,
          7728,
          7740,
          7742,
          7750,
          7750,
          7750,
          7758,
          7758,
          7763,
          7795,
          7800,
          7800,
          7800,
          7800,
          7800,
          7800,
          7804,
          7819,
          7820,
          7837,
          7838,
          7844,
          7851,
          7861,
          7862,
          7875,
          7875,
          7875,
          7879,
          7892,
          7892,
          7910,
          7917,
          7917,
          7920,
          7922,
          7930,
          7931,
          7931,
          7937,
          7943,
          7945,
          7950,
          7990,
          8000,
          8000,
          8000,
          8004,
          8012,
          8012,
          8012,
          8029,
          8049,
          8063,
          8064,
          8068,
          8070,
          8072,
          8089,
          8100,
          8100,
          8120,
          8121,
          8123,
          8125,
          8125,
          8125,
          8125,
          8125,
          8125,
          8125,
          8125,
          8158,
          8160,
          8163,
          8172,
          8172,
          8176,
          8190,
          8197,
          8198,
          8199,
          8200,
          8212,
          8235,
          8244,
          8246,
          8248,
          8248,
          8250,
          8250,
          8263,
          8280,
          8281,
          8294,
          8314,
          8320,
          8335,
          8339,
          8366,
          8385,
          8393,
          8400,
          8400,
          8400,
          8400,
          8400,
          8400,
          8400,
          8400,
          8400,
          8400,
          8400,
          8400,
          8400,
          8400,
          8402,
          8405,
          8405,
          8410,
          8414,
          8430,
          8445,
          8450,
          8450,
          8450,
          8450,
          8450,
          8450,
          8461,
          8462,
          8470,
          8471,
          8472,
          8475,
          8480,
          8480,
          8487,
          8499,
          8500,
          8500,
          8500,
          8500,
          8520,
          8520,
          8520,
          8520,
          8521,
          8525,
          8529,
          8530,
          8532,
          8536,
          8544,
          8544,
          8544,
          8544,
          8546,
          8556,
          8562,
          8593,
          8600,
          8633,
          8635,
          8640,
          8640,
          8640,
          8640,
          8658,
          8688,
          8700,
          8712,
          8712,
          8712,
          8724,
          8730,
          8731,
          8737,
          8738,
          8740,
          8741,
          8749,
          8750,
          8750,
          8750,
          8750,
          8755,
          8760,
          8760,
          8765,
          8767,
          8769,
          8773,
          8773,
          8775,
          8777,
          8777,
          8777,
          8780,
          8791,
          8795,
          8800,
          8800,
          8800,
          8800,
          8814,
          8814,
          8816,
          8816,
          8820,
          8834,
          8846,
          8846,
          8849,
          8850,
          8854,
          8872,
          8877,
          8877,
          8880,
          8885,
          8892,
          8892,
          8899,
          8900,
          8910,
          8923,
          8924,
          8925,
          8926,
          8930,
          8935,
          8944,
          8960,
          8963,
          8967,
          8973,
          8978,
          8990,
          8993,
          9000,
          9000,
          9000,
          9000,
          9000,
          9000,
          9000,
          9000,
          9000,
          9000,
          9000,
          9000,
          9000,
          9000,
          9017,
          9018,
          9020,
          9020,
          9022,
          9037,
          9042,
          9042,
          9056,
          9060,
          9060,
          9066,
          9069,
          9084,
          9084,
          9084,
          9098,
          9100,
          9100,
          9100,
          9100,
          9100,
          9100,
          9100,
          9100,
          9101,
          9120,
          9120,
          9120,
          9125,
          9130,
          9135,
          9135,
          9142,
          9144,
          9150,
          9156,
          9158,
          9170,
          9179,
          9180,
          9187,
          9187,
          9196,
          9200,
          9200,
          9200,
          9204,
          9206,
          9230,
          9236,
          9240,
          9245,
          9245,
          9246,
          9247,
          9248,
          9250,
          9262,
          9286,
          9291,
          9297,
          9300,
          9303,
          9313,
          9317,
          9317,
          9320,
          9337,
          9340,
          9350,
          9350,
          9353,
          9360,
          9364,
          9375,
          9375,
          9375,
          9375,
          9382,
          9400,
          9400,
          9405,
          9416,
          9430,
          9439,
          9450,
          9452,
          9453,
          9464,
          9473,
          9477,
          9480,
          9490,
          9492,
          9500,
          9500,
          9503,
          9505,
          9520,
          9525,
          9525,
          9531,
          9541,
          9548,
          9549,
          9550,
          9554,
          9560,
          9571,
          9571,
          9572,
          9587,
          9588,
          9590,
          9591,
          9591,
          9600,
          9600,
          9600,
          9600,
          9600,
          9600,
          9600,
          9600,
          9600,
          9600,
          9600,
          9600,
          9600,
          9600,
          9600,
          9600,
          9600,
          9600,
          9600,
          9600,
          9600,
          9600,
          9600,
          9600,
          9612,
          9636,
          9638,
          9650,
          9672,
          9675,
          9717,
          9735,
          9738,
          9742,
          9750,
          9750,
          9750,
          9750,
          9750,
          9758,
          9760,
          9760,
          9764,
          9765,
          9786,
          9786,
          9790,
          9790,
          9800,
          9803,
          9808,
          9819,
          9819,
          9825,
          9828,
          9830,
          9842,
          9842,
          9849,
          9855,
          9858,
          9873,
          9880,
          9900,
          9900,
          9900,
          9900,
          9906,
          9920,
          9920,
          9920,
          9937,
          9937,
          9938,
          9945,
          9947,
          9950,
          9965,
          9965,
          9967,
          9986,
          9991,
          10000,
          10000,
          10000,
          10000,
          10000,
          10004,
          10005,
          10007,
          10010,
          10011,
          10012,
          10020,
          10029,
          10041,
          10083,
          10084,
          10084,
          10106,
          10120,
          10120,
          10125,
          10125,
          10134,
          10140,
          10140,
          10140,
          10140,
          10140,
          10141,
          10142,
          10150,
          10152,
          10159,
          10171,
          10175,
          10182,
          10186,
          10192,
          10197,
          10200,
          10200,
          10200,
          10205,
          10206,
          10206,
          10207,
          10208,
          10215,
          10226,
          10237,
          10237,
          10240,
          10240,
          10246,
          10261,
          10264,
          10267,
          10289,
          10300,
          10304,
          10316,
          10320,
          10335,
          10335,
          10355,
          10356,
          10357,
          10364,
          10380,
          10382,
          10382,
          10386,
          10395,
          10400,
          10400,
          10400,
          10400,
          10400,
          10402,
          10410,
          10410,
          10420,
          10421,
          10434,
          10437,
          10440,
          10440,
          10440,
          10448,
          10452,
          10463,
          10475,
          10480,
          10480,
          10482,
          10496,
          10500,
          10500,
          10500,
          10530,
          10530,
          10542,
          10552,
          10562,
          10570,
          10574,
          10592,
          10593,
          10594,
          10603,
          10615,
          10624,
          10625,
          10625,
          10625,
          10625,
          10628,
          10634,
          10635,
          10637,
          10650,
          10652,
          10655,
          10656,
          10659,
          10665,
          10667,
          10678,
          10680,
          10690,
          10708,
          10712,
          10721,
          10728,
          10762,
          10762,
          10768,
          10769,
          10778,
          10780,
          10784,
          10791,
          10793,
          10800,
          10800,
          10800,
          10800,
          10800,
          10800,
          10800,
          10800,
          10800,
          10800,
          10800,
          10800,
          10800,
          10800,
          10832,
          10839,
          10846,
          10852,
          10859,
          10880,
          10896,
          10900,
          10918,
          10920,
          10921,
          10927,
          10930,
          10944,
          10970,
          10991,
          10994,
          10998,
          11000,
          11000,
          11003,
          11029,
          11029,
          11040,
          11040,
          11049,
          11050,
          11065,
          11070,
          11075,
          11075,
          11096,
          11100,
          11103,
          11120,
          11143,
          11146,
          11160,
          11170,
          11175,
          11184,
          11194,
          11198,
          11200,
          11200,
          11207,
          11210,
          11214,
          11216,
          11218,
          11228,
          11235,
          11241,
          11248,
          11249,
          11250,
          11250,
          11250,
          11250,
          11275,
          11275,
          11287,
          11302,
          11308,
          11310,
          11316,
          11317,
          11333,
          11340,
          11340,
          11341,
          11344,
          11345,
          11361,
          11362,
          11367,
          11394,
          11400,
          11404,
          11409,
          11414,
          11423,
          11425,
          11426,
          11428,
          11435,
          11443,
          11457,
          11475,
          11475,
          11478,
          11500,
          11500,
          11500,
          11512,
          11526,
          11553,
          11584,
          11600,
          11600,
          11600,
          11606,
          11616,
          11616,
          11625,
          11639,
          11643,
          11645,
          11645,
          11664,
          11670,
          11694,
          11700,
          11700,
          11700,
          11700,
          11717,
          11751,
          11764,
          11767,
          11767,
          11777,
          11782,
          11787,
          11796,
          11838,
          11839,
          11841,
          11844,
          11846,
          11851,
          11880,
          11883,
          11885,
          11888,
          11900,
          11900,
          11911,
          11923,
          11924,
          11932,
          11952,
          11957,
          11988,
          11988,
          11999,
          12000,
          12000,
          12003,
          12011,
          12030,
          12046,
          12085,
          12090,
          12090,
          12090,
          12095,
          12099,
          12108,
          12118,
          12122,
          12134,
          12137,
          12144,
          12150,
          12155,
          12155,
          12160,
          12160,
          12168,
          12180,
          12182,
          12203,
          12205,
          12209,
          12220,
          12224,
          12227,
          12243,
          12244,
          12256,
          12257,
          12274,
          12327,
          12328,
          12342,
          12342,
          12354,
          12358,
          12376,
          12378,
          12384,
          12393,
          12394,
          12400,
          12416,
          12420,
          12435,
          12438,
          12444,
          12456,
          12461,
          12464,
          12474,
          12493,
          12508,
          12513,
          12537,
          12546,
          12552,
          12589,
          12615,
          12640,
          12665,
          12665,
          12677,
          12692,
          12702,
          12704,
          12735,
          12772,
          12798,
          12800,
          12803,
          12822,
          12886,
          12898,
          12900,
          12919,
          12925,
          12936,
          12968,
          12984,
          13000,
          13005,
          13006,
          13031,
          13053,
          13072,
          13072,
          13101,
          13125,
          13125,
          13125,
          13125,
          13132,
          13159,
          13173,
          13175,
          13214,
          13265,
          13284,
          13286,
          13300,
          13346,
          13350,
          13360,
          13400,
          13418,
          13450,
          13472,
          13474,
          13478,
          13500,
          13500,
          13501,
          13515,
          13517,
          13518,
          13526,
          13560,
          13568,
          13600,
          13600,
          13650,
          13651,
          13673,
          13680,
          13682,
          13688,
          13693,
          13695,
          13695,
          13700,
          13704,
          13710,
          13728,
          13758,
          13811,
          13825,
          13837,
          13860,
          13869,
          13891,
          13891,
          13891,
          13907,
          14000,
          14000,
          14006,
          14054,
          14100,
          14112,
          14115,
          14115,
          14115,
          14145,
          14154,
          14157,
          14175,
          14191,
          14200,
          14215,
          14226,
          14230,
          14260,
          14303,
          14331,
          14364,
          14375,
          14442,
          14450,
          14536,
          14541,
          14559,
          14572,
          14585,
          14587,
          14598,
          14601,
          14684,
          14720,
          14762,
          14774,
          14778,
          14781,
          14803,
          14803,
          14850,
          14859,
          14892,
          14948,
          14963,
          14977,
          15138,
          15256,
          15306,
          15384,
          15426,
          15431,
          15498,
          15523,
          15576,
          15578,
          15593,
          15602,
          15611,
          15611,
          15623,
          15660,
          15750,
          15863,
          15865,
          15870,
          16033,
          16056,
          16059,
          16157,
          16158,
          16196,
          16226,
          16259,
          16285,
          16321,
          16381,
          16466,
          16492,
          16545,
          16560,
          16635,
          16647,
          16659,
          16669,
          16692,
          16737,
          16770,
          16905,
          17043,
          17104,
          17120,
          17140,
          17217,
          17400,
          17423,
          17500,
          17503,
          17542,
          17600,
          17671,
          17755,
          17871,
          17920,
          18000,
          18030,
          18386,
          18450,
          18800,
          18890,
          19138,
          19296,
          19378,
          19690,
          19900,
          20431,
          20544,
          20781,
          20896,
          21000,
          21286,
          21384,
          21453,
          21535,
          21695,
          21750,
          21750,
          21780,
          21872,
          21930,
          22420,
          22950,
          23257,
          23595,
          24090,
          24682,
          25000,
          25095,
          25286,
          25339,
          25419,
          26142,
          26178,
          27650,
          28698,
          29959,
          31770,
          32463,
          32668,
          34650,
          35133,
          35760,
          36500,
          39104,
          40094,
          45600,
          46589,
          50271,
          53107,
          53227,
          53504,
          57200,
          63887,
          70761,
          115149,
          159000,
          164660,
          215245
         ],
         "xaxis": "x",
         "y": [
          161566.11543409654,
          161937.8104695488,
          161967.21007687273,
          162040.70909518248,
          162055.40889884444,
          162055.40889884444,
          162187.70713180202,
          162364.10477574548,
          162364.10477574548,
          162364.10477574548,
          162364.10477574548,
          162364.10477574548,
          162364.10477574548,
          162364.10477574548,
          162364.10477574548,
          162364.10477574548,
          162364.10477574548,
          162760.99947461823,
          162805.0988856041,
          162805.0988856041,
          162868.0980441553,
          162901.69759538263,
          162931.09720270653,
          162937.39711856167,
          162981.49652954753,
          163038.19577224363,
          163069.69535151924,
          163281.7925186417,
          163281.7925186417,
          163281.7925186417,
          163372.09131256514,
          163491.7897138125,
          163598.88828334957,
          163624.08794677007,
          163624.08794677007,
          163624.08794677007,
          163642.98769433543,
          163682.8871614179,
          163682.8871614179,
          163808.88547852036,
          163976.88323465697,
          164086.08177614576,
          164132.28115908333,
          164132.28115908333,
          164132.28115908333,
          164178.4805420209,
          164237.27975666872,
          164279.27919570287,
          164354.87818596433,
          164390.57770914337,
          164390.57770914337,
          164403.17754085362,
          164432.57714817754,
          164432.57714817754,
          164898.77092145663,
          165136.0677519996,
          165157.06747151667,
          165163.3673873718,
          165287.26573252256,
          165421.66393743185,
          165514.062703307,
          165514.062703307,
          165518.2626472104,
          165518.2626472104,
          165518.2626472104,
          165518.2626472104,
          165518.2626472104,
          165518.2626472104,
          165518.2626472104,
          165547.6622545343,
          165547.6622545343,
          165619.06130089238,
          165619.06130089238,
          165799.65888873924,
          165898.3575704695,
          165929.8571497451,
          166186.05372785343,
          166396.05092302422,
          166404.45081083104,
          166469.54994133397,
          166471.64991328568,
          166553.5488194023,
          166553.5488194023,
          166553.5488194023,
          166572.44856696765,
          166597.64823038815,
          166679.54713650476,
          166904.24413533747,
          166984.04306950237,
          167072.24189147408,
          167072.24189147408,
          167131.0411061219,
          167133.1410780736,
          167160.4407134458,
          167198.24020857655,
          167271.7392268863,
          167326.3384976307,
          167326.3384976307,
          167330.53844153413,
          167357.83807690634,
          167362.03802080973,
          167362.03802080973,
          167483.83639400877,
          167509.03605742927,
          167706.4334208898,
          167706.4334208898,
          167719.03325260006,
          167763.13266358591,
          167803.03213066835,
          167811.43201847517,
          167824.03185018542,
          167828.23179408885,
          168050.82882096985,
          168076.02848439035,
          168082.32840024546,
          168130.62775513474,
          168130.62775513474,
          168130.62775513474,
          168149.5275027001,
          168149.5275027001,
          168149.5275027001,
          168149.5275027001,
          168149.5275027001,
          168155.82741855524,
          168155.82741855524,
          168193.626913686,
          168286.0256795611,
          168286.0256795611,
          168286.0256795611,
          168286.0256795611,
          168286.0256795611,
          168435.12368813236,
          168475.02315521482,
          168512.82265034554,
          168645.12088330314,
          168731.21973332315,
          168811.01866748804,
          168916.01726507343,
          169168.01389927833,
          169174.31381513347,
          169184.813674892,
          169184.813674892,
          169336.01165541494,
          169336.01165541494,
          169336.01165541494,
          169336.01165541494,
          169336.01165541494,
          169338.11162736666,
          169466.20991642083,
          169468.30988837255,
          169546.00885058573,
          169556.50871034426,
          169585.90831766816,
          169823.20514821113,
          169861.00464334188,
          169905.10405432773,
          169978.60307263752,
          169987.00296044434,
          170029.0023994785,
          170029.0023994785,
          170071.00183851263,
          170096.20150193313,
          170136.1009690156,
          170152.90074462924,
          170165.5005763395,
          170176.00043609802,
          170176.00043609802,
          170176.00043609802,
          170176.00043609802,
          170176.00043609802,
          170251.5994263595,
          170385.9976312688,
          170385.9976312688,
          170427.99707030295,
          170566.59521911567,
          170568.69519106735,
          170595.99482643956,
          170604.3947142464,
          170730.39303134885,
          170772.392470383,
          170778.69238623814,
          170805.99202161032,
          170847.9914606445,
          170982.38966555378,
          170994.98949726403,
          171045.388824105,
          171057.98865581525,
          171068.4885155738,
          171158.78730949722,
          171204.9866924348,
          171225.98641195186,
          171278.48571074454,
          171278.48571074454,
          171435.98360712262,
          171435.98360712262,
          171435.98360712262,
          171435.98360712262,
          171435.98360712262,
          171435.98360712262,
          171435.98360712262,
          171435.98360712262,
          171435.98360712262,
          171435.98360712262,
          171435.98360712262,
          171435.98360712262,
          171435.98360712262,
          171435.98360712262,
          171435.98360712262,
          171435.98360712262,
          171435.98360712262,
          171519.98248519094,
          171561.98192422508,
          171687.98024132755,
          171687.98024132755,
          171687.98024132755,
          171687.98024132755,
          171687.98024132755,
          171687.98024132755,
          171687.98024132755,
          171687.98024132755,
          171708.97996084462,
          171761.47925963733,
          171795.07881086465,
          171799.27875476805,
          171813.97855843,
          171864.377885271,
          171939.97687553248,
          171939.97687553248,
          171939.97687553248,
          171939.97687553248,
          171939.97687553248,
          171939.97687553248,
          171939.97687553248,
          171939.97687553248,
          172002.9760340837,
          172049.17541702127,
          172049.17541702127,
          172065.97519263494,
          172076.47505239348,
          172116.3745194759,
          172154.17401460666,
          172215.0732012062,
          172233.97294877155,
          172280.17233170912,
          172317.97182683984,
          172349.47140611548,
          172364.1712097774,
          172618.26781593406,
          172695.96677814724,
          172695.96677814724,
          172695.96677814724,
          172695.96677814724,
          172752.66602084335,
          172756.86596474677,
          173036.16223432389,
          173036.16223432389,
          173036.16223432389,
          173048.76206603413,
          173073.96172945463,
          173099.1613928751,
          173157.96060752292,
          173227.25968192928,
          173237.75954168782,
          173288.15886852882,
          173319.65844780442,
          173325.95836365953,
          173349.05805512832,
          173388.95752221078,
          173391.05749416247,
          173433.05693319664,
          173441.45682100346,
          173451.956680762,
          173472.95640027907,
          173491.85614784446,
          173521.25575516836,
          173535.95555883032,
          173535.95555883032,
          173535.95555883032,
          173535.95555883032,
          173567.45513810593,
          173573.75505396104,
          173573.75505396104,
          173573.75505396104,
          173573.75505396104,
          173586.3548856713,
          173586.3548856713,
          173603.15466128496,
          173640.95415641568,
          173645.1541003191,
          173653.55398812593,
          173661.95387593276,
          173670.3537637396,
          173708.15325887033,
          173733.35292229083,
          173745.95275400107,
          173804.7519686489,
          173817.35180035915,
          173821.55174426254,
          173850.95135158647,
          173857.25126744158,
          173857.25126744158,
          173876.15101500694,
          173903.45065037915,
          173913.95051013769,
          173955.94994917183,
          173955.94994917183,
          173955.94994917183,
          173955.94994917183,
          173955.94994917183,
          173955.94994917183,
          173955.94994917183,
          173955.94994917183,
          173955.94994917183,
          173955.94994917183,
          173955.94994917183,
          173955.94994917183,
          173955.94994917183,
          173955.94994917183,
          173955.94994917183,
          173955.94994917183,
          173955.94994917183,
          173955.94994917183,
          173955.94994917183,
          173955.94994917183,
          173955.94994917183,
          173955.94994917183,
          173955.94994917183,
          173955.94994917183,
          173955.94994917183,
          173970.6497528338,
          174010.54921991625,
          174012.64919186794,
          174048.34871504697,
          174065.14849066065,
          174079.84829432258,
          174090.34815408115,
          174168.04711629433,
          174193.2467797148,
          174195.3467516665,
          174233.14624679726,
          174249.9460224109,
          174270.945741928,
          174350.74467609287,
          174354.9446199963,
          174373.84436756166,
          174388.54417122362,
          174390.64414317533,
          174407.44391878898,
          174417.94377854752,
          174417.94377854752,
          174455.74327367826,
          174472.54304929194,
          174478.84296514705,
          174527.14232003634,
          174585.94153468416,
          174585.94153468416,
          174585.94153468416,
          174585.94153468416,
          174585.94153468416,
          174585.94153468416,
          174585.94153468416,
          174585.94153468416,
          174585.94153468416,
          174659.4405529939,
          174669.94041275245,
          174707.7399078832,
          174711.9398517866,
          174711.9398517866,
          174747.63937496563,
          174764.4391505793,
          174770.7390664344,
          174774.93901033784,
          174774.93901033784,
          174787.5388420481,
          174793.8387579032,
          174858.93788840616,
          174884.13755182663,
          174917.73710305395,
          174957.6365701364,
          174966.03645794324,
          174974.43634575006,
          175005.93592502567,
          175005.93592502567,
          175029.03561649445,
          175064.7351396735,
          175089.934803094,
          175094.1347469974,
          175110.93452261106,
          175110.93452261106,
          175110.93452261106,
          175127.73429822474,
          175127.73429822474,
          175138.23415798327,
          175205.43326043792,
          175215.93312019645,
          175215.93312019645,
          175215.93312019645,
          175215.93312019645,
          175215.93312019645,
          175215.93312019645,
          175224.33300800328,
          175255.83258727888,
          175257.9325592306,
          175293.63208240963,
          175295.73205436135,
          175308.3318860716,
          175323.03168973353,
          175344.03140925063,
          175346.1313812023,
          175373.43101657453,
          175373.43101657453,
          175373.43101657453,
          175381.83090438135,
          175409.13053975356,
          175409.13053975356,
          175446.93003488428,
          175461.62983854624,
          175461.62983854624,
          175467.92975440138,
          175472.12969830478,
          175488.92947391846,
          175491.02944587014,
          175491.02944587014,
          175503.6292775804,
          175516.22910929064,
          175520.42905319406,
          175530.9289129526,
          175614.9277910209,
          175635.927510538,
          175635.927510538,
          175635.927510538,
          175644.32739834482,
          175661.12717395846,
          175661.12717395846,
          175661.12717395846,
          175696.8266971375,
          175738.82613617167,
          175768.22574349557,
          175770.32571544728,
          175778.7256032541,
          175782.92554715753,
          175787.12549106093,
          175822.82501423996,
          175845.92470570875,
          175845.92470570875,
          175887.9241447429,
          175890.0241166946,
          175894.22406059803,
          175898.42400450143,
          175898.42400450143,
          175898.42400450143,
          175898.42400450143,
          175898.42400450143,
          175898.42400450143,
          175898.42400450143,
          175898.42400450143,
          175967.7230789078,
          175971.9230228112,
          175978.22293866632,
          175997.1226862317,
          175997.1226862317,
          176005.52257403854,
          176034.92218136243,
          176049.6219850244,
          176051.7219569761,
          176053.82192892782,
          176055.92190087953,
          176081.1215643,
          176129.4209191893,
          176148.32066675465,
          176152.52061065807,
          176156.7205545615,
          176156.7205545615,
          176160.9204984649,
          176160.9204984649,
          176188.2201338371,
          176223.91965701614,
          176226.01962896786,
          176253.31926434004,
          176295.31870337419,
          176307.91853508443,
          176339.41811436004,
          176347.8180021669,
          176404.517244863,
          176444.41671194544,
          176461.2164875591,
          176475.91629122104,
          176475.91629122104,
          176475.91629122104,
          176475.91629122104,
          176475.91629122104,
          176475.91629122104,
          176475.91629122104,
          176475.91629122104,
          176475.91629122104,
          176475.91629122104,
          176475.91629122104,
          176475.91629122104,
          176475.91629122104,
          176475.91629122104,
          176480.11623512447,
          176486.41615097958,
          176486.41615097958,
          176496.91601073812,
          176505.31589854497,
          176538.9154497723,
          176570.4150290479,
          176580.91488880644,
          176580.91488880644,
          176580.91488880644,
          176580.91488880644,
          176580.91488880644,
          176580.91488880644,
          176604.01458027522,
          176606.11455222694,
          176622.91432784058,
          176625.0142997923,
          176627.114271744,
          176633.41418759912,
          176643.91404735768,
          176643.91404735768,
          176658.61385101962,
          176683.81351444012,
          176685.91348639183,
          176685.91348639183,
          176685.91348639183,
          176685.91348639183,
          176727.91292542598,
          176727.91292542598,
          176727.91292542598,
          176727.91292542598,
          176730.0128973777,
          176738.4127851845,
          176746.81267299133,
          176748.91264494305,
          176753.11258884647,
          176761.5124766533,
          176778.31225226697,
          176778.31225226697,
          176778.31225226697,
          176778.31225226697,
          176782.51219617037,
          176803.51191568744,
          176816.1117473977,
          176881.21087790065,
          176895.9106815626,
          176965.20975596894,
          176969.40969987237,
          176979.9095596309,
          176979.9095596309,
          176979.9095596309,
          176979.9095596309,
          177017.70905476162,
          177080.70821331287,
          177105.90787673334,
          177131.10754015384,
          177131.10754015384,
          177131.10754015384,
          177156.30720357434,
          177168.9070352846,
          177171.0070072363,
          177183.60683894655,
          177185.70681089826,
          177189.90675480166,
          177192.00672675337,
          177208.80650236702,
          177210.90647431873,
          177210.90647431873,
          177210.90647431873,
          177210.90647431873,
          177221.40633407727,
          177231.9061938358,
          177231.9061938358,
          177242.40605359437,
          177246.60599749777,
          177250.8059414012,
          177259.20582920802,
          177259.20582920802,
          177263.40577311144,
          177267.60571701484,
          177267.60571701484,
          177267.60571701484,
          177273.90563286998,
          177297.00532433877,
          177305.4052121456,
          177315.90507190413,
          177315.90507190413,
          177315.90507190413,
          177315.90507190413,
          177345.30467922802,
          177345.30467922802,
          177349.50462313145,
          177349.50462313145,
          177357.90451093827,
          177387.3041182622,
          177412.50378168267,
          177412.50378168267,
          177418.8036975378,
          177420.90366948952,
          177429.30355729634,
          177467.1030524271,
          177477.60291218563,
          177477.60291218563,
          177483.90282804074,
          177494.40268779927,
          177509.10249146124,
          177509.10249146124,
          177523.80229512317,
          177525.90226707488,
          177546.90198659198,
          177574.20162196417,
          177576.30159391588,
          177578.4015658676,
          177580.50153781928,
          177588.90142562613,
          177599.40128538467,
          177618.30103295002,
          177651.90058417735,
          177658.2005000325,
          177666.6003878393,
          177679.20021954956,
          177689.7000793081,
          177714.8997427286,
          177721.1996585837,
          177735.89946224567,
          177735.89946224567,
          177735.89946224567,
          177735.89946224567,
          177735.89946224567,
          177735.89946224567,
          177735.89946224567,
          177735.89946224567,
          177735.89946224567,
          177735.89946224567,
          177735.89946224567,
          177735.89946224567,
          177735.89946224567,
          177735.89946224567,
          177771.5989854247,
          177773.6989573764,
          177777.8989012798,
          177777.8989012798,
          177782.09884518324,
          177813.59842445885,
          177824.09828421738,
          177824.09828421738,
          177853.49789154128,
          177861.89777934813,
          177861.89777934813,
          177874.49761105835,
          177880.7975269135,
          177912.2971061891,
          177912.2971061891,
          177912.2971061891,
          177941.69671351303,
          177945.89665741642,
          177945.89665741642,
          177945.89665741642,
          177945.89665741642,
          177945.89665741642,
          177945.89665741642,
          177945.89665741642,
          177945.89665741642,
          177947.99662936814,
          177987.89609645057,
          177987.89609645057,
          177987.89609645057,
          177998.3959562091,
          178008.89581596767,
          178019.3956757262,
          178019.3956757262,
          178034.09547938814,
          178038.29542329157,
          178050.89525500181,
          178063.49508671206,
          178067.69503061546,
          178092.89469403596,
          178111.79444160132,
          178113.89441355303,
          178128.594217215,
          178128.594217215,
          178147.49396478035,
          178155.8938525872,
          178155.8938525872,
          178155.8938525872,
          178164.29374039403,
          178168.49368429743,
          178218.89301113843,
          178231.49284284867,
          178239.8927306555,
          178250.39259041403,
          178250.39259041403,
          178252.49256236575,
          178254.59253431746,
          178256.69250626917,
          178260.89245017257,
          178286.09211359307,
          178336.49144043407,
          178346.9913001926,
          178359.59113190285,
          178365.89104775796,
          178372.1909636131,
          178393.19068313017,
          178401.590570937,
          178401.590570937,
          178407.8904867921,
          178443.59000997114,
          178449.88992582628,
          178470.88964534336,
          178470.88964534336,
          178477.18956119847,
          178491.88936486043,
          178500.28925266725,
          178523.38894413604,
          178523.38894413604,
          178523.38894413604,
          178523.38894413604,
          178538.088747798,
          178575.88824292872,
          178575.88824292872,
          178586.38810268726,
          178609.48779415607,
          178638.88740147997,
          178657.78714904533,
          178680.8868405141,
          178685.08678441754,
          178687.18675636925,
          178710.286447838,
          178729.1861954034,
          178737.58608321022,
          178743.88599906536,
          178764.88571858243,
          178769.08566248583,
          178785.8854380995,
          178785.8854380995,
          178792.1853539546,
          178796.38529785804,
          178827.88487713365,
          178838.38473689219,
          178838.38473689219,
          178850.98456860243,
          178871.9842881195,
          178886.68409178147,
          178888.78406373318,
          178890.88403568487,
          178899.28392349172,
          178911.88375520197,
          178934.98344667075,
          178934.98344667075,
          178937.08341862244,
          178968.58299789808,
          178970.6829698498,
          178974.8829137532,
          178976.9828857049,
          178976.9828857049,
          178995.88263327026,
          178995.88263327026,
          178995.88263327026,
          178995.88263327026,
          178995.88263327026,
          178995.88263327026,
          178995.88263327026,
          178995.88263327026,
          178995.88263327026,
          178995.88263327026,
          178995.88263327026,
          178995.88263327026,
          178995.88263327026,
          178995.88263327026,
          178995.88263327026,
          178995.88263327026,
          178995.88263327026,
          178995.88263327026,
          178995.88263327026,
          178995.88263327026,
          178995.88263327026,
          178995.88263327026,
          178995.88263327026,
          178995.88263327026,
          179021.08229669076,
          179071.48162353173,
          179075.68156743515,
          179100.88123085565,
          179147.08061379322,
          179153.38052964833,
          179241.57935162005,
          179279.3788467508,
          179285.67876260594,
          179294.07865041276,
          179310.8784260264,
          179310.8784260264,
          179310.8784260264,
          179310.8784260264,
          179310.8784260264,
          179327.67820164008,
          179331.8781455435,
          179331.8781455435,
          179340.27803335033,
          179342.37800530205,
          179386.4774162879,
          179386.4774162879,
          179394.87730409473,
          179394.87730409473,
          179415.8770236118,
          179422.1769394669,
          179432.67679922548,
          179455.77649069426,
          179455.77649069426,
          179468.37632240448,
          179474.67623825962,
          179478.87618216302,
          179504.07584558352,
          179504.07584558352,
          179518.77564924548,
          179531.37548095573,
          179537.67539681084,
          179569.17497608648,
          179583.8747797484,
          179625.87421878258,
          179625.87421878258,
          179625.87421878258,
          179625.87421878258,
          179638.4740504928,
          179667.87365781673,
          179667.87365781673,
          179667.87365781673,
          179703.57318099577,
          179703.57318099577,
          179705.67315294745,
          179720.3729566094,
          179724.57290051284,
          179730.87281636795,
          179762.37239564356,
          179762.37239564356,
          179766.57233954698,
          179806.47180662944,
          179816.97166638798,
          179835.87141395334,
          179835.87141395334,
          179835.87141395334,
          179835.87141395334,
          179835.87141395334,
          179844.27130176016,
          179846.37127371188,
          179850.5712176153,
          179856.8711334704,
          179858.97110542213,
          179861.07107737384,
          179877.8708529875,
          179896.77060055285,
          179921.97026397334,
          180010.16908594506,
          180012.26905789677,
          180012.26905789677,
          180058.46844083435,
          180087.86804815824,
          180087.86804815824,
          180098.3679079168,
          180098.3679079168,
          180117.26765548217,
          180129.86748719242,
          180129.86748719242,
          180129.86748719242,
          180129.86748719242,
          180129.86748719242,
          180131.96745914413,
          180134.0674310958,
          180150.8672067095,
          180155.06715061291,
          180169.76695427485,
          180194.96661769535,
          180203.36650550217,
          180218.06630916413,
          180226.46619697096,
          180239.0660286812,
          180249.56588843974,
          180255.86580429488,
          180255.86580429488,
          180255.86580429488,
          180266.36566405342,
          180268.46563600513,
          180268.46563600513,
          180270.5656079568,
          180272.66557990853,
          180287.3653835705,
          180310.46507503928,
          180333.56476650806,
          180333.56476650806,
          180339.86468236317,
          180339.86468236317,
          180352.46451407342,
          180383.96409334903,
          180390.26400920417,
          180396.56392505928,
          180442.76330799685,
          180465.86299946564,
          180474.26288727246,
          180499.46255069296,
          180507.86243849978,
          180539.36201777542,
          180539.36201777542,
          180581.36145680957,
          180583.46142876128,
          180585.561400713,
          180600.26120437493,
          180633.86075560225,
          180638.06069950567,
          180638.06069950567,
          180646.4605873125,
          180665.36033487786,
          180675.8601946364,
          180675.8601946364,
          180675.8601946364,
          180675.8601946364,
          180675.8601946364,
          180680.06013853982,
          180696.8599141535,
          180696.8599141535,
          180717.85963367057,
          180719.95960562228,
          180747.25924099446,
          180753.5591568496,
          180759.8590727047,
          180759.8590727047,
          180759.8590727047,
          180776.6588483184,
          180785.0587361252,
          180808.158427594,
          180833.3580910145,
          180843.85795077303,
          180843.85795077303,
          180848.05789467643,
          180877.45750200035,
          180885.85738980718,
          180885.85738980718,
          180885.85738980718,
          180948.8565483584,
          180948.8565483584,
          180974.0562117789,
          180995.05593129597,
          181016.05565081304,
          181032.85542642671,
          181041.25531423354,
          181079.0548093643,
          181081.154781316,
          181083.25475326768,
          181102.15450083307,
          181127.35416425357,
          181146.25391181893,
          181148.35388377064,
          181148.35388377064,
          181148.35388377064,
          181148.35388377064,
          181154.65379962575,
          181167.253631336,
          181169.35360328772,
          181173.55354719114,
          181200.85318256333,
          181205.05312646675,
          181211.35304232186,
          181213.45301427357,
          181219.75293012868,
          181232.35276183893,
          181236.55270574236,
          181259.65239721115,
          181263.85234111454,
          181284.85206063165,
          181322.65155576236,
          181331.0514435692,
          181349.95119113458,
          181364.65099479654,
          181436.05004115458,
          181436.05004115458,
          181448.64987286483,
          181450.74984481654,
          181469.6495923819,
          181473.84953628533,
          181482.24942409215,
          181496.9492277541,
          181501.1491716575,
          181515.84897531947,
          181515.84897531947,
          181515.84897531947,
          181515.84897531947,
          181515.84897531947,
          181515.84897531947,
          181515.84897531947,
          181515.84897531947,
          181515.84897531947,
          181515.84897531947,
          181515.84897531947,
          181515.84897531947,
          181515.84897531947,
          181515.84897531947,
          181583.04807777412,
          181597.74788143608,
          181612.44768509804,
          181625.04751680826,
          181639.74732047023,
          181683.84673145608,
          181717.4462826834,
          181725.84617049026,
          181763.64566562098,
          181767.8456095244,
          181769.94558147612,
          181782.54541318637,
          181788.84532904148,
          181818.24493636537,
          181872.84420710977,
          181916.94361809565,
          181923.24353395076,
          181931.6434217576,
          181935.843365661,
          181935.843365661,
          181942.14328151612,
          181996.74255226055,
          181996.74255226055,
          182019.84224372933,
          182019.84224372933,
          182038.7419912947,
          182040.8419632464,
          182072.34154252202,
          182082.84140228055,
          182093.3412620391,
          182093.3412620391,
          182137.44067302495,
          182145.84056083177,
          182152.1404766869,
          182187.83999986594,
          182236.1393547552,
          182242.43927061034,
          182271.83887793423,
          182292.8385974513,
          182303.33845720984,
          182322.23820477523,
          182343.2379242923,
          182351.63781209913,
          182355.83775600255,
          182355.83775600255,
          182370.53755966452,
          182376.83747551963,
          182385.23736332645,
          182389.43730722988,
          182393.63725113327,
          182414.63697065038,
          182429.3367743123,
          182441.93660602256,
          182456.63640968452,
          182458.73638163623,
          182460.83635358792,
          182460.83635358792,
          182460.83635358792,
          182460.83635358792,
          182513.33565238063,
          182513.33565238063,
          182538.53531580113,
          182570.03489507674,
          182582.634726787,
          182586.83467069038,
          182599.43450240063,
          182601.53447435235,
          182635.13402557967,
          182649.83382924163,
          182649.83382924163,
          182651.9338011933,
          182658.23371704845,
          182660.33368900017,
          182693.9332402275,
          182696.0332121792,
          182706.53307193774,
          182763.23231463385,
          182775.8321463441,
          182784.23203415092,
          182794.73189390945,
          182805.231753668,
          182824.13150123335,
          182828.33144513678,
          182830.4314170885,
          182834.6313609919,
          182849.33116465385,
          182866.13094026753,
          182895.53054759142,
          182933.33004272217,
          182933.33004272217,
          182939.62995857728,
          182985.82934151485,
          182985.82934151485,
          182985.82934151485,
          183011.02900493535,
          183040.42861225925,
          183097.12785495535,
          183162.22698545828,
          183195.8265366856,
          183195.8265366856,
          183195.8265366856,
          183208.42636839586,
          183229.42608791293,
          183229.42608791293,
          183248.32583547832,
          183277.7254428022,
          183286.12533060904,
          183290.32527451246,
          183290.32527451246,
          183330.22474159492,
          183342.82457330514,
          183393.22390014614,
          183405.8237318564,
          183405.8237318564,
          183405.8237318564,
          183405.8237318564,
          183441.52325503543,
          183512.92230139347,
          183540.22193676568,
          183546.5218526208,
          183546.5218526208,
          183567.5215721379,
          183578.02143189643,
          183588.52129165496,
          183607.42103922032,
          183695.61986119204,
          183697.71983314375,
          183701.91977704718,
          183708.2196929023,
          183712.41963680572,
          183722.91949656425,
          183783.81868316376,
          183790.1185990189,
          183794.3185429223,
          183800.61845877743,
          183825.81812219793,
          183825.81812219793,
          183848.91781366672,
          183874.1174770872,
          183876.2174490389,
          183893.01722465258,
          183935.01666368672,
          183945.51652344526,
          184010.6156539482,
          184010.6156539482,
          184033.71534541697,
          184035.8153173687,
          184035.8153173687,
          184042.11523322383,
          184058.91500883747,
          184098.81447591993,
          184132.41402714723,
          184214.31293326383,
          184224.81279302237,
          184224.81279302237,
          184224.81279302237,
          184235.3126527809,
          184243.71254058776,
          184262.61228815312,
          184283.6120076702,
          184292.01189547702,
          184317.2115588975,
          184323.51147475265,
          184338.2112784146,
          184350.81111012484,
          184361.31096988337,
          184361.31096988337,
          184371.8108296419,
          184371.8108296419,
          184388.61060525558,
          184413.81026867608,
          184418.01021257948,
          184462.10962356534,
          184466.30956746876,
          184474.7094552756,
          184497.80914674437,
          184506.2090345512,
          184512.50895040634,
          184546.10850163366,
          184548.20847358537,
          184573.40813700587,
          184575.50810895755,
          184611.2076321366,
          184722.5061455771,
          184724.6061175288,
          184754.00572485273,
          184754.00572485273,
          184779.2053882732,
          184787.60527608002,
          184825.40477121077,
          184829.6047151142,
          184842.20454682445,
          184861.1042943898,
          184863.20426634152,
          184875.80409805177,
          184909.4036492791,
          184917.8035370859,
          184949.30311636152,
          184955.60303221666,
          184968.20286392688,
          184993.40252734738,
          185003.90238710592,
          185010.20230296106,
          185031.20202247813,
          185071.10148956056,
          185102.6010688362,
          185113.10092859474,
          185163.5002554357,
          185182.4000030011,
          185194.9998347113,
          185272.6987969245,
          185327.29806766892,
          185379.7973664616,
          185432.29666525428,
          185432.29666525428,
          185457.49632867478,
          185488.9959079504,
          185509.99562746746,
          185514.1955713709,
          185579.29470187382,
          185656.99366408703,
          185711.59293483142,
          185715.79287873482,
          185722.09279458996,
          185761.9922616724,
          185896.39046658168,
          185921.59013000218,
          185925.7900739056,
          185965.68954098804,
          185978.2893726983,
          186001.38906416707,
          186068.58816662172,
          186102.18771784904,
          186135.78726907636,
          186146.2871288349,
          186148.3871007866,
          186200.8863995793,
          186247.08578251686,
          186286.98524959933,
          186286.98524959933,
          186347.88443619883,
          186398.28376303983,
          186398.28376303983,
          186398.28376303983,
          186398.28376303983,
          186412.9835667018,
          186469.6828093979,
          186499.0824167218,
          186503.28236062522,
          186585.1812667418,
          186692.2798362789,
          186732.17930336134,
          186736.37924726476,
          186765.77885458866,
          186862.37756436723,
          186870.77745217405,
          186891.77717169112,
          186975.77604975944,
          187013.57554489016,
          187080.77464734484,
          187126.97403028238,
          187131.1739741858,
          187139.57386199263,
          187185.7732449302,
          187185.7732449302,
          187187.8732168819,
          187217.2728242058,
          187221.47276810923,
          187223.57274006095,
          187240.3725156746,
          187311.77156203266,
          187328.57133764634,
          187395.77044010098,
          187395.77044010098,
          187500.76903768635,
          187502.86900963806,
          187549.06839257563,
          187563.7681962376,
          187567.968140141,
          187580.56797185124,
          187591.06783160978,
          187595.2677755132,
          187595.2677755132,
          187605.76763527174,
          187614.16752307856,
          187626.7673547888,
          187664.56684991956,
          187727.56600847078,
          187838.86452191128,
          187868.2641292352,
          187893.46379265568,
          187941.76314754496,
          187960.66289511035,
          188006.8622780479,
          188006.8622780479,
          188006.8622780479,
          188040.46182927524,
          188235.75922078404,
          188235.75922078404,
          188248.35905249428,
          188349.15770617625,
          188445.75641595482,
          188470.9560793753,
          188477.25599523043,
          188477.25599523043,
          188477.25599523043,
          188540.25515378165,
          188559.15490134704,
          188565.45481720215,
          188603.2543123329,
          188636.85386356022,
          188655.75361112558,
          188687.25319040118,
          188710.35288186997,
          188718.7527696768,
          188781.75192822804,
          188872.05072215147,
          188930.8499367993,
          189000.14901120565,
          189023.2487026744,
          189163.94682343883,
          189180.7465990525,
          189361.34418689937,
          189371.8440466579,
          189409.64354178862,
          189436.94317716084,
          189464.24281253305,
          189468.44275643645,
          189491.54244790523,
          189497.84236376034,
          189672.1400357521,
          189747.73902601356,
          189835.9378479853,
          189861.13751140577,
          189869.53739921263,
          189875.83731506774,
          189922.0366980053,
          189922.0366980053,
          190020.73537973556,
          190039.63512730092,
          190108.93420170728,
          190226.53263100292,
          190258.03221027853,
          190287.43181760245,
          190625.5273018274,
          190873.3239921289,
          190978.32258971425,
          191142.12040194747,
          191230.31922391918,
          191240.81908367772,
          191381.51720444215,
          191434.01650323483,
          191545.31501667533,
          191549.51496057876,
          191581.01453985437,
          191599.91428741973,
          191618.81403498512,
          191618.81403498512,
          191644.0136984056,
          191721.71266061877,
          191910.71013627248,
          192148.00696681545,
          192152.20691071887,
          192162.7067704774,
          192505.00219860574,
          192553.30155349502,
          192559.60146935016,
          192765.3987206175,
          192767.4986925692,
          192847.2976267341,
          192910.29678528532,
          192979.59585969168,
          193034.1951304361,
          193109.79412069757,
          193235.79243780003,
          193414.29005369518,
          193468.88932443957,
          193580.18783788008,
          193611.68741715568,
          193769.18531353376,
          193794.38497695426,
          193819.58464037476,
          193840.58435989183,
          193888.8837147811,
          193983.38245260794,
          194052.6815270143,
          194336.17774049484,
          194625.9738698305,
          194754.07215888466,
          194787.671710112,
          194829.67114914616,
          194991.36898942763,
          195375.66385659014,
          195423.96321147942,
          195585.6610517609,
          195591.96096761603,
          195673.85987373264,
          195795.65824693168,
          195944.75625550293,
          196121.15389944636,
          196364.75064584444,
          196467.64927147812,
          196635.64702761476,
          196698.64618616598,
          197446.23620097392,
          197580.6344058832,
          198315.6245889809,
          198504.62206463458,
          199025.41510865808,
          199357.21067702788,
          199529.40837706794,
          200184.5996260007,
          200625.59373585932,
          201740.6788422161,
          201977.97567275906,
          202475.6690253138,
          202717.16579976017,
          202935.56288273778,
          203536.15486092618,
          203741.9521121935,
          203886.85017686134,
          204059.04787690137,
          204395.04338917462,
          204510.54184651852,
          204510.54184651852,
          204573.54100506977,
          204766.73842462688,
          204888.53679782592,
          205917.52305416268,
          207030.50818856774,
          207675.199577742,
          208384.99009741918,
          209424.47621351448,
          210667.65960892543,
          211335.45068956848,
          211534.94802498072,
          211936.04266775688,
          212047.34118119738,
          212215.338937334,
          213733.61865841865,
          213809.21764868012,
          216900.37636159384,
          219101.14696698348,
          221749.21159808684,
          225552.26080262946,
          227007.54136516288,
          227438.03561526292,
          231600.18002354755,
          232614.46647622238,
          233931.14888994308,
          235485.12813420675,
          240953.45509645354,
          243032.42732864415,
          254594.8728947466,
          256671.74515498552,
          264403.8418811732,
          270359.36233621615,
          270611.3589704211,
          271193.0512010441,
          278954.54753455566,
          292997.0599756249,
          307432.26717166346,
          400645.8221640638,
          492731.6922183971,
          504617.53346506256,
          610844.6146421954
         ],
         "yaxis": "y"
        }
       ],
       "layout": {
        "legend": {
         "tracegroupgap": 0
        },
        "margin": {
         "t": 60
        },
        "template": {
         "data": {
          "bar": [
           {
            "error_x": {
             "color": "#2a3f5f"
            },
            "error_y": {
             "color": "#2a3f5f"
            },
            "marker": {
             "line": {
              "color": "#E5ECF6",
              "width": 0.5
             },
             "pattern": {
              "fillmode": "overlay",
              "size": 10,
              "solidity": 0.2
             }
            },
            "type": "bar"
           }
          ],
          "barpolar": [
           {
            "marker": {
             "line": {
              "color": "#E5ECF6",
              "width": 0.5
             },
             "pattern": {
              "fillmode": "overlay",
              "size": 10,
              "solidity": 0.2
             }
            },
            "type": "barpolar"
           }
          ],
          "carpet": [
           {
            "aaxis": {
             "endlinecolor": "#2a3f5f",
             "gridcolor": "white",
             "linecolor": "white",
             "minorgridcolor": "white",
             "startlinecolor": "#2a3f5f"
            },
            "baxis": {
             "endlinecolor": "#2a3f5f",
             "gridcolor": "white",
             "linecolor": "white",
             "minorgridcolor": "white",
             "startlinecolor": "#2a3f5f"
            },
            "type": "carpet"
           }
          ],
          "choropleth": [
           {
            "colorbar": {
             "outlinewidth": 0,
             "ticks": ""
            },
            "type": "choropleth"
           }
          ],
          "contour": [
           {
            "colorbar": {
             "outlinewidth": 0,
             "ticks": ""
            },
            "colorscale": [
             [
              0,
              "#0d0887"
             ],
             [
              0.1111111111111111,
              "#46039f"
             ],
             [
              0.2222222222222222,
              "#7201a8"
             ],
             [
              0.3333333333333333,
              "#9c179e"
             ],
             [
              0.4444444444444444,
              "#bd3786"
             ],
             [
              0.5555555555555556,
              "#d8576b"
             ],
             [
              0.6666666666666666,
              "#ed7953"
             ],
             [
              0.7777777777777778,
              "#fb9f3a"
             ],
             [
              0.8888888888888888,
              "#fdca26"
             ],
             [
              1,
              "#f0f921"
             ]
            ],
            "type": "contour"
           }
          ],
          "contourcarpet": [
           {
            "colorbar": {
             "outlinewidth": 0,
             "ticks": ""
            },
            "type": "contourcarpet"
           }
          ],
          "heatmap": [
           {
            "colorbar": {
             "outlinewidth": 0,
             "ticks": ""
            },
            "colorscale": [
             [
              0,
              "#0d0887"
             ],
             [
              0.1111111111111111,
              "#46039f"
             ],
             [
              0.2222222222222222,
              "#7201a8"
             ],
             [
              0.3333333333333333,
              "#9c179e"
             ],
             [
              0.4444444444444444,
              "#bd3786"
             ],
             [
              0.5555555555555556,
              "#d8576b"
             ],
             [
              0.6666666666666666,
              "#ed7953"
             ],
             [
              0.7777777777777778,
              "#fb9f3a"
             ],
             [
              0.8888888888888888,
              "#fdca26"
             ],
             [
              1,
              "#f0f921"
             ]
            ],
            "type": "heatmap"
           }
          ],
          "heatmapgl": [
           {
            "colorbar": {
             "outlinewidth": 0,
             "ticks": ""
            },
            "colorscale": [
             [
              0,
              "#0d0887"
             ],
             [
              0.1111111111111111,
              "#46039f"
             ],
             [
              0.2222222222222222,
              "#7201a8"
             ],
             [
              0.3333333333333333,
              "#9c179e"
             ],
             [
              0.4444444444444444,
              "#bd3786"
             ],
             [
              0.5555555555555556,
              "#d8576b"
             ],
             [
              0.6666666666666666,
              "#ed7953"
             ],
             [
              0.7777777777777778,
              "#fb9f3a"
             ],
             [
              0.8888888888888888,
              "#fdca26"
             ],
             [
              1,
              "#f0f921"
             ]
            ],
            "type": "heatmapgl"
           }
          ],
          "histogram": [
           {
            "marker": {
             "pattern": {
              "fillmode": "overlay",
              "size": 10,
              "solidity": 0.2
             }
            },
            "type": "histogram"
           }
          ],
          "histogram2d": [
           {
            "colorbar": {
             "outlinewidth": 0,
             "ticks": ""
            },
            "colorscale": [
             [
              0,
              "#0d0887"
             ],
             [
              0.1111111111111111,
              "#46039f"
             ],
             [
              0.2222222222222222,
              "#7201a8"
             ],
             [
              0.3333333333333333,
              "#9c179e"
             ],
             [
              0.4444444444444444,
              "#bd3786"
             ],
             [
              0.5555555555555556,
              "#d8576b"
             ],
             [
              0.6666666666666666,
              "#ed7953"
             ],
             [
              0.7777777777777778,
              "#fb9f3a"
             ],
             [
              0.8888888888888888,
              "#fdca26"
             ],
             [
              1,
              "#f0f921"
             ]
            ],
            "type": "histogram2d"
           }
          ],
          "histogram2dcontour": [
           {
            "colorbar": {
             "outlinewidth": 0,
             "ticks": ""
            },
            "colorscale": [
             [
              0,
              "#0d0887"
             ],
             [
              0.1111111111111111,
              "#46039f"
             ],
             [
              0.2222222222222222,
              "#7201a8"
             ],
             [
              0.3333333333333333,
              "#9c179e"
             ],
             [
              0.4444444444444444,
              "#bd3786"
             ],
             [
              0.5555555555555556,
              "#d8576b"
             ],
             [
              0.6666666666666666,
              "#ed7953"
             ],
             [
              0.7777777777777778,
              "#fb9f3a"
             ],
             [
              0.8888888888888888,
              "#fdca26"
             ],
             [
              1,
              "#f0f921"
             ]
            ],
            "type": "histogram2dcontour"
           }
          ],
          "mesh3d": [
           {
            "colorbar": {
             "outlinewidth": 0,
             "ticks": ""
            },
            "type": "mesh3d"
           }
          ],
          "parcoords": [
           {
            "line": {
             "colorbar": {
              "outlinewidth": 0,
              "ticks": ""
             }
            },
            "type": "parcoords"
           }
          ],
          "pie": [
           {
            "automargin": true,
            "type": "pie"
           }
          ],
          "scatter": [
           {
            "fillpattern": {
             "fillmode": "overlay",
             "size": 10,
             "solidity": 0.2
            },
            "type": "scatter"
           }
          ],
          "scatter3d": [
           {
            "line": {
             "colorbar": {
              "outlinewidth": 0,
              "ticks": ""
             }
            },
            "marker": {
             "colorbar": {
              "outlinewidth": 0,
              "ticks": ""
             }
            },
            "type": "scatter3d"
           }
          ],
          "scattercarpet": [
           {
            "marker": {
             "colorbar": {
              "outlinewidth": 0,
              "ticks": ""
             }
            },
            "type": "scattercarpet"
           }
          ],
          "scattergeo": [
           {
            "marker": {
             "colorbar": {
              "outlinewidth": 0,
              "ticks": ""
             }
            },
            "type": "scattergeo"
           }
          ],
          "scattergl": [
           {
            "marker": {
             "colorbar": {
              "outlinewidth": 0,
              "ticks": ""
             }
            },
            "type": "scattergl"
           }
          ],
          "scattermapbox": [
           {
            "marker": {
             "colorbar": {
              "outlinewidth": 0,
              "ticks": ""
             }
            },
            "type": "scattermapbox"
           }
          ],
          "scatterpolar": [
           {
            "marker": {
             "colorbar": {
              "outlinewidth": 0,
              "ticks": ""
             }
            },
            "type": "scatterpolar"
           }
          ],
          "scatterpolargl": [
           {
            "marker": {
             "colorbar": {
              "outlinewidth": 0,
              "ticks": ""
             }
            },
            "type": "scatterpolargl"
           }
          ],
          "scatterternary": [
           {
            "marker": {
             "colorbar": {
              "outlinewidth": 0,
              "ticks": ""
             }
            },
            "type": "scatterternary"
           }
          ],
          "surface": [
           {
            "colorbar": {
             "outlinewidth": 0,
             "ticks": ""
            },
            "colorscale": [
             [
              0,
              "#0d0887"
             ],
             [
              0.1111111111111111,
              "#46039f"
             ],
             [
              0.2222222222222222,
              "#7201a8"
             ],
             [
              0.3333333333333333,
              "#9c179e"
             ],
             [
              0.4444444444444444,
              "#bd3786"
             ],
             [
              0.5555555555555556,
              "#d8576b"
             ],
             [
              0.6666666666666666,
              "#ed7953"
             ],
             [
              0.7777777777777778,
              "#fb9f3a"
             ],
             [
              0.8888888888888888,
              "#fdca26"
             ],
             [
              1,
              "#f0f921"
             ]
            ],
            "type": "surface"
           }
          ],
          "table": [
           {
            "cells": {
             "fill": {
              "color": "#EBF0F8"
             },
             "line": {
              "color": "white"
             }
            },
            "header": {
             "fill": {
              "color": "#C8D4E3"
             },
             "line": {
              "color": "white"
             }
            },
            "type": "table"
           }
          ]
         },
         "layout": {
          "annotationdefaults": {
           "arrowcolor": "#2a3f5f",
           "arrowhead": 0,
           "arrowwidth": 1
          },
          "autotypenumbers": "strict",
          "coloraxis": {
           "colorbar": {
            "outlinewidth": 0,
            "ticks": ""
           }
          },
          "colorscale": {
           "diverging": [
            [
             0,
             "#8e0152"
            ],
            [
             0.1,
             "#c51b7d"
            ],
            [
             0.2,
             "#de77ae"
            ],
            [
             0.3,
             "#f1b6da"
            ],
            [
             0.4,
             "#fde0ef"
            ],
            [
             0.5,
             "#f7f7f7"
            ],
            [
             0.6,
             "#e6f5d0"
            ],
            [
             0.7,
             "#b8e186"
            ],
            [
             0.8,
             "#7fbc41"
            ],
            [
             0.9,
             "#4d9221"
            ],
            [
             1,
             "#276419"
            ]
           ],
           "sequential": [
            [
             0,
             "#0d0887"
            ],
            [
             0.1111111111111111,
             "#46039f"
            ],
            [
             0.2222222222222222,
             "#7201a8"
            ],
            [
             0.3333333333333333,
             "#9c179e"
            ],
            [
             0.4444444444444444,
             "#bd3786"
            ],
            [
             0.5555555555555556,
             "#d8576b"
            ],
            [
             0.6666666666666666,
             "#ed7953"
            ],
            [
             0.7777777777777778,
             "#fb9f3a"
            ],
            [
             0.8888888888888888,
             "#fdca26"
            ],
            [
             1,
             "#f0f921"
            ]
           ],
           "sequentialminus": [
            [
             0,
             "#0d0887"
            ],
            [
             0.1111111111111111,
             "#46039f"
            ],
            [
             0.2222222222222222,
             "#7201a8"
            ],
            [
             0.3333333333333333,
             "#9c179e"
            ],
            [
             0.4444444444444444,
             "#bd3786"
            ],
            [
             0.5555555555555556,
             "#d8576b"
            ],
            [
             0.6666666666666666,
             "#ed7953"
            ],
            [
             0.7777777777777778,
             "#fb9f3a"
            ],
            [
             0.8888888888888888,
             "#fdca26"
            ],
            [
             1,
             "#f0f921"
            ]
           ]
          },
          "colorway": [
           "#636efa",
           "#EF553B",
           "#00cc96",
           "#ab63fa",
           "#FFA15A",
           "#19d3f3",
           "#FF6692",
           "#B6E880",
           "#FF97FF",
           "#FECB52"
          ],
          "font": {
           "color": "#2a3f5f"
          },
          "geo": {
           "bgcolor": "white",
           "lakecolor": "white",
           "landcolor": "#E5ECF6",
           "showlakes": true,
           "showland": true,
           "subunitcolor": "white"
          },
          "hoverlabel": {
           "align": "left"
          },
          "hovermode": "closest",
          "mapbox": {
           "style": "light"
          },
          "paper_bgcolor": "white",
          "plot_bgcolor": "#E5ECF6",
          "polar": {
           "angularaxis": {
            "gridcolor": "white",
            "linecolor": "white",
            "ticks": ""
           },
           "bgcolor": "#E5ECF6",
           "radialaxis": {
            "gridcolor": "white",
            "linecolor": "white",
            "ticks": ""
           }
          },
          "scene": {
           "xaxis": {
            "backgroundcolor": "#E5ECF6",
            "gridcolor": "white",
            "gridwidth": 2,
            "linecolor": "white",
            "showbackground": true,
            "ticks": "",
            "zerolinecolor": "white"
           },
           "yaxis": {
            "backgroundcolor": "#E5ECF6",
            "gridcolor": "white",
            "gridwidth": 2,
            "linecolor": "white",
            "showbackground": true,
            "ticks": "",
            "zerolinecolor": "white"
           },
           "zaxis": {
            "backgroundcolor": "#E5ECF6",
            "gridcolor": "white",
            "gridwidth": 2,
            "linecolor": "white",
            "showbackground": true,
            "ticks": "",
            "zerolinecolor": "white"
           }
          },
          "shapedefaults": {
           "line": {
            "color": "#2a3f5f"
           }
          },
          "ternary": {
           "aaxis": {
            "gridcolor": "white",
            "linecolor": "white",
            "ticks": ""
           },
           "baxis": {
            "gridcolor": "white",
            "linecolor": "white",
            "ticks": ""
           },
           "bgcolor": "#E5ECF6",
           "caxis": {
            "gridcolor": "white",
            "linecolor": "white",
            "ticks": ""
           }
          },
          "title": {
           "x": 0.05
          },
          "xaxis": {
           "automargin": true,
           "gridcolor": "white",
           "linecolor": "white",
           "ticks": "",
           "title": {
            "standoff": 15
           },
           "zerolinecolor": "white",
           "zerolinewidth": 2
          },
          "yaxis": {
           "automargin": true,
           "gridcolor": "white",
           "linecolor": "white",
           "ticks": "",
           "title": {
            "standoff": 15
           },
           "zerolinecolor": "white",
           "zerolinewidth": 2
          }
         }
        },
        "title": {
         "text": "Average Sale Price for Lot Area [LotArea]"
        },
        "xaxis": {
         "anchor": "y",
         "domain": [
          0,
          1
         ],
         "title": {
          "text": "LotArea"
         }
        },
        "yaxis": {
         "anchor": "x",
         "domain": [
          0,
          1
         ],
         "title": {
          "text": "SalePrice"
         }
        }
       }
      }
     },
     "metadata": {},
     "output_type": "display_data"
    }
   ],
   "source": [
    "\n",
    "fig = px.scatter(train, x='LotArea', y='SalePrice', trendline='ols', trendline_color_override='red')\n",
    "# fig.update_layout(xaxis_range=[0, 20000])\n",
    "fig.update_layout(title='Average Sale Price for Lot Area [LotArea]')\n",
    "\n"
   ]
  },
  {
   "cell_type": "code",
   "execution_count": null,
   "metadata": {},
   "outputs": [
    {
     "data": {
      "application/vnd.plotly.v1+json": {
       "config": {
        "plotlyServerURL": "https://plot.ly"
       },
       "data": [
        {
         "alignmentgroup": "True",
         "hovertemplate": "SalePrice=%{marker.color}<br>LandContour=%{y}<extra></extra>",
         "legendgroup": "",
         "marker": {
          "color": [
           143104,
           180184,
           203661,
           231534
          ],
          "coloraxis": "coloraxis",
          "pattern": {
           "shape": ""
          }
         },
         "name": "",
         "offsetgroup": "",
         "orientation": "h",
         "showlegend": false,
         "textposition": "auto",
         "texttemplate": "%{x}",
         "type": "bar",
         "x": [
          143104,
          180184,
          203661,
          231534
         ],
         "xaxis": "x",
         "y": [
          "Banked - Quick and significant rise from street grade to building",
          "Near Flat/Level",
          "Depression",
          "Hillside - Significant slope from side to side"
         ],
         "yaxis": "y"
        }
       ],
       "layout": {
        "barmode": "relative",
        "coloraxis": {
         "colorbar": {
          "title": {
           "text": "SalePrice"
          }
         },
         "colorscale": [
          [
           0,
           "#0d0887"
          ],
          [
           0.1111111111111111,
           "#46039f"
          ],
          [
           0.2222222222222222,
           "#7201a8"
          ],
          [
           0.3333333333333333,
           "#9c179e"
          ],
          [
           0.4444444444444444,
           "#bd3786"
          ],
          [
           0.5555555555555556,
           "#d8576b"
          ],
          [
           0.6666666666666666,
           "#ed7953"
          ],
          [
           0.7777777777777778,
           "#fb9f3a"
          ],
          [
           0.8888888888888888,
           "#fdca26"
          ],
          [
           1,
           "#f0f921"
          ]
         ]
        },
        "legend": {
         "tracegroupgap": 0
        },
        "margin": {
         "t": 60
        },
        "template": {
         "data": {
          "bar": [
           {
            "error_x": {
             "color": "#2a3f5f"
            },
            "error_y": {
             "color": "#2a3f5f"
            },
            "marker": {
             "line": {
              "color": "#E5ECF6",
              "width": 0.5
             },
             "pattern": {
              "fillmode": "overlay",
              "size": 10,
              "solidity": 0.2
             }
            },
            "type": "bar"
           }
          ],
          "barpolar": [
           {
            "marker": {
             "line": {
              "color": "#E5ECF6",
              "width": 0.5
             },
             "pattern": {
              "fillmode": "overlay",
              "size": 10,
              "solidity": 0.2
             }
            },
            "type": "barpolar"
           }
          ],
          "carpet": [
           {
            "aaxis": {
             "endlinecolor": "#2a3f5f",
             "gridcolor": "white",
             "linecolor": "white",
             "minorgridcolor": "white",
             "startlinecolor": "#2a3f5f"
            },
            "baxis": {
             "endlinecolor": "#2a3f5f",
             "gridcolor": "white",
             "linecolor": "white",
             "minorgridcolor": "white",
             "startlinecolor": "#2a3f5f"
            },
            "type": "carpet"
           }
          ],
          "choropleth": [
           {
            "colorbar": {
             "outlinewidth": 0,
             "ticks": ""
            },
            "type": "choropleth"
           }
          ],
          "contour": [
           {
            "colorbar": {
             "outlinewidth": 0,
             "ticks": ""
            },
            "colorscale": [
             [
              0,
              "#0d0887"
             ],
             [
              0.1111111111111111,
              "#46039f"
             ],
             [
              0.2222222222222222,
              "#7201a8"
             ],
             [
              0.3333333333333333,
              "#9c179e"
             ],
             [
              0.4444444444444444,
              "#bd3786"
             ],
             [
              0.5555555555555556,
              "#d8576b"
             ],
             [
              0.6666666666666666,
              "#ed7953"
             ],
             [
              0.7777777777777778,
              "#fb9f3a"
             ],
             [
              0.8888888888888888,
              "#fdca26"
             ],
             [
              1,
              "#f0f921"
             ]
            ],
            "type": "contour"
           }
          ],
          "contourcarpet": [
           {
            "colorbar": {
             "outlinewidth": 0,
             "ticks": ""
            },
            "type": "contourcarpet"
           }
          ],
          "heatmap": [
           {
            "colorbar": {
             "outlinewidth": 0,
             "ticks": ""
            },
            "colorscale": [
             [
              0,
              "#0d0887"
             ],
             [
              0.1111111111111111,
              "#46039f"
             ],
             [
              0.2222222222222222,
              "#7201a8"
             ],
             [
              0.3333333333333333,
              "#9c179e"
             ],
             [
              0.4444444444444444,
              "#bd3786"
             ],
             [
              0.5555555555555556,
              "#d8576b"
             ],
             [
              0.6666666666666666,
              "#ed7953"
             ],
             [
              0.7777777777777778,
              "#fb9f3a"
             ],
             [
              0.8888888888888888,
              "#fdca26"
             ],
             [
              1,
              "#f0f921"
             ]
            ],
            "type": "heatmap"
           }
          ],
          "heatmapgl": [
           {
            "colorbar": {
             "outlinewidth": 0,
             "ticks": ""
            },
            "colorscale": [
             [
              0,
              "#0d0887"
             ],
             [
              0.1111111111111111,
              "#46039f"
             ],
             [
              0.2222222222222222,
              "#7201a8"
             ],
             [
              0.3333333333333333,
              "#9c179e"
             ],
             [
              0.4444444444444444,
              "#bd3786"
             ],
             [
              0.5555555555555556,
              "#d8576b"
             ],
             [
              0.6666666666666666,
              "#ed7953"
             ],
             [
              0.7777777777777778,
              "#fb9f3a"
             ],
             [
              0.8888888888888888,
              "#fdca26"
             ],
             [
              1,
              "#f0f921"
             ]
            ],
            "type": "heatmapgl"
           }
          ],
          "histogram": [
           {
            "marker": {
             "pattern": {
              "fillmode": "overlay",
              "size": 10,
              "solidity": 0.2
             }
            },
            "type": "histogram"
           }
          ],
          "histogram2d": [
           {
            "colorbar": {
             "outlinewidth": 0,
             "ticks": ""
            },
            "colorscale": [
             [
              0,
              "#0d0887"
             ],
             [
              0.1111111111111111,
              "#46039f"
             ],
             [
              0.2222222222222222,
              "#7201a8"
             ],
             [
              0.3333333333333333,
              "#9c179e"
             ],
             [
              0.4444444444444444,
              "#bd3786"
             ],
             [
              0.5555555555555556,
              "#d8576b"
             ],
             [
              0.6666666666666666,
              "#ed7953"
             ],
             [
              0.7777777777777778,
              "#fb9f3a"
             ],
             [
              0.8888888888888888,
              "#fdca26"
             ],
             [
              1,
              "#f0f921"
             ]
            ],
            "type": "histogram2d"
           }
          ],
          "histogram2dcontour": [
           {
            "colorbar": {
             "outlinewidth": 0,
             "ticks": ""
            },
            "colorscale": [
             [
              0,
              "#0d0887"
             ],
             [
              0.1111111111111111,
              "#46039f"
             ],
             [
              0.2222222222222222,
              "#7201a8"
             ],
             [
              0.3333333333333333,
              "#9c179e"
             ],
             [
              0.4444444444444444,
              "#bd3786"
             ],
             [
              0.5555555555555556,
              "#d8576b"
             ],
             [
              0.6666666666666666,
              "#ed7953"
             ],
             [
              0.7777777777777778,
              "#fb9f3a"
             ],
             [
              0.8888888888888888,
              "#fdca26"
             ],
             [
              1,
              "#f0f921"
             ]
            ],
            "type": "histogram2dcontour"
           }
          ],
          "mesh3d": [
           {
            "colorbar": {
             "outlinewidth": 0,
             "ticks": ""
            },
            "type": "mesh3d"
           }
          ],
          "parcoords": [
           {
            "line": {
             "colorbar": {
              "outlinewidth": 0,
              "ticks": ""
             }
            },
            "type": "parcoords"
           }
          ],
          "pie": [
           {
            "automargin": true,
            "type": "pie"
           }
          ],
          "scatter": [
           {
            "fillpattern": {
             "fillmode": "overlay",
             "size": 10,
             "solidity": 0.2
            },
            "type": "scatter"
           }
          ],
          "scatter3d": [
           {
            "line": {
             "colorbar": {
              "outlinewidth": 0,
              "ticks": ""
             }
            },
            "marker": {
             "colorbar": {
              "outlinewidth": 0,
              "ticks": ""
             }
            },
            "type": "scatter3d"
           }
          ],
          "scattercarpet": [
           {
            "marker": {
             "colorbar": {
              "outlinewidth": 0,
              "ticks": ""
             }
            },
            "type": "scattercarpet"
           }
          ],
          "scattergeo": [
           {
            "marker": {
             "colorbar": {
              "outlinewidth": 0,
              "ticks": ""
             }
            },
            "type": "scattergeo"
           }
          ],
          "scattergl": [
           {
            "marker": {
             "colorbar": {
              "outlinewidth": 0,
              "ticks": ""
             }
            },
            "type": "scattergl"
           }
          ],
          "scattermapbox": [
           {
            "marker": {
             "colorbar": {
              "outlinewidth": 0,
              "ticks": ""
             }
            },
            "type": "scattermapbox"
           }
          ],
          "scatterpolar": [
           {
            "marker": {
             "colorbar": {
              "outlinewidth": 0,
              "ticks": ""
             }
            },
            "type": "scatterpolar"
           }
          ],
          "scatterpolargl": [
           {
            "marker": {
             "colorbar": {
              "outlinewidth": 0,
              "ticks": ""
             }
            },
            "type": "scatterpolargl"
           }
          ],
          "scatterternary": [
           {
            "marker": {
             "colorbar": {
              "outlinewidth": 0,
              "ticks": ""
             }
            },
            "type": "scatterternary"
           }
          ],
          "surface": [
           {
            "colorbar": {
             "outlinewidth": 0,
             "ticks": ""
            },
            "colorscale": [
             [
              0,
              "#0d0887"
             ],
             [
              0.1111111111111111,
              "#46039f"
             ],
             [
              0.2222222222222222,
              "#7201a8"
             ],
             [
              0.3333333333333333,
              "#9c179e"
             ],
             [
              0.4444444444444444,
              "#bd3786"
             ],
             [
              0.5555555555555556,
              "#d8576b"
             ],
             [
              0.6666666666666666,
              "#ed7953"
             ],
             [
              0.7777777777777778,
              "#fb9f3a"
             ],
             [
              0.8888888888888888,
              "#fdca26"
             ],
             [
              1,
              "#f0f921"
             ]
            ],
            "type": "surface"
           }
          ],
          "table": [
           {
            "cells": {
             "fill": {
              "color": "#EBF0F8"
             },
             "line": {
              "color": "white"
             }
            },
            "header": {
             "fill": {
              "color": "#C8D4E3"
             },
             "line": {
              "color": "white"
             }
            },
            "type": "table"
           }
          ]
         },
         "layout": {
          "annotationdefaults": {
           "arrowcolor": "#2a3f5f",
           "arrowhead": 0,
           "arrowwidth": 1
          },
          "autotypenumbers": "strict",
          "coloraxis": {
           "colorbar": {
            "outlinewidth": 0,
            "ticks": ""
           }
          },
          "colorscale": {
           "diverging": [
            [
             0,
             "#8e0152"
            ],
            [
             0.1,
             "#c51b7d"
            ],
            [
             0.2,
             "#de77ae"
            ],
            [
             0.3,
             "#f1b6da"
            ],
            [
             0.4,
             "#fde0ef"
            ],
            [
             0.5,
             "#f7f7f7"
            ],
            [
             0.6,
             "#e6f5d0"
            ],
            [
             0.7,
             "#b8e186"
            ],
            [
             0.8,
             "#7fbc41"
            ],
            [
             0.9,
             "#4d9221"
            ],
            [
             1,
             "#276419"
            ]
           ],
           "sequential": [
            [
             0,
             "#0d0887"
            ],
            [
             0.1111111111111111,
             "#46039f"
            ],
            [
             0.2222222222222222,
             "#7201a8"
            ],
            [
             0.3333333333333333,
             "#9c179e"
            ],
            [
             0.4444444444444444,
             "#bd3786"
            ],
            [
             0.5555555555555556,
             "#d8576b"
            ],
            [
             0.6666666666666666,
             "#ed7953"
            ],
            [
             0.7777777777777778,
             "#fb9f3a"
            ],
            [
             0.8888888888888888,
             "#fdca26"
            ],
            [
             1,
             "#f0f921"
            ]
           ],
           "sequentialminus": [
            [
             0,
             "#0d0887"
            ],
            [
             0.1111111111111111,
             "#46039f"
            ],
            [
             0.2222222222222222,
             "#7201a8"
            ],
            [
             0.3333333333333333,
             "#9c179e"
            ],
            [
             0.4444444444444444,
             "#bd3786"
            ],
            [
             0.5555555555555556,
             "#d8576b"
            ],
            [
             0.6666666666666666,
             "#ed7953"
            ],
            [
             0.7777777777777778,
             "#fb9f3a"
            ],
            [
             0.8888888888888888,
             "#fdca26"
            ],
            [
             1,
             "#f0f921"
            ]
           ]
          },
          "colorway": [
           "#636efa",
           "#EF553B",
           "#00cc96",
           "#ab63fa",
           "#FFA15A",
           "#19d3f3",
           "#FF6692",
           "#B6E880",
           "#FF97FF",
           "#FECB52"
          ],
          "font": {
           "color": "#2a3f5f"
          },
          "geo": {
           "bgcolor": "white",
           "lakecolor": "white",
           "landcolor": "#E5ECF6",
           "showlakes": true,
           "showland": true,
           "subunitcolor": "white"
          },
          "hoverlabel": {
           "align": "left"
          },
          "hovermode": "closest",
          "mapbox": {
           "style": "light"
          },
          "paper_bgcolor": "white",
          "plot_bgcolor": "#E5ECF6",
          "polar": {
           "angularaxis": {
            "gridcolor": "white",
            "linecolor": "white",
            "ticks": ""
           },
           "bgcolor": "#E5ECF6",
           "radialaxis": {
            "gridcolor": "white",
            "linecolor": "white",
            "ticks": ""
           }
          },
          "scene": {
           "xaxis": {
            "backgroundcolor": "#E5ECF6",
            "gridcolor": "white",
            "gridwidth": 2,
            "linecolor": "white",
            "showbackground": true,
            "ticks": "",
            "zerolinecolor": "white"
           },
           "yaxis": {
            "backgroundcolor": "#E5ECF6",
            "gridcolor": "white",
            "gridwidth": 2,
            "linecolor": "white",
            "showbackground": true,
            "ticks": "",
            "zerolinecolor": "white"
           },
           "zaxis": {
            "backgroundcolor": "#E5ECF6",
            "gridcolor": "white",
            "gridwidth": 2,
            "linecolor": "white",
            "showbackground": true,
            "ticks": "",
            "zerolinecolor": "white"
           }
          },
          "shapedefaults": {
           "line": {
            "color": "#2a3f5f"
           }
          },
          "ternary": {
           "aaxis": {
            "gridcolor": "white",
            "linecolor": "white",
            "ticks": ""
           },
           "baxis": {
            "gridcolor": "white",
            "linecolor": "white",
            "ticks": ""
           },
           "bgcolor": "#E5ECF6",
           "caxis": {
            "gridcolor": "white",
            "linecolor": "white",
            "ticks": ""
           }
          },
          "title": {
           "x": 0.05
          },
          "xaxis": {
           "automargin": true,
           "gridcolor": "white",
           "linecolor": "white",
           "ticks": "",
           "title": {
            "standoff": 15
           },
           "zerolinecolor": "white",
           "zerolinewidth": 2
          },
          "yaxis": {
           "automargin": true,
           "gridcolor": "white",
           "linecolor": "white",
           "ticks": "",
           "title": {
            "standoff": 15
           },
           "zerolinecolor": "white",
           "zerolinewidth": 2
          }
         }
        },
        "title": {
         "text": "Average Sale Price for Flatness of the property [LandContour]"
        },
        "xaxis": {
         "anchor": "y",
         "domain": [
          0,
          1
         ],
         "title": {
          "text": "SalePrice"
         }
        },
        "yaxis": {
         "anchor": "x",
         "domain": [
          0,
          1
         ],
         "title": {
          "text": "LandContour"
         }
        }
       }
      }
     },
     "metadata": {},
     "output_type": "display_data"
    }
   ],
   "source": [
    "LandContour = train.groupby('LandContour')['SalePrice'].mean().round().sort_values().reset_index()\n",
    "LandContour['LandContour'] = get_description(*LandContour['LandContour'])\n",
    "fig = px.bar(LandContour, y='LandContour', x='SalePrice', color='SalePrice', orientation='h', text_auto=True)\n",
    "fig.update_layout(title='Average Sale Price for Flatness of the property [LandContour]')"
   ]
  },
  {
   "cell_type": "code",
   "execution_count": null,
   "metadata": {},
   "outputs": [
    {
     "data": {
      "application/vnd.plotly.v1+json": {
       "config": {
        "plotlyServerURL": "https://plot.ly"
       },
       "data": [
        {
         "alignmentgroup": "True",
         "hovertemplate": "SalePrice=%{marker.color}<br>LotConfig=%{y}<extra></extra>",
         "legendgroup": "",
         "marker": {
          "color": [
           176938,
           177935,
           181623,
           208475,
           223855
          ],
          "coloraxis": "coloraxis",
          "pattern": {
           "shape": ""
          }
         },
         "name": "",
         "offsetgroup": "",
         "orientation": "h",
         "showlegend": false,
         "textposition": "auto",
         "texttemplate": "%{x}",
         "type": "bar",
         "x": [
          176938,
          177935,
          181623,
          208475,
          223855
         ],
         "xaxis": "x",
         "y": [
          "Inside lot",
          "Frontage on 2 sides of property",
          "Corner lot",
          "Frontage on 3 sides of property",
          "Cul-de-sac"
         ],
         "yaxis": "y"
        }
       ],
       "layout": {
        "barmode": "relative",
        "coloraxis": {
         "colorbar": {
          "title": {
           "text": "SalePrice"
          }
         },
         "colorscale": [
          [
           0,
           "#0d0887"
          ],
          [
           0.1111111111111111,
           "#46039f"
          ],
          [
           0.2222222222222222,
           "#7201a8"
          ],
          [
           0.3333333333333333,
           "#9c179e"
          ],
          [
           0.4444444444444444,
           "#bd3786"
          ],
          [
           0.5555555555555556,
           "#d8576b"
          ],
          [
           0.6666666666666666,
           "#ed7953"
          ],
          [
           0.7777777777777778,
           "#fb9f3a"
          ],
          [
           0.8888888888888888,
           "#fdca26"
          ],
          [
           1,
           "#f0f921"
          ]
         ]
        },
        "legend": {
         "tracegroupgap": 0
        },
        "margin": {
         "t": 60
        },
        "template": {
         "data": {
          "bar": [
           {
            "error_x": {
             "color": "#2a3f5f"
            },
            "error_y": {
             "color": "#2a3f5f"
            },
            "marker": {
             "line": {
              "color": "#E5ECF6",
              "width": 0.5
             },
             "pattern": {
              "fillmode": "overlay",
              "size": 10,
              "solidity": 0.2
             }
            },
            "type": "bar"
           }
          ],
          "barpolar": [
           {
            "marker": {
             "line": {
              "color": "#E5ECF6",
              "width": 0.5
             },
             "pattern": {
              "fillmode": "overlay",
              "size": 10,
              "solidity": 0.2
             }
            },
            "type": "barpolar"
           }
          ],
          "carpet": [
           {
            "aaxis": {
             "endlinecolor": "#2a3f5f",
             "gridcolor": "white",
             "linecolor": "white",
             "minorgridcolor": "white",
             "startlinecolor": "#2a3f5f"
            },
            "baxis": {
             "endlinecolor": "#2a3f5f",
             "gridcolor": "white",
             "linecolor": "white",
             "minorgridcolor": "white",
             "startlinecolor": "#2a3f5f"
            },
            "type": "carpet"
           }
          ],
          "choropleth": [
           {
            "colorbar": {
             "outlinewidth": 0,
             "ticks": ""
            },
            "type": "choropleth"
           }
          ],
          "contour": [
           {
            "colorbar": {
             "outlinewidth": 0,
             "ticks": ""
            },
            "colorscale": [
             [
              0,
              "#0d0887"
             ],
             [
              0.1111111111111111,
              "#46039f"
             ],
             [
              0.2222222222222222,
              "#7201a8"
             ],
             [
              0.3333333333333333,
              "#9c179e"
             ],
             [
              0.4444444444444444,
              "#bd3786"
             ],
             [
              0.5555555555555556,
              "#d8576b"
             ],
             [
              0.6666666666666666,
              "#ed7953"
             ],
             [
              0.7777777777777778,
              "#fb9f3a"
             ],
             [
              0.8888888888888888,
              "#fdca26"
             ],
             [
              1,
              "#f0f921"
             ]
            ],
            "type": "contour"
           }
          ],
          "contourcarpet": [
           {
            "colorbar": {
             "outlinewidth": 0,
             "ticks": ""
            },
            "type": "contourcarpet"
           }
          ],
          "heatmap": [
           {
            "colorbar": {
             "outlinewidth": 0,
             "ticks": ""
            },
            "colorscale": [
             [
              0,
              "#0d0887"
             ],
             [
              0.1111111111111111,
              "#46039f"
             ],
             [
              0.2222222222222222,
              "#7201a8"
             ],
             [
              0.3333333333333333,
              "#9c179e"
             ],
             [
              0.4444444444444444,
              "#bd3786"
             ],
             [
              0.5555555555555556,
              "#d8576b"
             ],
             [
              0.6666666666666666,
              "#ed7953"
             ],
             [
              0.7777777777777778,
              "#fb9f3a"
             ],
             [
              0.8888888888888888,
              "#fdca26"
             ],
             [
              1,
              "#f0f921"
             ]
            ],
            "type": "heatmap"
           }
          ],
          "heatmapgl": [
           {
            "colorbar": {
             "outlinewidth": 0,
             "ticks": ""
            },
            "colorscale": [
             [
              0,
              "#0d0887"
             ],
             [
              0.1111111111111111,
              "#46039f"
             ],
             [
              0.2222222222222222,
              "#7201a8"
             ],
             [
              0.3333333333333333,
              "#9c179e"
             ],
             [
              0.4444444444444444,
              "#bd3786"
             ],
             [
              0.5555555555555556,
              "#d8576b"
             ],
             [
              0.6666666666666666,
              "#ed7953"
             ],
             [
              0.7777777777777778,
              "#fb9f3a"
             ],
             [
              0.8888888888888888,
              "#fdca26"
             ],
             [
              1,
              "#f0f921"
             ]
            ],
            "type": "heatmapgl"
           }
          ],
          "histogram": [
           {
            "marker": {
             "pattern": {
              "fillmode": "overlay",
              "size": 10,
              "solidity": 0.2
             }
            },
            "type": "histogram"
           }
          ],
          "histogram2d": [
           {
            "colorbar": {
             "outlinewidth": 0,
             "ticks": ""
            },
            "colorscale": [
             [
              0,
              "#0d0887"
             ],
             [
              0.1111111111111111,
              "#46039f"
             ],
             [
              0.2222222222222222,
              "#7201a8"
             ],
             [
              0.3333333333333333,
              "#9c179e"
             ],
             [
              0.4444444444444444,
              "#bd3786"
             ],
             [
              0.5555555555555556,
              "#d8576b"
             ],
             [
              0.6666666666666666,
              "#ed7953"
             ],
             [
              0.7777777777777778,
              "#fb9f3a"
             ],
             [
              0.8888888888888888,
              "#fdca26"
             ],
             [
              1,
              "#f0f921"
             ]
            ],
            "type": "histogram2d"
           }
          ],
          "histogram2dcontour": [
           {
            "colorbar": {
             "outlinewidth": 0,
             "ticks": ""
            },
            "colorscale": [
             [
              0,
              "#0d0887"
             ],
             [
              0.1111111111111111,
              "#46039f"
             ],
             [
              0.2222222222222222,
              "#7201a8"
             ],
             [
              0.3333333333333333,
              "#9c179e"
             ],
             [
              0.4444444444444444,
              "#bd3786"
             ],
             [
              0.5555555555555556,
              "#d8576b"
             ],
             [
              0.6666666666666666,
              "#ed7953"
             ],
             [
              0.7777777777777778,
              "#fb9f3a"
             ],
             [
              0.8888888888888888,
              "#fdca26"
             ],
             [
              1,
              "#f0f921"
             ]
            ],
            "type": "histogram2dcontour"
           }
          ],
          "mesh3d": [
           {
            "colorbar": {
             "outlinewidth": 0,
             "ticks": ""
            },
            "type": "mesh3d"
           }
          ],
          "parcoords": [
           {
            "line": {
             "colorbar": {
              "outlinewidth": 0,
              "ticks": ""
             }
            },
            "type": "parcoords"
           }
          ],
          "pie": [
           {
            "automargin": true,
            "type": "pie"
           }
          ],
          "scatter": [
           {
            "fillpattern": {
             "fillmode": "overlay",
             "size": 10,
             "solidity": 0.2
            },
            "type": "scatter"
           }
          ],
          "scatter3d": [
           {
            "line": {
             "colorbar": {
              "outlinewidth": 0,
              "ticks": ""
             }
            },
            "marker": {
             "colorbar": {
              "outlinewidth": 0,
              "ticks": ""
             }
            },
            "type": "scatter3d"
           }
          ],
          "scattercarpet": [
           {
            "marker": {
             "colorbar": {
              "outlinewidth": 0,
              "ticks": ""
             }
            },
            "type": "scattercarpet"
           }
          ],
          "scattergeo": [
           {
            "marker": {
             "colorbar": {
              "outlinewidth": 0,
              "ticks": ""
             }
            },
            "type": "scattergeo"
           }
          ],
          "scattergl": [
           {
            "marker": {
             "colorbar": {
              "outlinewidth": 0,
              "ticks": ""
             }
            },
            "type": "scattergl"
           }
          ],
          "scattermapbox": [
           {
            "marker": {
             "colorbar": {
              "outlinewidth": 0,
              "ticks": ""
             }
            },
            "type": "scattermapbox"
           }
          ],
          "scatterpolar": [
           {
            "marker": {
             "colorbar": {
              "outlinewidth": 0,
              "ticks": ""
             }
            },
            "type": "scatterpolar"
           }
          ],
          "scatterpolargl": [
           {
            "marker": {
             "colorbar": {
              "outlinewidth": 0,
              "ticks": ""
             }
            },
            "type": "scatterpolargl"
           }
          ],
          "scatterternary": [
           {
            "marker": {
             "colorbar": {
              "outlinewidth": 0,
              "ticks": ""
             }
            },
            "type": "scatterternary"
           }
          ],
          "surface": [
           {
            "colorbar": {
             "outlinewidth": 0,
             "ticks": ""
            },
            "colorscale": [
             [
              0,
              "#0d0887"
             ],
             [
              0.1111111111111111,
              "#46039f"
             ],
             [
              0.2222222222222222,
              "#7201a8"
             ],
             [
              0.3333333333333333,
              "#9c179e"
             ],
             [
              0.4444444444444444,
              "#bd3786"
             ],
             [
              0.5555555555555556,
              "#d8576b"
             ],
             [
              0.6666666666666666,
              "#ed7953"
             ],
             [
              0.7777777777777778,
              "#fb9f3a"
             ],
             [
              0.8888888888888888,
              "#fdca26"
             ],
             [
              1,
              "#f0f921"
             ]
            ],
            "type": "surface"
           }
          ],
          "table": [
           {
            "cells": {
             "fill": {
              "color": "#EBF0F8"
             },
             "line": {
              "color": "white"
             }
            },
            "header": {
             "fill": {
              "color": "#C8D4E3"
             },
             "line": {
              "color": "white"
             }
            },
            "type": "table"
           }
          ]
         },
         "layout": {
          "annotationdefaults": {
           "arrowcolor": "#2a3f5f",
           "arrowhead": 0,
           "arrowwidth": 1
          },
          "autotypenumbers": "strict",
          "coloraxis": {
           "colorbar": {
            "outlinewidth": 0,
            "ticks": ""
           }
          },
          "colorscale": {
           "diverging": [
            [
             0,
             "#8e0152"
            ],
            [
             0.1,
             "#c51b7d"
            ],
            [
             0.2,
             "#de77ae"
            ],
            [
             0.3,
             "#f1b6da"
            ],
            [
             0.4,
             "#fde0ef"
            ],
            [
             0.5,
             "#f7f7f7"
            ],
            [
             0.6,
             "#e6f5d0"
            ],
            [
             0.7,
             "#b8e186"
            ],
            [
             0.8,
             "#7fbc41"
            ],
            [
             0.9,
             "#4d9221"
            ],
            [
             1,
             "#276419"
            ]
           ],
           "sequential": [
            [
             0,
             "#0d0887"
            ],
            [
             0.1111111111111111,
             "#46039f"
            ],
            [
             0.2222222222222222,
             "#7201a8"
            ],
            [
             0.3333333333333333,
             "#9c179e"
            ],
            [
             0.4444444444444444,
             "#bd3786"
            ],
            [
             0.5555555555555556,
             "#d8576b"
            ],
            [
             0.6666666666666666,
             "#ed7953"
            ],
            [
             0.7777777777777778,
             "#fb9f3a"
            ],
            [
             0.8888888888888888,
             "#fdca26"
            ],
            [
             1,
             "#f0f921"
            ]
           ],
           "sequentialminus": [
            [
             0,
             "#0d0887"
            ],
            [
             0.1111111111111111,
             "#46039f"
            ],
            [
             0.2222222222222222,
             "#7201a8"
            ],
            [
             0.3333333333333333,
             "#9c179e"
            ],
            [
             0.4444444444444444,
             "#bd3786"
            ],
            [
             0.5555555555555556,
             "#d8576b"
            ],
            [
             0.6666666666666666,
             "#ed7953"
            ],
            [
             0.7777777777777778,
             "#fb9f3a"
            ],
            [
             0.8888888888888888,
             "#fdca26"
            ],
            [
             1,
             "#f0f921"
            ]
           ]
          },
          "colorway": [
           "#636efa",
           "#EF553B",
           "#00cc96",
           "#ab63fa",
           "#FFA15A",
           "#19d3f3",
           "#FF6692",
           "#B6E880",
           "#FF97FF",
           "#FECB52"
          ],
          "font": {
           "color": "#2a3f5f"
          },
          "geo": {
           "bgcolor": "white",
           "lakecolor": "white",
           "landcolor": "#E5ECF6",
           "showlakes": true,
           "showland": true,
           "subunitcolor": "white"
          },
          "hoverlabel": {
           "align": "left"
          },
          "hovermode": "closest",
          "mapbox": {
           "style": "light"
          },
          "paper_bgcolor": "white",
          "plot_bgcolor": "#E5ECF6",
          "polar": {
           "angularaxis": {
            "gridcolor": "white",
            "linecolor": "white",
            "ticks": ""
           },
           "bgcolor": "#E5ECF6",
           "radialaxis": {
            "gridcolor": "white",
            "linecolor": "white",
            "ticks": ""
           }
          },
          "scene": {
           "xaxis": {
            "backgroundcolor": "#E5ECF6",
            "gridcolor": "white",
            "gridwidth": 2,
            "linecolor": "white",
            "showbackground": true,
            "ticks": "",
            "zerolinecolor": "white"
           },
           "yaxis": {
            "backgroundcolor": "#E5ECF6",
            "gridcolor": "white",
            "gridwidth": 2,
            "linecolor": "white",
            "showbackground": true,
            "ticks": "",
            "zerolinecolor": "white"
           },
           "zaxis": {
            "backgroundcolor": "#E5ECF6",
            "gridcolor": "white",
            "gridwidth": 2,
            "linecolor": "white",
            "showbackground": true,
            "ticks": "",
            "zerolinecolor": "white"
           }
          },
          "shapedefaults": {
           "line": {
            "color": "#2a3f5f"
           }
          },
          "ternary": {
           "aaxis": {
            "gridcolor": "white",
            "linecolor": "white",
            "ticks": ""
           },
           "baxis": {
            "gridcolor": "white",
            "linecolor": "white",
            "ticks": ""
           },
           "bgcolor": "#E5ECF6",
           "caxis": {
            "gridcolor": "white",
            "linecolor": "white",
            "ticks": ""
           }
          },
          "title": {
           "x": 0.05
          },
          "xaxis": {
           "automargin": true,
           "gridcolor": "white",
           "linecolor": "white",
           "ticks": "",
           "title": {
            "standoff": 15
           },
           "zerolinecolor": "white",
           "zerolinewidth": 2
          },
          "yaxis": {
           "automargin": true,
           "gridcolor": "white",
           "linecolor": "white",
           "ticks": "",
           "title": {
            "standoff": 15
           },
           "zerolinecolor": "white",
           "zerolinewidth": 2
          }
         }
        },
        "title": {
         "text": "Average Sale Price for Lot configurations"
        },
        "xaxis": {
         "anchor": "y",
         "domain": [
          0,
          1
         ],
         "title": {
          "text": "SalePrice"
         }
        },
        "yaxis": {
         "anchor": "x",
         "domain": [
          0,
          1
         ],
         "title": {
          "text": "LotConfig"
         }
        }
       }
      }
     },
     "metadata": {},
     "output_type": "display_data"
    }
   ],
   "source": [
    "var = 'LotConfig'\n",
    "group = train.groupby(var)['SalePrice'].mean().round().sort_values().reset_index()\n",
    "group[var] = get_description(*group[var])\n",
    "fig = px.bar(group, y=var, x='SalePrice', color='SalePrice', orientation='h', text_auto=True)\n",
    "fig.update_layout(title='Average Sale Price for Lot configurations')"
   ]
  },
  {
   "cell_type": "code",
   "execution_count": null,
   "metadata": {},
   "outputs": [
    {
     "data": {
      "application/vnd.plotly.v1+json": {
       "config": {
        "plotlyServerURL": "https://plot.ly"
       },
       "data": [
        {
         "alignmentgroup": "True",
         "hovertemplate": "SalePrice=%{marker.color}<br>Condition1=%{y}<extra></extra>",
         "legendgroup": "",
         "marker": {
          "color": [
           135092,
           138400,
           142475,
           184397,
           184495,
           190750,
           212400,
           215184,
           225875
          ],
          "coloraxis": "coloraxis",
          "pattern": {
           "shape": ""
          }
         },
         "name": "",
         "offsetgroup": "",
         "orientation": "h",
         "showlegend": false,
         "textposition": "auto",
         "texttemplate": "%{x}",
         "type": "bar",
         "x": [
          135092,
          138400,
          142475,
          184397,
          184495,
          190750,
          212400,
          215184,
          225875
         ],
         "xaxis": "x",
         "y": [
          "Adjacent to arterial street",
          "Adjacent to East-West Railroad",
          "Adjacent to feeder street",
          "Adjacent to North-South Railroad",
          "Normal",
          "Within 200' of East-West Railroad",
          "Within 200' of North-South Railroad",
          "Near positive off-site feature--park, greenbelt, etc.",
          "Adjacent to postive off-site feature"
         ],
         "yaxis": "y"
        }
       ],
       "layout": {
        "barmode": "relative",
        "coloraxis": {
         "colorbar": {
          "title": {
           "text": "SalePrice"
          }
         },
         "colorscale": [
          [
           0,
           "#0d0887"
          ],
          [
           0.1111111111111111,
           "#46039f"
          ],
          [
           0.2222222222222222,
           "#7201a8"
          ],
          [
           0.3333333333333333,
           "#9c179e"
          ],
          [
           0.4444444444444444,
           "#bd3786"
          ],
          [
           0.5555555555555556,
           "#d8576b"
          ],
          [
           0.6666666666666666,
           "#ed7953"
          ],
          [
           0.7777777777777778,
           "#fb9f3a"
          ],
          [
           0.8888888888888888,
           "#fdca26"
          ],
          [
           1,
           "#f0f921"
          ]
         ]
        },
        "legend": {
         "tracegroupgap": 0
        },
        "margin": {
         "t": 60
        },
        "template": {
         "data": {
          "bar": [
           {
            "error_x": {
             "color": "#2a3f5f"
            },
            "error_y": {
             "color": "#2a3f5f"
            },
            "marker": {
             "line": {
              "color": "#E5ECF6",
              "width": 0.5
             },
             "pattern": {
              "fillmode": "overlay",
              "size": 10,
              "solidity": 0.2
             }
            },
            "type": "bar"
           }
          ],
          "barpolar": [
           {
            "marker": {
             "line": {
              "color": "#E5ECF6",
              "width": 0.5
             },
             "pattern": {
              "fillmode": "overlay",
              "size": 10,
              "solidity": 0.2
             }
            },
            "type": "barpolar"
           }
          ],
          "carpet": [
           {
            "aaxis": {
             "endlinecolor": "#2a3f5f",
             "gridcolor": "white",
             "linecolor": "white",
             "minorgridcolor": "white",
             "startlinecolor": "#2a3f5f"
            },
            "baxis": {
             "endlinecolor": "#2a3f5f",
             "gridcolor": "white",
             "linecolor": "white",
             "minorgridcolor": "white",
             "startlinecolor": "#2a3f5f"
            },
            "type": "carpet"
           }
          ],
          "choropleth": [
           {
            "colorbar": {
             "outlinewidth": 0,
             "ticks": ""
            },
            "type": "choropleth"
           }
          ],
          "contour": [
           {
            "colorbar": {
             "outlinewidth": 0,
             "ticks": ""
            },
            "colorscale": [
             [
              0,
              "#0d0887"
             ],
             [
              0.1111111111111111,
              "#46039f"
             ],
             [
              0.2222222222222222,
              "#7201a8"
             ],
             [
              0.3333333333333333,
              "#9c179e"
             ],
             [
              0.4444444444444444,
              "#bd3786"
             ],
             [
              0.5555555555555556,
              "#d8576b"
             ],
             [
              0.6666666666666666,
              "#ed7953"
             ],
             [
              0.7777777777777778,
              "#fb9f3a"
             ],
             [
              0.8888888888888888,
              "#fdca26"
             ],
             [
              1,
              "#f0f921"
             ]
            ],
            "type": "contour"
           }
          ],
          "contourcarpet": [
           {
            "colorbar": {
             "outlinewidth": 0,
             "ticks": ""
            },
            "type": "contourcarpet"
           }
          ],
          "heatmap": [
           {
            "colorbar": {
             "outlinewidth": 0,
             "ticks": ""
            },
            "colorscale": [
             [
              0,
              "#0d0887"
             ],
             [
              0.1111111111111111,
              "#46039f"
             ],
             [
              0.2222222222222222,
              "#7201a8"
             ],
             [
              0.3333333333333333,
              "#9c179e"
             ],
             [
              0.4444444444444444,
              "#bd3786"
             ],
             [
              0.5555555555555556,
              "#d8576b"
             ],
             [
              0.6666666666666666,
              "#ed7953"
             ],
             [
              0.7777777777777778,
              "#fb9f3a"
             ],
             [
              0.8888888888888888,
              "#fdca26"
             ],
             [
              1,
              "#f0f921"
             ]
            ],
            "type": "heatmap"
           }
          ],
          "heatmapgl": [
           {
            "colorbar": {
             "outlinewidth": 0,
             "ticks": ""
            },
            "colorscale": [
             [
              0,
              "#0d0887"
             ],
             [
              0.1111111111111111,
              "#46039f"
             ],
             [
              0.2222222222222222,
              "#7201a8"
             ],
             [
              0.3333333333333333,
              "#9c179e"
             ],
             [
              0.4444444444444444,
              "#bd3786"
             ],
             [
              0.5555555555555556,
              "#d8576b"
             ],
             [
              0.6666666666666666,
              "#ed7953"
             ],
             [
              0.7777777777777778,
              "#fb9f3a"
             ],
             [
              0.8888888888888888,
              "#fdca26"
             ],
             [
              1,
              "#f0f921"
             ]
            ],
            "type": "heatmapgl"
           }
          ],
          "histogram": [
           {
            "marker": {
             "pattern": {
              "fillmode": "overlay",
              "size": 10,
              "solidity": 0.2
             }
            },
            "type": "histogram"
           }
          ],
          "histogram2d": [
           {
            "colorbar": {
             "outlinewidth": 0,
             "ticks": ""
            },
            "colorscale": [
             [
              0,
              "#0d0887"
             ],
             [
              0.1111111111111111,
              "#46039f"
             ],
             [
              0.2222222222222222,
              "#7201a8"
             ],
             [
              0.3333333333333333,
              "#9c179e"
             ],
             [
              0.4444444444444444,
              "#bd3786"
             ],
             [
              0.5555555555555556,
              "#d8576b"
             ],
             [
              0.6666666666666666,
              "#ed7953"
             ],
             [
              0.7777777777777778,
              "#fb9f3a"
             ],
             [
              0.8888888888888888,
              "#fdca26"
             ],
             [
              1,
              "#f0f921"
             ]
            ],
            "type": "histogram2d"
           }
          ],
          "histogram2dcontour": [
           {
            "colorbar": {
             "outlinewidth": 0,
             "ticks": ""
            },
            "colorscale": [
             [
              0,
              "#0d0887"
             ],
             [
              0.1111111111111111,
              "#46039f"
             ],
             [
              0.2222222222222222,
              "#7201a8"
             ],
             [
              0.3333333333333333,
              "#9c179e"
             ],
             [
              0.4444444444444444,
              "#bd3786"
             ],
             [
              0.5555555555555556,
              "#d8576b"
             ],
             [
              0.6666666666666666,
              "#ed7953"
             ],
             [
              0.7777777777777778,
              "#fb9f3a"
             ],
             [
              0.8888888888888888,
              "#fdca26"
             ],
             [
              1,
              "#f0f921"
             ]
            ],
            "type": "histogram2dcontour"
           }
          ],
          "mesh3d": [
           {
            "colorbar": {
             "outlinewidth": 0,
             "ticks": ""
            },
            "type": "mesh3d"
           }
          ],
          "parcoords": [
           {
            "line": {
             "colorbar": {
              "outlinewidth": 0,
              "ticks": ""
             }
            },
            "type": "parcoords"
           }
          ],
          "pie": [
           {
            "automargin": true,
            "type": "pie"
           }
          ],
          "scatter": [
           {
            "fillpattern": {
             "fillmode": "overlay",
             "size": 10,
             "solidity": 0.2
            },
            "type": "scatter"
           }
          ],
          "scatter3d": [
           {
            "line": {
             "colorbar": {
              "outlinewidth": 0,
              "ticks": ""
             }
            },
            "marker": {
             "colorbar": {
              "outlinewidth": 0,
              "ticks": ""
             }
            },
            "type": "scatter3d"
           }
          ],
          "scattercarpet": [
           {
            "marker": {
             "colorbar": {
              "outlinewidth": 0,
              "ticks": ""
             }
            },
            "type": "scattercarpet"
           }
          ],
          "scattergeo": [
           {
            "marker": {
             "colorbar": {
              "outlinewidth": 0,
              "ticks": ""
             }
            },
            "type": "scattergeo"
           }
          ],
          "scattergl": [
           {
            "marker": {
             "colorbar": {
              "outlinewidth": 0,
              "ticks": ""
             }
            },
            "type": "scattergl"
           }
          ],
          "scattermapbox": [
           {
            "marker": {
             "colorbar": {
              "outlinewidth": 0,
              "ticks": ""
             }
            },
            "type": "scattermapbox"
           }
          ],
          "scatterpolar": [
           {
            "marker": {
             "colorbar": {
              "outlinewidth": 0,
              "ticks": ""
             }
            },
            "type": "scatterpolar"
           }
          ],
          "scatterpolargl": [
           {
            "marker": {
             "colorbar": {
              "outlinewidth": 0,
              "ticks": ""
             }
            },
            "type": "scatterpolargl"
           }
          ],
          "scatterternary": [
           {
            "marker": {
             "colorbar": {
              "outlinewidth": 0,
              "ticks": ""
             }
            },
            "type": "scatterternary"
           }
          ],
          "surface": [
           {
            "colorbar": {
             "outlinewidth": 0,
             "ticks": ""
            },
            "colorscale": [
             [
              0,
              "#0d0887"
             ],
             [
              0.1111111111111111,
              "#46039f"
             ],
             [
              0.2222222222222222,
              "#7201a8"
             ],
             [
              0.3333333333333333,
              "#9c179e"
             ],
             [
              0.4444444444444444,
              "#bd3786"
             ],
             [
              0.5555555555555556,
              "#d8576b"
             ],
             [
              0.6666666666666666,
              "#ed7953"
             ],
             [
              0.7777777777777778,
              "#fb9f3a"
             ],
             [
              0.8888888888888888,
              "#fdca26"
             ],
             [
              1,
              "#f0f921"
             ]
            ],
            "type": "surface"
           }
          ],
          "table": [
           {
            "cells": {
             "fill": {
              "color": "#EBF0F8"
             },
             "line": {
              "color": "white"
             }
            },
            "header": {
             "fill": {
              "color": "#C8D4E3"
             },
             "line": {
              "color": "white"
             }
            },
            "type": "table"
           }
          ]
         },
         "layout": {
          "annotationdefaults": {
           "arrowcolor": "#2a3f5f",
           "arrowhead": 0,
           "arrowwidth": 1
          },
          "autotypenumbers": "strict",
          "coloraxis": {
           "colorbar": {
            "outlinewidth": 0,
            "ticks": ""
           }
          },
          "colorscale": {
           "diverging": [
            [
             0,
             "#8e0152"
            ],
            [
             0.1,
             "#c51b7d"
            ],
            [
             0.2,
             "#de77ae"
            ],
            [
             0.3,
             "#f1b6da"
            ],
            [
             0.4,
             "#fde0ef"
            ],
            [
             0.5,
             "#f7f7f7"
            ],
            [
             0.6,
             "#e6f5d0"
            ],
            [
             0.7,
             "#b8e186"
            ],
            [
             0.8,
             "#7fbc41"
            ],
            [
             0.9,
             "#4d9221"
            ],
            [
             1,
             "#276419"
            ]
           ],
           "sequential": [
            [
             0,
             "#0d0887"
            ],
            [
             0.1111111111111111,
             "#46039f"
            ],
            [
             0.2222222222222222,
             "#7201a8"
            ],
            [
             0.3333333333333333,
             "#9c179e"
            ],
            [
             0.4444444444444444,
             "#bd3786"
            ],
            [
             0.5555555555555556,
             "#d8576b"
            ],
            [
             0.6666666666666666,
             "#ed7953"
            ],
            [
             0.7777777777777778,
             "#fb9f3a"
            ],
            [
             0.8888888888888888,
             "#fdca26"
            ],
            [
             1,
             "#f0f921"
            ]
           ],
           "sequentialminus": [
            [
             0,
             "#0d0887"
            ],
            [
             0.1111111111111111,
             "#46039f"
            ],
            [
             0.2222222222222222,
             "#7201a8"
            ],
            [
             0.3333333333333333,
             "#9c179e"
            ],
            [
             0.4444444444444444,
             "#bd3786"
            ],
            [
             0.5555555555555556,
             "#d8576b"
            ],
            [
             0.6666666666666666,
             "#ed7953"
            ],
            [
             0.7777777777777778,
             "#fb9f3a"
            ],
            [
             0.8888888888888888,
             "#fdca26"
            ],
            [
             1,
             "#f0f921"
            ]
           ]
          },
          "colorway": [
           "#636efa",
           "#EF553B",
           "#00cc96",
           "#ab63fa",
           "#FFA15A",
           "#19d3f3",
           "#FF6692",
           "#B6E880",
           "#FF97FF",
           "#FECB52"
          ],
          "font": {
           "color": "#2a3f5f"
          },
          "geo": {
           "bgcolor": "white",
           "lakecolor": "white",
           "landcolor": "#E5ECF6",
           "showlakes": true,
           "showland": true,
           "subunitcolor": "white"
          },
          "hoverlabel": {
           "align": "left"
          },
          "hovermode": "closest",
          "mapbox": {
           "style": "light"
          },
          "paper_bgcolor": "white",
          "plot_bgcolor": "#E5ECF6",
          "polar": {
           "angularaxis": {
            "gridcolor": "white",
            "linecolor": "white",
            "ticks": ""
           },
           "bgcolor": "#E5ECF6",
           "radialaxis": {
            "gridcolor": "white",
            "linecolor": "white",
            "ticks": ""
           }
          },
          "scene": {
           "xaxis": {
            "backgroundcolor": "#E5ECF6",
            "gridcolor": "white",
            "gridwidth": 2,
            "linecolor": "white",
            "showbackground": true,
            "ticks": "",
            "zerolinecolor": "white"
           },
           "yaxis": {
            "backgroundcolor": "#E5ECF6",
            "gridcolor": "white",
            "gridwidth": 2,
            "linecolor": "white",
            "showbackground": true,
            "ticks": "",
            "zerolinecolor": "white"
           },
           "zaxis": {
            "backgroundcolor": "#E5ECF6",
            "gridcolor": "white",
            "gridwidth": 2,
            "linecolor": "white",
            "showbackground": true,
            "ticks": "",
            "zerolinecolor": "white"
           }
          },
          "shapedefaults": {
           "line": {
            "color": "#2a3f5f"
           }
          },
          "ternary": {
           "aaxis": {
            "gridcolor": "white",
            "linecolor": "white",
            "ticks": ""
           },
           "baxis": {
            "gridcolor": "white",
            "linecolor": "white",
            "ticks": ""
           },
           "bgcolor": "#E5ECF6",
           "caxis": {
            "gridcolor": "white",
            "linecolor": "white",
            "ticks": ""
           }
          },
          "title": {
           "x": 0.05
          },
          "xaxis": {
           "automargin": true,
           "gridcolor": "white",
           "linecolor": "white",
           "ticks": "",
           "title": {
            "standoff": 15
           },
           "zerolinecolor": "white",
           "zerolinewidth": 2
          },
          "yaxis": {
           "automargin": true,
           "gridcolor": "white",
           "linecolor": "white",
           "ticks": "",
           "title": {
            "standoff": 15
           },
           "zerolinecolor": "white",
           "zerolinewidth": 2
          }
         }
        },
        "title": {
         "text": "Average Sale Price Vs Proximity to various conditions"
        },
        "xaxis": {
         "anchor": "y",
         "domain": [
          0,
          1
         ],
         "title": {
          "text": "SalePrice"
         }
        },
        "yaxis": {
         "anchor": "x",
         "domain": [
          0,
          1
         ],
         "title": {
          "text": "Condition1"
         }
        }
       }
      }
     },
     "metadata": {},
     "output_type": "display_data"
    }
   ],
   "source": [
    "var = 'Condition1'\n",
    "group = train.groupby(var)['SalePrice'].mean().round().sort_values().reset_index()\n",
    "group[var] = get_description(*group[var])\n",
    "fig = px.bar(group, y=var, x='SalePrice', color='SalePrice', orientation='h', text_auto=True)\n",
    "fig.update_layout(title='Average Sale Price Vs Proximity to various conditions')"
   ]
  },
  {
   "cell_type": "code",
   "execution_count": null,
   "metadata": {},
   "outputs": [
    {
     "data": {
      "application/vnd.plotly.v1+json": {
       "config": {
        "plotlyServerURL": "https://plot.ly"
       },
       "data": [
        {
         "alignmentgroup": "True",
         "hovertemplate": "SalePrice=%{marker.color}<br>BldgType=%{y}<extra></extra>",
         "legendgroup": "",
         "marker": {
          "color": [
           128432,
           133541,
           135912,
           181959,
           185764
          ],
          "coloraxis": "coloraxis",
          "pattern": {
           "shape": ""
          }
         },
         "name": "",
         "offsetgroup": "",
         "orientation": "h",
         "showlegend": false,
         "textposition": "auto",
         "texttemplate": "%{x}",
         "type": "bar",
         "x": [
          128432,
          133541,
          135912,
          181959,
          185764
         ],
         "xaxis": "x",
         "y": [
          "Two-family Conversion; originally built as one-family dwelling",
          "Duplex",
          "Townhouse Inside Unit",
          "Townhouse End Unit",
          "Single-family Detached"
         ],
         "yaxis": "y"
        }
       ],
       "layout": {
        "barmode": "relative",
        "coloraxis": {
         "colorbar": {
          "title": {
           "text": "SalePrice"
          }
         },
         "colorscale": [
          [
           0,
           "#0d0887"
          ],
          [
           0.1111111111111111,
           "#46039f"
          ],
          [
           0.2222222222222222,
           "#7201a8"
          ],
          [
           0.3333333333333333,
           "#9c179e"
          ],
          [
           0.4444444444444444,
           "#bd3786"
          ],
          [
           0.5555555555555556,
           "#d8576b"
          ],
          [
           0.6666666666666666,
           "#ed7953"
          ],
          [
           0.7777777777777778,
           "#fb9f3a"
          ],
          [
           0.8888888888888888,
           "#fdca26"
          ],
          [
           1,
           "#f0f921"
          ]
         ]
        },
        "legend": {
         "tracegroupgap": 0
        },
        "margin": {
         "t": 60
        },
        "template": {
         "data": {
          "bar": [
           {
            "error_x": {
             "color": "#2a3f5f"
            },
            "error_y": {
             "color": "#2a3f5f"
            },
            "marker": {
             "line": {
              "color": "#E5ECF6",
              "width": 0.5
             },
             "pattern": {
              "fillmode": "overlay",
              "size": 10,
              "solidity": 0.2
             }
            },
            "type": "bar"
           }
          ],
          "barpolar": [
           {
            "marker": {
             "line": {
              "color": "#E5ECF6",
              "width": 0.5
             },
             "pattern": {
              "fillmode": "overlay",
              "size": 10,
              "solidity": 0.2
             }
            },
            "type": "barpolar"
           }
          ],
          "carpet": [
           {
            "aaxis": {
             "endlinecolor": "#2a3f5f",
             "gridcolor": "white",
             "linecolor": "white",
             "minorgridcolor": "white",
             "startlinecolor": "#2a3f5f"
            },
            "baxis": {
             "endlinecolor": "#2a3f5f",
             "gridcolor": "white",
             "linecolor": "white",
             "minorgridcolor": "white",
             "startlinecolor": "#2a3f5f"
            },
            "type": "carpet"
           }
          ],
          "choropleth": [
           {
            "colorbar": {
             "outlinewidth": 0,
             "ticks": ""
            },
            "type": "choropleth"
           }
          ],
          "contour": [
           {
            "colorbar": {
             "outlinewidth": 0,
             "ticks": ""
            },
            "colorscale": [
             [
              0,
              "#0d0887"
             ],
             [
              0.1111111111111111,
              "#46039f"
             ],
             [
              0.2222222222222222,
              "#7201a8"
             ],
             [
              0.3333333333333333,
              "#9c179e"
             ],
             [
              0.4444444444444444,
              "#bd3786"
             ],
             [
              0.5555555555555556,
              "#d8576b"
             ],
             [
              0.6666666666666666,
              "#ed7953"
             ],
             [
              0.7777777777777778,
              "#fb9f3a"
             ],
             [
              0.8888888888888888,
              "#fdca26"
             ],
             [
              1,
              "#f0f921"
             ]
            ],
            "type": "contour"
           }
          ],
          "contourcarpet": [
           {
            "colorbar": {
             "outlinewidth": 0,
             "ticks": ""
            },
            "type": "contourcarpet"
           }
          ],
          "heatmap": [
           {
            "colorbar": {
             "outlinewidth": 0,
             "ticks": ""
            },
            "colorscale": [
             [
              0,
              "#0d0887"
             ],
             [
              0.1111111111111111,
              "#46039f"
             ],
             [
              0.2222222222222222,
              "#7201a8"
             ],
             [
              0.3333333333333333,
              "#9c179e"
             ],
             [
              0.4444444444444444,
              "#bd3786"
             ],
             [
              0.5555555555555556,
              "#d8576b"
             ],
             [
              0.6666666666666666,
              "#ed7953"
             ],
             [
              0.7777777777777778,
              "#fb9f3a"
             ],
             [
              0.8888888888888888,
              "#fdca26"
             ],
             [
              1,
              "#f0f921"
             ]
            ],
            "type": "heatmap"
           }
          ],
          "heatmapgl": [
           {
            "colorbar": {
             "outlinewidth": 0,
             "ticks": ""
            },
            "colorscale": [
             [
              0,
              "#0d0887"
             ],
             [
              0.1111111111111111,
              "#46039f"
             ],
             [
              0.2222222222222222,
              "#7201a8"
             ],
             [
              0.3333333333333333,
              "#9c179e"
             ],
             [
              0.4444444444444444,
              "#bd3786"
             ],
             [
              0.5555555555555556,
              "#d8576b"
             ],
             [
              0.6666666666666666,
              "#ed7953"
             ],
             [
              0.7777777777777778,
              "#fb9f3a"
             ],
             [
              0.8888888888888888,
              "#fdca26"
             ],
             [
              1,
              "#f0f921"
             ]
            ],
            "type": "heatmapgl"
           }
          ],
          "histogram": [
           {
            "marker": {
             "pattern": {
              "fillmode": "overlay",
              "size": 10,
              "solidity": 0.2
             }
            },
            "type": "histogram"
           }
          ],
          "histogram2d": [
           {
            "colorbar": {
             "outlinewidth": 0,
             "ticks": ""
            },
            "colorscale": [
             [
              0,
              "#0d0887"
             ],
             [
              0.1111111111111111,
              "#46039f"
             ],
             [
              0.2222222222222222,
              "#7201a8"
             ],
             [
              0.3333333333333333,
              "#9c179e"
             ],
             [
              0.4444444444444444,
              "#bd3786"
             ],
             [
              0.5555555555555556,
              "#d8576b"
             ],
             [
              0.6666666666666666,
              "#ed7953"
             ],
             [
              0.7777777777777778,
              "#fb9f3a"
             ],
             [
              0.8888888888888888,
              "#fdca26"
             ],
             [
              1,
              "#f0f921"
             ]
            ],
            "type": "histogram2d"
           }
          ],
          "histogram2dcontour": [
           {
            "colorbar": {
             "outlinewidth": 0,
             "ticks": ""
            },
            "colorscale": [
             [
              0,
              "#0d0887"
             ],
             [
              0.1111111111111111,
              "#46039f"
             ],
             [
              0.2222222222222222,
              "#7201a8"
             ],
             [
              0.3333333333333333,
              "#9c179e"
             ],
             [
              0.4444444444444444,
              "#bd3786"
             ],
             [
              0.5555555555555556,
              "#d8576b"
             ],
             [
              0.6666666666666666,
              "#ed7953"
             ],
             [
              0.7777777777777778,
              "#fb9f3a"
             ],
             [
              0.8888888888888888,
              "#fdca26"
             ],
             [
              1,
              "#f0f921"
             ]
            ],
            "type": "histogram2dcontour"
           }
          ],
          "mesh3d": [
           {
            "colorbar": {
             "outlinewidth": 0,
             "ticks": ""
            },
            "type": "mesh3d"
           }
          ],
          "parcoords": [
           {
            "line": {
             "colorbar": {
              "outlinewidth": 0,
              "ticks": ""
             }
            },
            "type": "parcoords"
           }
          ],
          "pie": [
           {
            "automargin": true,
            "type": "pie"
           }
          ],
          "scatter": [
           {
            "fillpattern": {
             "fillmode": "overlay",
             "size": 10,
             "solidity": 0.2
            },
            "type": "scatter"
           }
          ],
          "scatter3d": [
           {
            "line": {
             "colorbar": {
              "outlinewidth": 0,
              "ticks": ""
             }
            },
            "marker": {
             "colorbar": {
              "outlinewidth": 0,
              "ticks": ""
             }
            },
            "type": "scatter3d"
           }
          ],
          "scattercarpet": [
           {
            "marker": {
             "colorbar": {
              "outlinewidth": 0,
              "ticks": ""
             }
            },
            "type": "scattercarpet"
           }
          ],
          "scattergeo": [
           {
            "marker": {
             "colorbar": {
              "outlinewidth": 0,
              "ticks": ""
             }
            },
            "type": "scattergeo"
           }
          ],
          "scattergl": [
           {
            "marker": {
             "colorbar": {
              "outlinewidth": 0,
              "ticks": ""
             }
            },
            "type": "scattergl"
           }
          ],
          "scattermapbox": [
           {
            "marker": {
             "colorbar": {
              "outlinewidth": 0,
              "ticks": ""
             }
            },
            "type": "scattermapbox"
           }
          ],
          "scatterpolar": [
           {
            "marker": {
             "colorbar": {
              "outlinewidth": 0,
              "ticks": ""
             }
            },
            "type": "scatterpolar"
           }
          ],
          "scatterpolargl": [
           {
            "marker": {
             "colorbar": {
              "outlinewidth": 0,
              "ticks": ""
             }
            },
            "type": "scatterpolargl"
           }
          ],
          "scatterternary": [
           {
            "marker": {
             "colorbar": {
              "outlinewidth": 0,
              "ticks": ""
             }
            },
            "type": "scatterternary"
           }
          ],
          "surface": [
           {
            "colorbar": {
             "outlinewidth": 0,
             "ticks": ""
            },
            "colorscale": [
             [
              0,
              "#0d0887"
             ],
             [
              0.1111111111111111,
              "#46039f"
             ],
             [
              0.2222222222222222,
              "#7201a8"
             ],
             [
              0.3333333333333333,
              "#9c179e"
             ],
             [
              0.4444444444444444,
              "#bd3786"
             ],
             [
              0.5555555555555556,
              "#d8576b"
             ],
             [
              0.6666666666666666,
              "#ed7953"
             ],
             [
              0.7777777777777778,
              "#fb9f3a"
             ],
             [
              0.8888888888888888,
              "#fdca26"
             ],
             [
              1,
              "#f0f921"
             ]
            ],
            "type": "surface"
           }
          ],
          "table": [
           {
            "cells": {
             "fill": {
              "color": "#EBF0F8"
             },
             "line": {
              "color": "white"
             }
            },
            "header": {
             "fill": {
              "color": "#C8D4E3"
             },
             "line": {
              "color": "white"
             }
            },
            "type": "table"
           }
          ]
         },
         "layout": {
          "annotationdefaults": {
           "arrowcolor": "#2a3f5f",
           "arrowhead": 0,
           "arrowwidth": 1
          },
          "autotypenumbers": "strict",
          "coloraxis": {
           "colorbar": {
            "outlinewidth": 0,
            "ticks": ""
           }
          },
          "colorscale": {
           "diverging": [
            [
             0,
             "#8e0152"
            ],
            [
             0.1,
             "#c51b7d"
            ],
            [
             0.2,
             "#de77ae"
            ],
            [
             0.3,
             "#f1b6da"
            ],
            [
             0.4,
             "#fde0ef"
            ],
            [
             0.5,
             "#f7f7f7"
            ],
            [
             0.6,
             "#e6f5d0"
            ],
            [
             0.7,
             "#b8e186"
            ],
            [
             0.8,
             "#7fbc41"
            ],
            [
             0.9,
             "#4d9221"
            ],
            [
             1,
             "#276419"
            ]
           ],
           "sequential": [
            [
             0,
             "#0d0887"
            ],
            [
             0.1111111111111111,
             "#46039f"
            ],
            [
             0.2222222222222222,
             "#7201a8"
            ],
            [
             0.3333333333333333,
             "#9c179e"
            ],
            [
             0.4444444444444444,
             "#bd3786"
            ],
            [
             0.5555555555555556,
             "#d8576b"
            ],
            [
             0.6666666666666666,
             "#ed7953"
            ],
            [
             0.7777777777777778,
             "#fb9f3a"
            ],
            [
             0.8888888888888888,
             "#fdca26"
            ],
            [
             1,
             "#f0f921"
            ]
           ],
           "sequentialminus": [
            [
             0,
             "#0d0887"
            ],
            [
             0.1111111111111111,
             "#46039f"
            ],
            [
             0.2222222222222222,
             "#7201a8"
            ],
            [
             0.3333333333333333,
             "#9c179e"
            ],
            [
             0.4444444444444444,
             "#bd3786"
            ],
            [
             0.5555555555555556,
             "#d8576b"
            ],
            [
             0.6666666666666666,
             "#ed7953"
            ],
            [
             0.7777777777777778,
             "#fb9f3a"
            ],
            [
             0.8888888888888888,
             "#fdca26"
            ],
            [
             1,
             "#f0f921"
            ]
           ]
          },
          "colorway": [
           "#636efa",
           "#EF553B",
           "#00cc96",
           "#ab63fa",
           "#FFA15A",
           "#19d3f3",
           "#FF6692",
           "#B6E880",
           "#FF97FF",
           "#FECB52"
          ],
          "font": {
           "color": "#2a3f5f"
          },
          "geo": {
           "bgcolor": "white",
           "lakecolor": "white",
           "landcolor": "#E5ECF6",
           "showlakes": true,
           "showland": true,
           "subunitcolor": "white"
          },
          "hoverlabel": {
           "align": "left"
          },
          "hovermode": "closest",
          "mapbox": {
           "style": "light"
          },
          "paper_bgcolor": "white",
          "plot_bgcolor": "#E5ECF6",
          "polar": {
           "angularaxis": {
            "gridcolor": "white",
            "linecolor": "white",
            "ticks": ""
           },
           "bgcolor": "#E5ECF6",
           "radialaxis": {
            "gridcolor": "white",
            "linecolor": "white",
            "ticks": ""
           }
          },
          "scene": {
           "xaxis": {
            "backgroundcolor": "#E5ECF6",
            "gridcolor": "white",
            "gridwidth": 2,
            "linecolor": "white",
            "showbackground": true,
            "ticks": "",
            "zerolinecolor": "white"
           },
           "yaxis": {
            "backgroundcolor": "#E5ECF6",
            "gridcolor": "white",
            "gridwidth": 2,
            "linecolor": "white",
            "showbackground": true,
            "ticks": "",
            "zerolinecolor": "white"
           },
           "zaxis": {
            "backgroundcolor": "#E5ECF6",
            "gridcolor": "white",
            "gridwidth": 2,
            "linecolor": "white",
            "showbackground": true,
            "ticks": "",
            "zerolinecolor": "white"
           }
          },
          "shapedefaults": {
           "line": {
            "color": "#2a3f5f"
           }
          },
          "ternary": {
           "aaxis": {
            "gridcolor": "white",
            "linecolor": "white",
            "ticks": ""
           },
           "baxis": {
            "gridcolor": "white",
            "linecolor": "white",
            "ticks": ""
           },
           "bgcolor": "#E5ECF6",
           "caxis": {
            "gridcolor": "white",
            "linecolor": "white",
            "ticks": ""
           }
          },
          "title": {
           "x": 0.05
          },
          "xaxis": {
           "automargin": true,
           "gridcolor": "white",
           "linecolor": "white",
           "ticks": "",
           "title": {
            "standoff": 15
           },
           "zerolinecolor": "white",
           "zerolinewidth": 2
          },
          "yaxis": {
           "automargin": true,
           "gridcolor": "white",
           "linecolor": "white",
           "ticks": "",
           "title": {
            "standoff": 15
           },
           "zerolinecolor": "white",
           "zerolinewidth": 2
          }
         }
        },
        "title": {
         "text": "Average Sale Price for Lot configurations"
        },
        "xaxis": {
         "anchor": "y",
         "domain": [
          0,
          1
         ],
         "title": {
          "text": "SalePrice"
         }
        },
        "yaxis": {
         "anchor": "x",
         "domain": [
          0,
          1
         ],
         "title": {
          "text": "BldgType"
         }
        }
       }
      }
     },
     "metadata": {},
     "output_type": "display_data"
    }
   ],
   "source": [
    "var = 'BldgType'\n",
    "group = train.groupby(var)['SalePrice'].mean().round().sort_values().reset_index()\n",
    "group[var].replace({'Twnhs': 'TwnhsI', '2fmCon': '2FmCon'}, inplace=True)\n",
    "group[var] = get_description(*group[var])\n",
    "fig = px.bar(group, y=var, x='SalePrice', color='SalePrice', orientation='h', text_auto=True)\n",
    "fig.update_layout(title='Average Sale Price for Building Type [BldgType]')"
   ]
  },
  {
   "cell_type": "code",
   "execution_count": null,
   "metadata": {},
   "outputs": [
    {
     "data": {
      "application/vnd.plotly.v1+json": {
       "config": {
        "plotlyServerURL": "https://plot.ly"
       },
       "data": [
        {
         "alignmentgroup": "True",
         "hovertemplate": "SalePrice=%{marker.color}<br>HouseStyle=%{y}<extra></extra>",
         "legendgroup": "",
         "marker": {
          "color": [
           110150,
           135074,
           143117,
           157355,
           166703,
           175985,
           210052,
           220000
          ],
          "coloraxis": "coloraxis",
          "pattern": {
           "shape": ""
          }
         },
         "name": "",
         "offsetgroup": "",
         "orientation": "h",
         "showlegend": false,
         "textposition": "auto",
         "texttemplate": "%{x}",
         "type": "bar",
         "x": [
          110150,
          135074,
          143117,
          157355,
          166703,
          175985,
          210052,
          220000
         ],
         "xaxis": "x",
         "y": [
          "One and one-half story: 2nd level unfinished",
          "Split Foyer",
          "One and one-half story: 2nd level finished",
          "Two and one-half story: 2nd level unfinished",
          "Split Level",
          "One story",
          "Two story",
          "Two and one-half story: 2nd level finished"
         ],
         "yaxis": "y"
        }
       ],
       "layout": {
        "barmode": "relative",
        "coloraxis": {
         "colorbar": {
          "title": {
           "text": "SalePrice"
          }
         },
         "colorscale": [
          [
           0,
           "#0d0887"
          ],
          [
           0.1111111111111111,
           "#46039f"
          ],
          [
           0.2222222222222222,
           "#7201a8"
          ],
          [
           0.3333333333333333,
           "#9c179e"
          ],
          [
           0.4444444444444444,
           "#bd3786"
          ],
          [
           0.5555555555555556,
           "#d8576b"
          ],
          [
           0.6666666666666666,
           "#ed7953"
          ],
          [
           0.7777777777777778,
           "#fb9f3a"
          ],
          [
           0.8888888888888888,
           "#fdca26"
          ],
          [
           1,
           "#f0f921"
          ]
         ]
        },
        "legend": {
         "tracegroupgap": 0
        },
        "margin": {
         "t": 60
        },
        "template": {
         "data": {
          "bar": [
           {
            "error_x": {
             "color": "#2a3f5f"
            },
            "error_y": {
             "color": "#2a3f5f"
            },
            "marker": {
             "line": {
              "color": "#E5ECF6",
              "width": 0.5
             },
             "pattern": {
              "fillmode": "overlay",
              "size": 10,
              "solidity": 0.2
             }
            },
            "type": "bar"
           }
          ],
          "barpolar": [
           {
            "marker": {
             "line": {
              "color": "#E5ECF6",
              "width": 0.5
             },
             "pattern": {
              "fillmode": "overlay",
              "size": 10,
              "solidity": 0.2
             }
            },
            "type": "barpolar"
           }
          ],
          "carpet": [
           {
            "aaxis": {
             "endlinecolor": "#2a3f5f",
             "gridcolor": "white",
             "linecolor": "white",
             "minorgridcolor": "white",
             "startlinecolor": "#2a3f5f"
            },
            "baxis": {
             "endlinecolor": "#2a3f5f",
             "gridcolor": "white",
             "linecolor": "white",
             "minorgridcolor": "white",
             "startlinecolor": "#2a3f5f"
            },
            "type": "carpet"
           }
          ],
          "choropleth": [
           {
            "colorbar": {
             "outlinewidth": 0,
             "ticks": ""
            },
            "type": "choropleth"
           }
          ],
          "contour": [
           {
            "colorbar": {
             "outlinewidth": 0,
             "ticks": ""
            },
            "colorscale": [
             [
              0,
              "#0d0887"
             ],
             [
              0.1111111111111111,
              "#46039f"
             ],
             [
              0.2222222222222222,
              "#7201a8"
             ],
             [
              0.3333333333333333,
              "#9c179e"
             ],
             [
              0.4444444444444444,
              "#bd3786"
             ],
             [
              0.5555555555555556,
              "#d8576b"
             ],
             [
              0.6666666666666666,
              "#ed7953"
             ],
             [
              0.7777777777777778,
              "#fb9f3a"
             ],
             [
              0.8888888888888888,
              "#fdca26"
             ],
             [
              1,
              "#f0f921"
             ]
            ],
            "type": "contour"
           }
          ],
          "contourcarpet": [
           {
            "colorbar": {
             "outlinewidth": 0,
             "ticks": ""
            },
            "type": "contourcarpet"
           }
          ],
          "heatmap": [
           {
            "colorbar": {
             "outlinewidth": 0,
             "ticks": ""
            },
            "colorscale": [
             [
              0,
              "#0d0887"
             ],
             [
              0.1111111111111111,
              "#46039f"
             ],
             [
              0.2222222222222222,
              "#7201a8"
             ],
             [
              0.3333333333333333,
              "#9c179e"
             ],
             [
              0.4444444444444444,
              "#bd3786"
             ],
             [
              0.5555555555555556,
              "#d8576b"
             ],
             [
              0.6666666666666666,
              "#ed7953"
             ],
             [
              0.7777777777777778,
              "#fb9f3a"
             ],
             [
              0.8888888888888888,
              "#fdca26"
             ],
             [
              1,
              "#f0f921"
             ]
            ],
            "type": "heatmap"
           }
          ],
          "heatmapgl": [
           {
            "colorbar": {
             "outlinewidth": 0,
             "ticks": ""
            },
            "colorscale": [
             [
              0,
              "#0d0887"
             ],
             [
              0.1111111111111111,
              "#46039f"
             ],
             [
              0.2222222222222222,
              "#7201a8"
             ],
             [
              0.3333333333333333,
              "#9c179e"
             ],
             [
              0.4444444444444444,
              "#bd3786"
             ],
             [
              0.5555555555555556,
              "#d8576b"
             ],
             [
              0.6666666666666666,
              "#ed7953"
             ],
             [
              0.7777777777777778,
              "#fb9f3a"
             ],
             [
              0.8888888888888888,
              "#fdca26"
             ],
             [
              1,
              "#f0f921"
             ]
            ],
            "type": "heatmapgl"
           }
          ],
          "histogram": [
           {
            "marker": {
             "pattern": {
              "fillmode": "overlay",
              "size": 10,
              "solidity": 0.2
             }
            },
            "type": "histogram"
           }
          ],
          "histogram2d": [
           {
            "colorbar": {
             "outlinewidth": 0,
             "ticks": ""
            },
            "colorscale": [
             [
              0,
              "#0d0887"
             ],
             [
              0.1111111111111111,
              "#46039f"
             ],
             [
              0.2222222222222222,
              "#7201a8"
             ],
             [
              0.3333333333333333,
              "#9c179e"
             ],
             [
              0.4444444444444444,
              "#bd3786"
             ],
             [
              0.5555555555555556,
              "#d8576b"
             ],
             [
              0.6666666666666666,
              "#ed7953"
             ],
             [
              0.7777777777777778,
              "#fb9f3a"
             ],
             [
              0.8888888888888888,
              "#fdca26"
             ],
             [
              1,
              "#f0f921"
             ]
            ],
            "type": "histogram2d"
           }
          ],
          "histogram2dcontour": [
           {
            "colorbar": {
             "outlinewidth": 0,
             "ticks": ""
            },
            "colorscale": [
             [
              0,
              "#0d0887"
             ],
             [
              0.1111111111111111,
              "#46039f"
             ],
             [
              0.2222222222222222,
              "#7201a8"
             ],
             [
              0.3333333333333333,
              "#9c179e"
             ],
             [
              0.4444444444444444,
              "#bd3786"
             ],
             [
              0.5555555555555556,
              "#d8576b"
             ],
             [
              0.6666666666666666,
              "#ed7953"
             ],
             [
              0.7777777777777778,
              "#fb9f3a"
             ],
             [
              0.8888888888888888,
              "#fdca26"
             ],
             [
              1,
              "#f0f921"
             ]
            ],
            "type": "histogram2dcontour"
           }
          ],
          "mesh3d": [
           {
            "colorbar": {
             "outlinewidth": 0,
             "ticks": ""
            },
            "type": "mesh3d"
           }
          ],
          "parcoords": [
           {
            "line": {
             "colorbar": {
              "outlinewidth": 0,
              "ticks": ""
             }
            },
            "type": "parcoords"
           }
          ],
          "pie": [
           {
            "automargin": true,
            "type": "pie"
           }
          ],
          "scatter": [
           {
            "fillpattern": {
             "fillmode": "overlay",
             "size": 10,
             "solidity": 0.2
            },
            "type": "scatter"
           }
          ],
          "scatter3d": [
           {
            "line": {
             "colorbar": {
              "outlinewidth": 0,
              "ticks": ""
             }
            },
            "marker": {
             "colorbar": {
              "outlinewidth": 0,
              "ticks": ""
             }
            },
            "type": "scatter3d"
           }
          ],
          "scattercarpet": [
           {
            "marker": {
             "colorbar": {
              "outlinewidth": 0,
              "ticks": ""
             }
            },
            "type": "scattercarpet"
           }
          ],
          "scattergeo": [
           {
            "marker": {
             "colorbar": {
              "outlinewidth": 0,
              "ticks": ""
             }
            },
            "type": "scattergeo"
           }
          ],
          "scattergl": [
           {
            "marker": {
             "colorbar": {
              "outlinewidth": 0,
              "ticks": ""
             }
            },
            "type": "scattergl"
           }
          ],
          "scattermapbox": [
           {
            "marker": {
             "colorbar": {
              "outlinewidth": 0,
              "ticks": ""
             }
            },
            "type": "scattermapbox"
           }
          ],
          "scatterpolar": [
           {
            "marker": {
             "colorbar": {
              "outlinewidth": 0,
              "ticks": ""
             }
            },
            "type": "scatterpolar"
           }
          ],
          "scatterpolargl": [
           {
            "marker": {
             "colorbar": {
              "outlinewidth": 0,
              "ticks": ""
             }
            },
            "type": "scatterpolargl"
           }
          ],
          "scatterternary": [
           {
            "marker": {
             "colorbar": {
              "outlinewidth": 0,
              "ticks": ""
             }
            },
            "type": "scatterternary"
           }
          ],
          "surface": [
           {
            "colorbar": {
             "outlinewidth": 0,
             "ticks": ""
            },
            "colorscale": [
             [
              0,
              "#0d0887"
             ],
             [
              0.1111111111111111,
              "#46039f"
             ],
             [
              0.2222222222222222,
              "#7201a8"
             ],
             [
              0.3333333333333333,
              "#9c179e"
             ],
             [
              0.4444444444444444,
              "#bd3786"
             ],
             [
              0.5555555555555556,
              "#d8576b"
             ],
             [
              0.6666666666666666,
              "#ed7953"
             ],
             [
              0.7777777777777778,
              "#fb9f3a"
             ],
             [
              0.8888888888888888,
              "#fdca26"
             ],
             [
              1,
              "#f0f921"
             ]
            ],
            "type": "surface"
           }
          ],
          "table": [
           {
            "cells": {
             "fill": {
              "color": "#EBF0F8"
             },
             "line": {
              "color": "white"
             }
            },
            "header": {
             "fill": {
              "color": "#C8D4E3"
             },
             "line": {
              "color": "white"
             }
            },
            "type": "table"
           }
          ]
         },
         "layout": {
          "annotationdefaults": {
           "arrowcolor": "#2a3f5f",
           "arrowhead": 0,
           "arrowwidth": 1
          },
          "autotypenumbers": "strict",
          "coloraxis": {
           "colorbar": {
            "outlinewidth": 0,
            "ticks": ""
           }
          },
          "colorscale": {
           "diverging": [
            [
             0,
             "#8e0152"
            ],
            [
             0.1,
             "#c51b7d"
            ],
            [
             0.2,
             "#de77ae"
            ],
            [
             0.3,
             "#f1b6da"
            ],
            [
             0.4,
             "#fde0ef"
            ],
            [
             0.5,
             "#f7f7f7"
            ],
            [
             0.6,
             "#e6f5d0"
            ],
            [
             0.7,
             "#b8e186"
            ],
            [
             0.8,
             "#7fbc41"
            ],
            [
             0.9,
             "#4d9221"
            ],
            [
             1,
             "#276419"
            ]
           ],
           "sequential": [
            [
             0,
             "#0d0887"
            ],
            [
             0.1111111111111111,
             "#46039f"
            ],
            [
             0.2222222222222222,
             "#7201a8"
            ],
            [
             0.3333333333333333,
             "#9c179e"
            ],
            [
             0.4444444444444444,
             "#bd3786"
            ],
            [
             0.5555555555555556,
             "#d8576b"
            ],
            [
             0.6666666666666666,
             "#ed7953"
            ],
            [
             0.7777777777777778,
             "#fb9f3a"
            ],
            [
             0.8888888888888888,
             "#fdca26"
            ],
            [
             1,
             "#f0f921"
            ]
           ],
           "sequentialminus": [
            [
             0,
             "#0d0887"
            ],
            [
             0.1111111111111111,
             "#46039f"
            ],
            [
             0.2222222222222222,
             "#7201a8"
            ],
            [
             0.3333333333333333,
             "#9c179e"
            ],
            [
             0.4444444444444444,
             "#bd3786"
            ],
            [
             0.5555555555555556,
             "#d8576b"
            ],
            [
             0.6666666666666666,
             "#ed7953"
            ],
            [
             0.7777777777777778,
             "#fb9f3a"
            ],
            [
             0.8888888888888888,
             "#fdca26"
            ],
            [
             1,
             "#f0f921"
            ]
           ]
          },
          "colorway": [
           "#636efa",
           "#EF553B",
           "#00cc96",
           "#ab63fa",
           "#FFA15A",
           "#19d3f3",
           "#FF6692",
           "#B6E880",
           "#FF97FF",
           "#FECB52"
          ],
          "font": {
           "color": "#2a3f5f"
          },
          "geo": {
           "bgcolor": "white",
           "lakecolor": "white",
           "landcolor": "#E5ECF6",
           "showlakes": true,
           "showland": true,
           "subunitcolor": "white"
          },
          "hoverlabel": {
           "align": "left"
          },
          "hovermode": "closest",
          "mapbox": {
           "style": "light"
          },
          "paper_bgcolor": "white",
          "plot_bgcolor": "#E5ECF6",
          "polar": {
           "angularaxis": {
            "gridcolor": "white",
            "linecolor": "white",
            "ticks": ""
           },
           "bgcolor": "#E5ECF6",
           "radialaxis": {
            "gridcolor": "white",
            "linecolor": "white",
            "ticks": ""
           }
          },
          "scene": {
           "xaxis": {
            "backgroundcolor": "#E5ECF6",
            "gridcolor": "white",
            "gridwidth": 2,
            "linecolor": "white",
            "showbackground": true,
            "ticks": "",
            "zerolinecolor": "white"
           },
           "yaxis": {
            "backgroundcolor": "#E5ECF6",
            "gridcolor": "white",
            "gridwidth": 2,
            "linecolor": "white",
            "showbackground": true,
            "ticks": "",
            "zerolinecolor": "white"
           },
           "zaxis": {
            "backgroundcolor": "#E5ECF6",
            "gridcolor": "white",
            "gridwidth": 2,
            "linecolor": "white",
            "showbackground": true,
            "ticks": "",
            "zerolinecolor": "white"
           }
          },
          "shapedefaults": {
           "line": {
            "color": "#2a3f5f"
           }
          },
          "ternary": {
           "aaxis": {
            "gridcolor": "white",
            "linecolor": "white",
            "ticks": ""
           },
           "baxis": {
            "gridcolor": "white",
            "linecolor": "white",
            "ticks": ""
           },
           "bgcolor": "#E5ECF6",
           "caxis": {
            "gridcolor": "white",
            "linecolor": "white",
            "ticks": ""
           }
          },
          "title": {
           "x": 0.05
          },
          "xaxis": {
           "automargin": true,
           "gridcolor": "white",
           "linecolor": "white",
           "ticks": "",
           "title": {
            "standoff": 15
           },
           "zerolinecolor": "white",
           "zerolinewidth": 2
          },
          "yaxis": {
           "automargin": true,
           "gridcolor": "white",
           "linecolor": "white",
           "ticks": "",
           "title": {
            "standoff": 15
           },
           "zerolinecolor": "white",
           "zerolinewidth": 2
          }
         }
        },
        "title": {
         "text": "Average Sale Price Vs Proximity to various conditions"
        },
        "xaxis": {
         "anchor": "y",
         "domain": [
          0,
          1
         ],
         "title": {
          "text": "SalePrice"
         }
        },
        "yaxis": {
         "anchor": "x",
         "domain": [
          0,
          1
         ],
         "title": {
          "text": "HouseStyle"
         }
        }
       }
      }
     },
     "metadata": {},
     "output_type": "display_data"
    }
   ],
   "source": [
    "var = 'HouseStyle'\n",
    "group = train.groupby(var)['SalePrice'].mean().round().sort_values().reset_index()\n",
    "group[var] = get_description(*group[var])\n",
    "fig = px.bar(group, y=var, x='SalePrice', color='SalePrice', orientation='h', text_auto=True)\n",
    "fig.update_layout(title='Average Sale Price Vs House Stype [HouseStyle]')"
   ]
  },
  {
   "cell_type": "code",
   "execution_count": null,
   "metadata": {},
   "outputs": [
    {
     "data": {
      "text/plain": [
       "Norm      2889\n",
       "Feedr       13\n",
       "Artery       5\n",
       "PosN         4\n",
       "PosA         4\n",
       "RRNn         2\n",
       "RRAn         1\n",
       "RRAe         1\n",
       "Name: Condition2, dtype: int64"
      ]
     },
     "execution_count": 115,
     "metadata": {},
     "output_type": "execute_result"
    }
   ],
   "source": [
    "X['Condition2'].value_counts(dropna=False)"
   ]
  },
  {
   "attachments": {},
   "cell_type": "markdown",
   "metadata": {},
   "source": [
    "## Preparing the Data:"
   ]
  },
  {
   "attachments": {},
   "cell_type": "markdown",
   "metadata": {},
   "source": [
    "#### Converting 'MSSubClass' to categorical:"
   ]
  },
  {
   "cell_type": "code",
   "execution_count": null,
   "metadata": {},
   "outputs": [
    {
     "data": {
      "text/plain": [
       "Id\n",
       "1        60\n",
       "2        20\n",
       "3        60\n",
       "4        70\n",
       "5        60\n",
       "       ... \n",
       "2915    160\n",
       "2916    160\n",
       "2917     20\n",
       "2918     85\n",
       "2919     60\n",
       "Name: MSSubClass, Length: 2919, dtype: object"
      ]
     },
     "execution_count": 104,
     "metadata": {},
     "output_type": "execute_result"
    }
   ],
   "source": [
    "X['MSSubClass'] = X['MSSubClass'].astype('str')\n",
    "X['MSSubClass']"
   ]
  },
  {
   "attachments": {},
   "cell_type": "markdown",
   "metadata": {},
   "source": [
    "### Missing Values:"
   ]
  },
  {
   "cell_type": "code",
   "execution_count": null,
   "metadata": {},
   "outputs": [
    {
     "data": {
      "text/html": [
       "<div>\n",
       "<style scoped>\n",
       "    .dataframe tbody tr th:only-of-type {\n",
       "        vertical-align: middle;\n",
       "    }\n",
       "\n",
       "    .dataframe tbody tr th {\n",
       "        vertical-align: top;\n",
       "    }\n",
       "\n",
       "    .dataframe thead th {\n",
       "        text-align: right;\n",
       "    }\n",
       "</style>\n",
       "<table border=\"1\" class=\"dataframe\">\n",
       "  <thead>\n",
       "    <tr style=\"text-align: right;\">\n",
       "      <th></th>\n",
       "      <th>NaN Count</th>\n",
       "      <th>Percentage [%]</th>\n",
       "    </tr>\n",
       "    <tr>\n",
       "      <th>Column Name</th>\n",
       "      <th></th>\n",
       "      <th></th>\n",
       "    </tr>\n",
       "  </thead>\n",
       "  <tbody>\n",
       "    <tr>\n",
       "      <th>PoolQC</th>\n",
       "      <td>2909</td>\n",
       "      <td>99.657417</td>\n",
       "    </tr>\n",
       "    <tr>\n",
       "      <th>MiscFeature</th>\n",
       "      <td>2814</td>\n",
       "      <td>96.402878</td>\n",
       "    </tr>\n",
       "    <tr>\n",
       "      <th>Alley</th>\n",
       "      <td>2721</td>\n",
       "      <td>93.216855</td>\n",
       "    </tr>\n",
       "    <tr>\n",
       "      <th>Fence</th>\n",
       "      <td>2348</td>\n",
       "      <td>80.438506</td>\n",
       "    </tr>\n",
       "    <tr>\n",
       "      <th>FireplaceQu</th>\n",
       "      <td>1420</td>\n",
       "      <td>48.646797</td>\n",
       "    </tr>\n",
       "    <tr>\n",
       "      <th>LotFrontage</th>\n",
       "      <td>486</td>\n",
       "      <td>16.649538</td>\n",
       "    </tr>\n",
       "    <tr>\n",
       "      <th>GarageYrBlt</th>\n",
       "      <td>159</td>\n",
       "      <td>5.447071</td>\n",
       "    </tr>\n",
       "    <tr>\n",
       "      <th>GarageFinish</th>\n",
       "      <td>159</td>\n",
       "      <td>5.447071</td>\n",
       "    </tr>\n",
       "    <tr>\n",
       "      <th>GarageQual</th>\n",
       "      <td>159</td>\n",
       "      <td>5.447071</td>\n",
       "    </tr>\n",
       "    <tr>\n",
       "      <th>GarageCond</th>\n",
       "      <td>159</td>\n",
       "      <td>5.447071</td>\n",
       "    </tr>\n",
       "    <tr>\n",
       "      <th>GarageType</th>\n",
       "      <td>157</td>\n",
       "      <td>5.378554</td>\n",
       "    </tr>\n",
       "    <tr>\n",
       "      <th>BsmtExposure</th>\n",
       "      <td>82</td>\n",
       "      <td>2.809181</td>\n",
       "    </tr>\n",
       "    <tr>\n",
       "      <th>BsmtCond</th>\n",
       "      <td>82</td>\n",
       "      <td>2.809181</td>\n",
       "    </tr>\n",
       "    <tr>\n",
       "      <th>BsmtQual</th>\n",
       "      <td>81</td>\n",
       "      <td>2.774923</td>\n",
       "    </tr>\n",
       "    <tr>\n",
       "      <th>BsmtFinType2</th>\n",
       "      <td>80</td>\n",
       "      <td>2.740665</td>\n",
       "    </tr>\n",
       "    <tr>\n",
       "      <th>BsmtFinType1</th>\n",
       "      <td>79</td>\n",
       "      <td>2.706406</td>\n",
       "    </tr>\n",
       "    <tr>\n",
       "      <th>MasVnrType</th>\n",
       "      <td>24</td>\n",
       "      <td>0.822199</td>\n",
       "    </tr>\n",
       "    <tr>\n",
       "      <th>MasVnrArea</th>\n",
       "      <td>23</td>\n",
       "      <td>0.787941</td>\n",
       "    </tr>\n",
       "    <tr>\n",
       "      <th>MSZoning</th>\n",
       "      <td>4</td>\n",
       "      <td>0.137033</td>\n",
       "    </tr>\n",
       "    <tr>\n",
       "      <th>Functional</th>\n",
       "      <td>2</td>\n",
       "      <td>0.068517</td>\n",
       "    </tr>\n",
       "    <tr>\n",
       "      <th>BsmtHalfBath</th>\n",
       "      <td>2</td>\n",
       "      <td>0.068517</td>\n",
       "    </tr>\n",
       "    <tr>\n",
       "      <th>BsmtFullBath</th>\n",
       "      <td>2</td>\n",
       "      <td>0.068517</td>\n",
       "    </tr>\n",
       "    <tr>\n",
       "      <th>Utilities</th>\n",
       "      <td>2</td>\n",
       "      <td>0.068517</td>\n",
       "    </tr>\n",
       "    <tr>\n",
       "      <th>SaleType</th>\n",
       "      <td>1</td>\n",
       "      <td>0.034258</td>\n",
       "    </tr>\n",
       "    <tr>\n",
       "      <th>BsmtFinSF1</th>\n",
       "      <td>1</td>\n",
       "      <td>0.034258</td>\n",
       "    </tr>\n",
       "    <tr>\n",
       "      <th>KitchenQual</th>\n",
       "      <td>1</td>\n",
       "      <td>0.034258</td>\n",
       "    </tr>\n",
       "    <tr>\n",
       "      <th>GarageCars</th>\n",
       "      <td>1</td>\n",
       "      <td>0.034258</td>\n",
       "    </tr>\n",
       "    <tr>\n",
       "      <th>BsmtUnfSF</th>\n",
       "      <td>1</td>\n",
       "      <td>0.034258</td>\n",
       "    </tr>\n",
       "    <tr>\n",
       "      <th>TotalBsmtSF</th>\n",
       "      <td>1</td>\n",
       "      <td>0.034258</td>\n",
       "    </tr>\n",
       "    <tr>\n",
       "      <th>Exterior2nd</th>\n",
       "      <td>1</td>\n",
       "      <td>0.034258</td>\n",
       "    </tr>\n",
       "    <tr>\n",
       "      <th>Exterior1st</th>\n",
       "      <td>1</td>\n",
       "      <td>0.034258</td>\n",
       "    </tr>\n",
       "    <tr>\n",
       "      <th>GarageArea</th>\n",
       "      <td>1</td>\n",
       "      <td>0.034258</td>\n",
       "    </tr>\n",
       "    <tr>\n",
       "      <th>Electrical</th>\n",
       "      <td>1</td>\n",
       "      <td>0.034258</td>\n",
       "    </tr>\n",
       "    <tr>\n",
       "      <th>BsmtFinSF2</th>\n",
       "      <td>1</td>\n",
       "      <td>0.034258</td>\n",
       "    </tr>\n",
       "  </tbody>\n",
       "</table>\n",
       "</div>"
      ],
      "text/plain": [
       "              NaN Count  Percentage [%]\n",
       "Column Name                            \n",
       "PoolQC             2909       99.657417\n",
       "MiscFeature        2814       96.402878\n",
       "Alley              2721       93.216855\n",
       "Fence              2348       80.438506\n",
       "FireplaceQu        1420       48.646797\n",
       "LotFrontage         486       16.649538\n",
       "GarageYrBlt         159        5.447071\n",
       "GarageFinish        159        5.447071\n",
       "GarageQual          159        5.447071\n",
       "GarageCond          159        5.447071\n",
       "GarageType          157        5.378554\n",
       "BsmtExposure         82        2.809181\n",
       "BsmtCond             82        2.809181\n",
       "BsmtQual             81        2.774923\n",
       "BsmtFinType2         80        2.740665\n",
       "BsmtFinType1         79        2.706406\n",
       "MasVnrType           24        0.822199\n",
       "MasVnrArea           23        0.787941\n",
       "MSZoning              4        0.137033\n",
       "Functional            2        0.068517\n",
       "BsmtHalfBath          2        0.068517\n",
       "BsmtFullBath          2        0.068517\n",
       "Utilities             2        0.068517\n",
       "SaleType              1        0.034258\n",
       "BsmtFinSF1            1        0.034258\n",
       "KitchenQual           1        0.034258\n",
       "GarageCars            1        0.034258\n",
       "BsmtUnfSF             1        0.034258\n",
       "TotalBsmtSF           1        0.034258\n",
       "Exterior2nd           1        0.034258\n",
       "Exterior1st           1        0.034258\n",
       "GarageArea            1        0.034258\n",
       "Electrical            1        0.034258\n",
       "BsmtFinSF2            1        0.034258"
      ]
     },
     "execution_count": 105,
     "metadata": {},
     "output_type": "execute_result"
    }
   ],
   "source": [
    "missing_count = X.isna().sum(axis=0)\n",
    "missing_percent = missing_count / len(X) * 100\n",
    "\n",
    "missing_data = pd.DataFrame({\n",
    "    'NaN Count': missing_count,\n",
    "    'Percentage [%]': missing_percent\n",
    "}).sort_values(by='NaN Count', ascending=False)\n",
    "missing_data.index.name = 'Column Name'\n",
    "\n",
    "missing_data = missing_data[missing_data['NaN Count'] > 0]\n",
    "missing_data"
   ]
  },
  {
   "cell_type": "code",
   "execution_count": null,
   "metadata": {},
   "outputs": [
    {
     "data": {
      "text/plain": [
       "MSSubClass         0\n",
       "MSZoning           4\n",
       "LotFrontage      486\n",
       "LotArea            0\n",
       "Street             0\n",
       "Alley           2721\n",
       "LotShape           0\n",
       "LandContour        0\n",
       "Utilities          2\n",
       "LotConfig          0\n",
       "LandSlope          0\n",
       "Neighborhood       0\n",
       "Condition1         0\n",
       "Condition2         0\n",
       "BldgType           0\n",
       "HouseStyle         0\n",
       "dtype: int64"
      ]
     },
     "execution_count": 106,
     "metadata": {},
     "output_type": "execute_result"
    }
   ],
   "source": [
    "# For numerical variables, replace with zero, when the house doesn't have the feature.\n",
    "na_zero = []\n",
    "\n",
    "# For numerical variables, replace with the mean, when the NaN means the value is missing.\n",
    "na_mean = ['LotFrontage'] # median is better\n",
    "\n",
    "# For categorical variables, replace with 'None', when the house doesn't have the feature.\n",
    "na_none = ['Alley']\n",
    "\n",
    "# For categorical variables, replace with the mode (most accuring value), where NaN means value is missing.\n",
    "na_modes = ['MSZoning', 'Utilities']\n",
    "\n",
    "\n",
    "X[feat_set1].isnull().sum()"
   ]
  }
 ],
 "metadata": {
  "kernelspec": {
   "display_name": "base",
   "language": "python",
   "name": "python3"
  },
  "language_info": {
   "codemirror_mode": {
    "name": "ipython",
    "version": 3
   },
   "file_extension": ".py",
   "mimetype": "text/x-python",
   "name": "python",
   "nbconvert_exporter": "python",
   "pygments_lexer": "ipython3",
   "version": "3.10.9"
  },
  "orig_nbformat": 4
 },
 "nbformat": 4,
 "nbformat_minor": 2
}
